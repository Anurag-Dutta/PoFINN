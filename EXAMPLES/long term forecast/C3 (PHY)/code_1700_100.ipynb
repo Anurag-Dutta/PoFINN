{
 "cells": [
  {
   "cell_type": "markdown",
   "metadata": {
    "id": "pCGKeZ2gyuoQ"
   },
   "source": [
    "_Importing Required Libraries_"
   ]
  },
  {
   "cell_type": "code",
   "execution_count": 1,
   "metadata": {
    "colab": {
     "base_uri": "https://localhost:8080/"
    },
    "id": "A-6LN-zXiLcM",
    "outputId": "4de610a4-f8b8-4f49-c6c0-89de299ccedc"
   },
   "outputs": [
    {
     "name": "stdout",
     "output_type": "stream",
     "text": [
      "Requirement already satisfied: hampel in c:\\users\\anurag dutta\\appdata\\local\\packages\\pythonsoftwarefoundation.python.3.9_qbz5n2kfra8p0\\localcache\\local-packages\\python39\\site-packages (0.0.5)\n",
      "Requirement already satisfied: numpy in c:\\users\\anurag dutta\\appdata\\local\\packages\\pythonsoftwarefoundation.python.3.9_qbz5n2kfra8p0\\localcache\\local-packages\\python39\\site-packages (from hampel) (1.26.4)\n",
      "Requirement already satisfied: pandas in c:\\users\\anurag dutta\\appdata\\local\\packages\\pythonsoftwarefoundation.python.3.9_qbz5n2kfra8p0\\localcache\\local-packages\\python39\\site-packages (from hampel) (1.5.2)\n",
      "Requirement already satisfied: python-dateutil>=2.8.1 in c:\\users\\anurag dutta\\appdata\\local\\packages\\pythonsoftwarefoundation.python.3.9_qbz5n2kfra8p0\\localcache\\local-packages\\python39\\site-packages (from pandas->hampel) (2.8.2)\n",
      "Requirement already satisfied: pytz>=2020.1 in c:\\users\\anurag dutta\\appdata\\local\\packages\\pythonsoftwarefoundation.python.3.9_qbz5n2kfra8p0\\localcache\\local-packages\\python39\\site-packages (from pandas->hampel) (2023.3.post1)Note: you may need to restart the kernel to use updated packages.\n",
      "Requirement already satisfied: six>=1.5 in c:\\users\\anurag dutta\\appdata\\local\\packages\\pythonsoftwarefoundation.python.3.9_qbz5n2kfra8p0\\localcache\\local-packages\\python39\\site-packages (from python-dateutil>=2.8.1->pandas->hampel) (1.16.0)\n",
      "\n"
     ]
    },
    {
     "name": "stderr",
     "output_type": "stream",
     "text": [
      "\n",
      "[notice] A new release of pip is available: 24.2 -> 24.3.1\n",
      "[notice] To update, run: C:\\Users\\Anurag Dutta\\AppData\\Local\\Microsoft\\WindowsApps\\PythonSoftwareFoundation.Python.3.9_qbz5n2kfra8p0\\python.exe -m pip install --upgrade pip\n"
     ]
    }
   ],
   "source": [
    "pip install hampel"
   ]
  },
  {
   "cell_type": "code",
   "execution_count": 2,
   "metadata": {
    "id": "By_d9uXpaFvZ"
   },
   "outputs": [],
   "source": [
    "from keras.models import Sequential\n",
    "from keras.layers import Dense\n",
    "from keras.layers import LSTM\n",
    "from keras.layers import Dropout\n",
    "import keras\n",
    "import tensorflow as tf\n",
    "from hampel import hampel\n",
    "import numpy as np\n",
    "import matplotlib.pyplot as plt\n",
    "import pandas as pd\n",
    "from sklearn.preprocessing import MinMaxScaler\n",
    "from sklearn.metrics import mean_squared_error, mean_absolute_error\n",
    "from math import sqrt\n",
    "from matplotlib import pyplot\n",
    "from numpy import array"
   ]
  },
  {
   "cell_type": "markdown",
   "metadata": {
    "id": "JyOjBMFayuoR"
   },
   "source": [
    "## Pretraining"
   ]
  },
  {
   "cell_type": "markdown",
   "metadata": {
    "id": "-5QqIY_GyuoR"
   },
   "source": [
    "The `capa_intermittency.dat` feeds the model with the dynamics of the Capacitor"
   ]
  },
  {
   "cell_type": "code",
   "execution_count": 3,
   "metadata": {
    "id": "9dV4a8yfyuoR"
   },
   "outputs": [],
   "source": [
    "data = np.genfromtxt('capa_intermittency.dat')\n",
    "training_set = pd.DataFrame(data).reset_index(drop=True)\n",
    "training_set = training_set.iloc[:,0]"
   ]
  },
  {
   "cell_type": "markdown",
   "metadata": {
    "id": "i7easoxByuoR"
   },
   "source": [
    "## Computing the Gradient"
   ]
  },
  {
   "cell_type": "markdown",
   "metadata": {
    "id": "5SnyolJTyuoR"
   },
   "source": [
    "_Calculating the value of_ $\\frac{dx}{dt}$"
   ]
  },
  {
   "cell_type": "code",
   "execution_count": 4,
   "metadata": {
    "colab": {
     "base_uri": "https://localhost:8080/"
    },
    "id": "wmIbVfIvyuoR",
    "outputId": "aa4e3136-c854-465d-d2e9-81cfd546e440"
   },
   "outputs": [
    {
     "name": "stdout",
     "output_type": "stream",
     "text": [
      "1.0\n",
      "1        0.000298\n",
      "2        0.000298\n",
      "3        0.000297\n",
      "4        0.000297\n",
      "5        0.000297\n",
      "           ...   \n",
      "9996     0.000018\n",
      "9997     0.000018\n",
      "9998     0.000018\n",
      "9999     0.000018\n",
      "10000    0.000018\n",
      "Name: 0, Length: 10000, dtype: float64\n"
     ]
    }
   ],
   "source": [
    "t_diff = 1\n",
    "print(training_set.max())\n",
    "gradient_t = (training_set.diff()/t_diff).iloc[1:] # dx/dt\n",
    "print(gradient_t)"
   ]
  },
  {
   "cell_type": "markdown",
   "metadata": {
    "id": "_2eVeeoxyuoS"
   },
   "source": [
    "## Loading Datasets"
   ]
  },
  {
   "cell_type": "code",
   "execution_count": 5,
   "metadata": {
    "id": "0J-NKyIEyuoS"
   },
   "outputs": [
    {
     "data": {
      "text/plain": [
       "0       91.100000\n",
       "1       90.875910\n",
       "2       90.651821\n",
       "3       90.427731\n",
       "4       90.203641\n",
       "          ...    \n",
       "1795    71.278315\n",
       "1796    71.273646\n",
       "1797    71.268978\n",
       "1798    71.264309\n",
       "1799    71.259641\n",
       "Name: C3, Length: 1800, dtype: float64"
      ]
     },
     "execution_count": 5,
     "metadata": {},
     "output_type": "execute_result"
    }
   ],
   "source": [
    "data = pd.read_csv(\"c3_interpolated_1700_100.csv\")\n",
    "training_set = data.iloc[:, 1]\n",
    "training_set"
   ]
  },
  {
   "cell_type": "code",
   "execution_count": 6,
   "metadata": {
    "colab": {
     "base_uri": "https://localhost:8080/"
    },
    "id": "-CbNUhJ74UqF",
    "outputId": "20f562d8-8247-49cc-b9c3-00eca5e13e2d"
   },
   "outputs": [
    {
     "data": {
      "text/plain": [
       "0       91.100000\n",
       "1       90.875910\n",
       "2       90.651821\n",
       "3       90.427731\n",
       "4       90.203641\n",
       "          ...    \n",
       "1695     0.000000\n",
       "1696     0.000000\n",
       "1697     0.000000\n",
       "1698     0.000000\n",
       "1699     0.000000\n",
       "Name: C3, Length: 1700, dtype: float64"
      ]
     },
     "execution_count": 6,
     "metadata": {},
     "output_type": "execute_result"
    }
   ],
   "source": [
    "test = training_set.tail(100)\n",
    "test\n",
    "training_set = training_set.head(1700)\n",
    "training_set"
   ]
  },
  {
   "cell_type": "code",
   "execution_count": 7,
   "metadata": {
    "colab": {
     "base_uri": "https://localhost:8080/"
    },
    "id": "X0TwTcq0yuoS",
    "outputId": "37252ed8-d88e-4044-fa7a-922411990b5b"
   },
   "outputs": [
    {
     "name": "stdout",
     "output_type": "stream",
     "text": [
      "0       0.000298\n",
      "1       0.000298\n",
      "2       0.000297\n",
      "3       0.000297\n",
      "4       0.000297\n",
      "          ...   \n",
      "9995    0.000018\n",
      "9996    0.000018\n",
      "9997    0.000018\n",
      "9998    0.000018\n",
      "9999    0.000018\n",
      "Name: 0, Length: 10000, dtype: float64\n"
     ]
    }
   ],
   "source": [
    "training_set = training_set.reset_index(drop=True)\n",
    "gradient_t = gradient_t.reset_index(drop=True)\n",
    "print(gradient_t)"
   ]
  },
  {
   "cell_type": "code",
   "execution_count": 8,
   "metadata": {
    "id": "O2biznZQyuoS"
   },
   "outputs": [],
   "source": [
    "df = pd.concat((training_set, gradient_t), axis=1)\n",
    "df.columns = ['y_t', 'grad_t']"
   ]
  },
  {
   "cell_type": "code",
   "execution_count": 9,
   "metadata": {
    "colab": {
     "base_uri": "https://localhost:8080/",
     "height": 423
    },
    "id": "sk_a5v3tyuoS",
    "outputId": "17563625-e550-45ae-faab-fafa353e44da"
   },
   "outputs": [
    {
     "data": {
      "text/html": [
       "<div>\n",
       "<style scoped>\n",
       "    .dataframe tbody tr th:only-of-type {\n",
       "        vertical-align: middle;\n",
       "    }\n",
       "\n",
       "    .dataframe tbody tr th {\n",
       "        vertical-align: top;\n",
       "    }\n",
       "\n",
       "    .dataframe thead th {\n",
       "        text-align: right;\n",
       "    }\n",
       "</style>\n",
       "<table border=\"1\" class=\"dataframe\">\n",
       "  <thead>\n",
       "    <tr style=\"text-align: right;\">\n",
       "      <th></th>\n",
       "      <th>y_t</th>\n",
       "      <th>grad_t</th>\n",
       "    </tr>\n",
       "  </thead>\n",
       "  <tbody>\n",
       "    <tr>\n",
       "      <th>0</th>\n",
       "      <td>91.100000</td>\n",
       "      <td>0.000298</td>\n",
       "    </tr>\n",
       "    <tr>\n",
       "      <th>1</th>\n",
       "      <td>90.875910</td>\n",
       "      <td>0.000298</td>\n",
       "    </tr>\n",
       "    <tr>\n",
       "      <th>2</th>\n",
       "      <td>90.651821</td>\n",
       "      <td>0.000297</td>\n",
       "    </tr>\n",
       "    <tr>\n",
       "      <th>3</th>\n",
       "      <td>90.427731</td>\n",
       "      <td>0.000297</td>\n",
       "    </tr>\n",
       "    <tr>\n",
       "      <th>4</th>\n",
       "      <td>90.203641</td>\n",
       "      <td>0.000297</td>\n",
       "    </tr>\n",
       "    <tr>\n",
       "      <th>...</th>\n",
       "      <td>...</td>\n",
       "      <td>...</td>\n",
       "    </tr>\n",
       "    <tr>\n",
       "      <th>9995</th>\n",
       "      <td>NaN</td>\n",
       "      <td>0.000018</td>\n",
       "    </tr>\n",
       "    <tr>\n",
       "      <th>9996</th>\n",
       "      <td>NaN</td>\n",
       "      <td>0.000018</td>\n",
       "    </tr>\n",
       "    <tr>\n",
       "      <th>9997</th>\n",
       "      <td>NaN</td>\n",
       "      <td>0.000018</td>\n",
       "    </tr>\n",
       "    <tr>\n",
       "      <th>9998</th>\n",
       "      <td>NaN</td>\n",
       "      <td>0.000018</td>\n",
       "    </tr>\n",
       "    <tr>\n",
       "      <th>9999</th>\n",
       "      <td>NaN</td>\n",
       "      <td>0.000018</td>\n",
       "    </tr>\n",
       "  </tbody>\n",
       "</table>\n",
       "<p>10000 rows × 2 columns</p>\n",
       "</div>"
      ],
      "text/plain": [
       "            y_t    grad_t\n",
       "0     91.100000  0.000298\n",
       "1     90.875910  0.000298\n",
       "2     90.651821  0.000297\n",
       "3     90.427731  0.000297\n",
       "4     90.203641  0.000297\n",
       "...         ...       ...\n",
       "9995        NaN  0.000018\n",
       "9996        NaN  0.000018\n",
       "9997        NaN  0.000018\n",
       "9998        NaN  0.000018\n",
       "9999        NaN  0.000018\n",
       "\n",
       "[10000 rows x 2 columns]"
      ]
     },
     "execution_count": 9,
     "metadata": {},
     "output_type": "execute_result"
    }
   ],
   "source": [
    "df"
   ]
  },
  {
   "cell_type": "markdown",
   "metadata": {
    "id": "-5esyHu5aFvg"
   },
   "source": [
    "## Plot of the External Forcing from Chaotic Differential Equation"
   ]
  },
  {
   "cell_type": "code",
   "execution_count": 10,
   "metadata": {
    "colab": {
     "base_uri": "https://localhost:8080/",
     "height": 447
    },
    "id": "hGnE43tOh-4p",
    "outputId": "fc396503-b624-4fa5-dfbe-f460207405c6"
   },
   "outputs": [
    {
     "data": {
      "text/plain": [
       "<Axes: >"
      ]
     },
     "execution_count": 10,
     "metadata": {},
     "output_type": "execute_result"
    },
    {
     "data": {
      "image/png": "[encoded data removed]",
      "text/plain": [
       "<Figure size 432x288 with 1 Axes>"
      ]
     },
     "metadata": {
      "needs_background": "light"
     },
     "output_type": "display_data"
    }
   ],
   "source": [
    "df.iloc[:, 0].plot()"
   ]
  },
  {
   "cell_type": "code",
   "execution_count": 11,
   "metadata": {
    "colab": {
     "base_uri": "https://localhost:8080/",
     "height": 447
    },
    "id": "ym4xWUUxaFvg",
    "outputId": "ae6a3495-8ce9-437e-ba81-3ed31deedeae"
   },
   "outputs": [
    {
     "name": "stderr",
     "output_type": "stream",
     "text": [
      "C:\\Users\\Anurag Dutta\\AppData\\Local\\Packages\\PythonSoftwareFoundation.Python.3.9_qbz5n2kfra8p0\\LocalCache\\local-packages\\Python39\\site-packages\\pandas\\core\\arraylike.py:402: RuntimeWarning: divide by zero encountered in log\n",
      "  result = getattr(ufunc, method)(*inputs, **kwargs)\n"
     ]
    },
    {
     "data": {
      "text/plain": [
       "<Axes: >"
      ]
     },
     "execution_count": 11,
     "metadata": {},
     "output_type": "execute_result"
    },
    {
     "data": {
      "image/png": "[encoded data removed]",
      "text/plain": [
       "<Figure size 432x288 with 1 Axes>"
      ]
     },
     "metadata": {
      "needs_background": "light"
     },
     "output_type": "display_data"
    }
   ],
   "source": [
    "import numpy as np\n",
    "c0 = 88.0403  # Value for C0\n",
    "K0 = -0.0012  # Value for K0\n",
    "K1 = -0.0001  # Value for K1\n",
    "a = 0.0000    # Value for a\n",
    "b = 0.0120    # Value for b\n",
    "c = 2.0334    # Value for c\n",
    "\n",
    "L = np.minimum(c0, (df.iloc[:, 1] - (df.iloc[:, 0] * (K0 - K1 * (9 * a * np.log(df.iloc[:, 0] / c0) / (K0 - K1 * c)**2 + 4 * b * np.log(df.iloc[:, 0] / c0) / (K0 - K1 * c) + c)))))\n",
    "L.plot()"
   ]
  },
  {
   "cell_type": "markdown",
   "metadata": {
    "id": "9VyEywnwaFvh"
   },
   "source": [
    "## Preprocessing the data into supervised learning"
   ]
  },
  {
   "cell_type": "code",
   "execution_count": 12,
   "metadata": {
    "id": "6V9dXqzdaFvh"
   },
   "outputs": [],
   "source": [
    "# split a sequence into samples\n",
    "def Supervised(data, n_in=1, n_out=1, dropnan=True):\n",
    "    n_vars = 1 if type(data) is list else data.shape[1]\n",
    "    df = pd.DataFrame(data)\n",
    "    cols, names = list(), list()\n",
    "    # input sequence (t-n_in, ... t-1)\n",
    "    for i in range(n_in, 0, -1):\n",
    "        cols.append(df.shift(i))\n",
    "        names += [('var%d(t-%d)' % (j+1, i)) for j in range(n_vars)]\n",
    "    # forecast sequence (t, t+1, ... t+n_out)\n",
    "    for i in range(0, n_out):\n",
    "      cols.append(df.shift(-i))\n",
    "      if i == 0:\n",
    "        names += [('var%d(t)' % (j+1)) for j in range(n_vars)]\n",
    "      else:\n",
    "        names += [('var%d(t+%d)' % (j+1, i)) for j in range(n_vars)]\n",
    "    # put it all together\n",
    "    agg = pd.concat(cols, axis=1)\n",
    "    agg.columns = names\n",
    "    # drop rows with NaN values\n",
    "    if dropnan:\n",
    "       agg.dropna(inplace=True)\n",
    "    return agg"
   ]
  },
  {
   "cell_type": "code",
   "execution_count": 13,
   "metadata": {
    "colab": {
     "base_uri": "https://localhost:8080/"
    },
    "id": "CrzSrT1HnyfH",
    "outputId": "7e75f928-3e47-499d-eac1-51908015ef78"
   },
   "outputs": [
    {
     "name": "stdout",
     "output_type": "stream",
     "text": [
      "     var1(t-350)  var1(t-349)  var1(t-348)  var1(t-347)  var1(t-346)  \\\n",
      "350    91.100000    90.875910    90.651821    90.427731    90.203641   \n",
      "351    90.875910    90.651821    90.427731    90.203641    89.979552   \n",
      "352    90.651821    90.427731    90.203641    89.979552    89.755462   \n",
      "353    90.427731    90.203641    89.979552    89.755462    89.531373   \n",
      "354    90.203641    89.979552    89.755462    89.531373    89.307283   \n",
      "\n",
      "     var1(t-345)  var1(t-344)  var1(t-343)  var1(t-342)  var1(t-341)  ...  \\\n",
      "350    89.979552    89.755462    89.531373    89.307283    89.094118  ...   \n",
      "351    89.755462    89.531373    89.307283    89.094118    89.015686  ...   \n",
      "352    89.531373    89.307283    89.094118    89.015686    88.937255  ...   \n",
      "353    89.307283    89.094118    89.015686    88.937255    88.858824  ...   \n",
      "354    89.094118    89.015686    88.937255    88.858824    88.780392  ...   \n",
      "\n",
      "     var1(t+95)  var2(t+95)  var1(t+96)  var2(t+96)  var1(t+97)  var2(t+97)  \\\n",
      "350   81.423343    0.000263   81.404669    0.000263   81.385994    0.000263   \n",
      "351   81.404669    0.000263   81.385994    0.000263   81.367320    0.000262   \n",
      "352   81.385994    0.000263   81.367320    0.000262   81.348646    0.000262   \n",
      "353   81.367320    0.000262   81.348646    0.000262   81.329972    0.000262   \n",
      "354   81.348646    0.000262   81.329972    0.000262   81.311298    0.000262   \n",
      "\n",
      "     var1(t+98)  var2(t+98)  var1(t+99)  var2(t+99)  \n",
      "350   81.367320    0.000262   81.348646    0.000262  \n",
      "351   81.348646    0.000262   81.329972    0.000262  \n",
      "352   81.329972    0.000262   81.311298    0.000262  \n",
      "353   81.311298    0.000262   81.292624    0.000262  \n",
      "354   81.292624    0.000262   81.273950    0.000262  \n",
      "\n",
      "[5 rows x 551 columns]\n",
      "Index(['var1(t-350)', 'var1(t-349)', 'var1(t-348)', 'var1(t-347)',\n",
      "       'var1(t-346)', 'var1(t-345)', 'var1(t-344)', 'var1(t-343)',\n",
      "       'var1(t-342)', 'var1(t-341)',\n",
      "       ...\n",
      "       'var1(t+95)', 'var2(t+95)', 'var1(t+96)', 'var2(t+96)', 'var1(t+97)',\n",
      "       'var2(t+97)', 'var1(t+98)', 'var2(t+98)', 'var1(t+99)', 'var2(t+99)'],\n",
      "      dtype='object', length=551)\n"
     ]
    }
   ],
   "source": [
    "data = Supervised(df.values, n_in = 350, n_out = 100)\n",
    "\n",
    "\n",
    "cols_to_drop = []\n",
    "for i in range(2, 351):\n",
    "    cols_to_drop.extend([f'var2(t-{i})'])\n",
    "\n",
    "data.drop(cols_to_drop, axis=1, inplace=True)\n",
    "\n",
    "print(data.head())\n",
    "print(data.columns)"
   ]
  },
  {
   "cell_type": "code",
   "execution_count": 14,
   "metadata": {
    "id": "AfPf60oy6Pe4"
   },
   "outputs": [],
   "source": [
    "train = np.array(data[0:len(data)-1])\n",
    "forecast = np.array(data.tail(1))"
   ]
  },
  {
   "cell_type": "code",
   "execution_count": 15,
   "metadata": {
    "id": "WSAafzI37KiT"
   },
   "outputs": [],
   "source": [
    "trainy = train[:,-300:]\n",
    "trainX = train[:,:-300]"
   ]
  },
  {
   "cell_type": "code",
   "execution_count": 16,
   "metadata": {
    "id": "2SrOqVJA7f50"
   },
   "outputs": [],
   "source": [
    "forecasty = forecast[:,-300:]\n",
    "forecastX = forecast[:,:-300]"
   ]
  },
  {
   "cell_type": "code",
   "execution_count": 17,
   "metadata": {
    "colab": {
     "base_uri": "https://localhost:8080/"
    },
    "id": "Qno_k8Nw7saY",
    "outputId": "c4a88db5-d8c6-489f-cdb2-06b24e293cff"
   },
   "outputs": [
    {
     "name": "stdout",
     "output_type": "stream",
     "text": [
      "(1250, 1, 251) (1250, 300) (1, 1, 251)\n"
     ]
    }
   ],
   "source": [
    "trainX = trainX.reshape((trainX.shape[0], 1, trainX.shape[1]))\n",
    "forecastX = forecastX.reshape((forecastX.shape[0], 1, forecastX.shape[1]))\n",
    "print(trainX.shape, trainy.shape, forecastX.shape)"
   ]
  },
  {
   "cell_type": "code",
   "execution_count": 18,
   "metadata": {
    "colab": {
     "base_uri": "https://localhost:8080/"
    },
    "id": "b1Jp2DvNuNFx",
    "outputId": "d0e5b3c4-64f1-438c-eade-8dfeaac8e285"
   },
   "outputs": [
    {
     "name": "stdout",
     "output_type": "stream",
     "text": [
      "Epoch 1/500\n",
      "16/16 [==============================] - 2s 31ms/step - loss: 5932.7285 - val_loss: 5159.1216\n",
      "Epoch 2/500\n",
      "16/16 [==============================] - 0s 5ms/step - loss: 5862.8271 - val_loss: 5111.4775\n",
      "Epoch 3/500\n",
      "16/16 [==============================] - 0s 4ms/step - loss: 5812.0068 - val_loss: 5064.0122\n",
      "Epoch 4/500\n",
      "16/16 [==============================] - 0s 5ms/step - loss: 5761.4697 - val_loss: 5016.8843\n",
      "Epoch 5/500\n",
      "16/16 [==============================] - 0s 5ms/step - loss: 5711.2886 - val_loss: 4970.1060\n",
      "Epoch 6/500\n",
      "16/16 [==============================] - 0s 3ms/step - loss: 5661.4590 - val_loss: 4923.6670\n",
      "Epoch 7/500\n",
      "16/16 [==============================] - 0s 4ms/step - loss: 5611.9761 - val_loss: 4877.5605\n",
      "Epoch 8/500\n",
      "16/16 [==============================] - 0s 4ms/step - loss: 5562.8281 - val_loss: 4831.7788\n",
      "Epoch 9/500\n",
      "16/16 [==============================] - 0s 4ms/step - loss: 5514.0127 - val_loss: 4786.3193\n",
      "Epoch 10/500\n",
      "16/16 [==============================] - 0s 4ms/step - loss: 5465.5244 - val_loss: 4741.1787\n",
      "Epoch 11/500\n",
      "16/16 [==============================] - 0s 4ms/step - loss: 5417.3589 - val_loss: 4696.3521\n",
      "Epoch 12/500\n",
      "16/16 [==============================] - 0s 4ms/step - loss: 5369.2993 - val_loss: 4650.3682\n",
      "Epoch 13/500\n",
      "16/16 [==============================] - 0s 4ms/step - loss: 5318.2500 - val_loss: 4601.6265\n",
      "Epoch 14/500\n",
      "16/16 [==============================] - 0s 4ms/step - loss: 5266.3325 - val_loss: 4553.6699\n",
      "Epoch 15/500\n",
      "16/16 [==============================] - 0s 4ms/step - loss: 5215.3960 - val_loss: 4506.6362\n",
      "Epoch 16/500\n",
      "16/16 [==============================] - 0s 5ms/step - loss: 5165.3359 - val_loss: 4460.3359\n",
      "Epoch 17/500\n",
      "16/16 [==============================] - 0s 4ms/step - loss: 5115.9780 - val_loss: 4414.6377\n",
      "Epoch 18/500\n",
      "16/16 [==============================] - 0s 10ms/step - loss: 5067.2065 - val_loss: 4369.4614\n",
      "Epoch 19/500\n",
      "16/16 [==============================] - 0s 4ms/step - loss: 5018.9512 - val_loss: 4324.7559\n",
      "Epoch 20/500\n",
      "16/16 [==============================] - 0s 4ms/step - loss: 4971.1670 - val_loss: 4280.4868\n",
      "Epoch 21/500\n",
      "16/16 [==============================] - 0s 4ms/step - loss: 4923.8203 - val_loss: 4236.6279\n",
      "Epoch 22/500\n",
      "16/16 [==============================] - 0s 4ms/step - loss: 4876.8906 - val_loss: 4193.1616\n",
      "Epoch 23/500\n",
      "16/16 [==============================] - 0s 4ms/step - loss: 4830.3569 - val_loss: 4150.0732\n",
      "Epoch 24/500\n",
      "16/16 [==============================] - 0s 4ms/step - loss: 4784.2070 - val_loss: 4107.3516\n",
      "Epoch 25/500\n",
      "16/16 [==============================] - 0s 4ms/step - loss: 4738.4312 - val_loss: 4064.9863\n",
      "Epoch 26/500\n",
      "16/16 [==============================] - 0s 4ms/step - loss: 4693.0171 - val_loss: 4022.9702\n",
      "Epoch 27/500\n",
      "16/16 [==============================] - 0s 4ms/step - loss: 4647.9590 - val_loss: 3981.2959\n",
      "Epoch 28/500\n",
      "16/16 [==============================] - 0s 5ms/step - loss: 4603.2500 - val_loss: 3939.9585\n",
      "Epoch 29/500\n",
      "16/16 [==============================] - 0s 4ms/step - loss: 4558.8843 - val_loss: 3898.9519\n",
      "Epoch 30/500\n",
      "16/16 [==============================] - 0s 5ms/step - loss: 4514.8555 - val_loss: 3858.2717\n",
      "Epoch 31/500\n",
      "16/16 [==============================] - 0s 3ms/step - loss: 4471.1606 - val_loss: 3817.9146\n",
      "Epoch 32/500\n",
      "16/16 [==============================] - 0s 4ms/step - loss: 4422.0693 - val_loss: 3765.0210\n",
      "Epoch 33/500\n",
      "16/16 [==============================] - 0s 4ms/step - loss: 4367.9683 - val_loss: 3719.3743\n",
      "Epoch 34/500\n",
      "16/16 [==============================] - 0s 4ms/step - loss: 4319.2739 - val_loss: 3674.9854\n",
      "Epoch 35/500\n",
      "16/16 [==============================] - 0s 4ms/step - loss: 4271.9229 - val_loss: 3631.7468\n",
      "Epoch 36/500\n",
      "16/16 [==============================] - 0s 4ms/step - loss: 4225.6592 - val_loss: 3589.3960\n",
      "Epoch 37/500\n",
      "16/16 [==============================] - 0s 4ms/step - loss: 4180.2441 - val_loss: 3547.7620\n",
      "Epoch 38/500\n",
      "16/16 [==============================] - 0s 4ms/step - loss: 4135.5288 - val_loss: 3506.7395\n",
      "Epoch 39/500\n",
      "16/16 [==============================] - 0s 5ms/step - loss: 4091.4211 - val_loss: 3466.2600\n",
      "Epoch 40/500\n",
      "16/16 [==============================] - 0s 4ms/step - loss: 4047.8557 - val_loss: 3426.2754\n",
      "Epoch 41/500\n",
      "16/16 [==============================] - 0s 5ms/step - loss: 4004.7908 - val_loss: 3386.7527\n",
      "Epoch 42/500\n",
      "16/16 [==============================] - 0s 4ms/step - loss: 3962.1921 - val_loss: 3347.6631\n",
      "Epoch 43/500\n",
      "16/16 [==============================] - 0s 4ms/step - loss: 3920.0339 - val_loss: 3308.9880\n",
      "Epoch 44/500\n",
      "16/16 [==============================] - 0s 5ms/step - loss: 3878.2979 - val_loss: 3270.7102\n",
      "Epoch 45/500\n",
      "16/16 [==============================] - 0s 4ms/step - loss: 3836.9663 - val_loss: 3232.8154\n",
      "Epoch 46/500\n",
      "16/16 [==============================] - 0s 5ms/step - loss: 3796.0259 - val_loss: 3195.2927\n",
      "Epoch 47/500\n",
      "16/16 [==============================] - 0s 4ms/step - loss: 3755.4666 - val_loss: 3158.1323\n",
      "Epoch 48/500\n",
      "16/16 [==============================] - 0s 4ms/step - loss: 3715.2764 - val_loss: 3121.3240\n",
      "Epoch 49/500\n",
      "16/16 [==============================] - 0s 4ms/step - loss: 3675.4470 - val_loss: 3084.8621\n",
      "Epoch 50/500\n",
      "16/16 [==============================] - 0s 5ms/step - loss: 3635.9719 - val_loss: 3048.7388\n",
      "Epoch 51/500\n",
      "16/16 [==============================] - 0s 5ms/step - loss: 3596.8440 - val_loss: 3012.9495\n",
      "Epoch 52/500\n",
      "16/16 [==============================] - 0s 4ms/step - loss: 3558.0576 - val_loss: 2977.4868\n",
      "Epoch 53/500\n",
      "16/16 [==============================] - 0s 4ms/step - loss: 3519.6060 - val_loss: 2942.3469\n",
      "Epoch 54/500\n",
      "16/16 [==============================] - 0s 4ms/step - loss: 3481.4849 - val_loss: 2907.5249\n",
      "Epoch 55/500\n",
      "16/16 [==============================] - 0s 4ms/step - loss: 3443.6892 - val_loss: 2873.0164\n",
      "Epoch 56/500\n",
      "16/16 [==============================] - 0s 10ms/step - loss: 3406.2153 - val_loss: 2838.8174\n",
      "Epoch 57/500\n",
      "16/16 [==============================] - 0s 5ms/step - loss: 3369.0586 - val_loss: 2804.9248\n",
      "Epoch 58/500\n",
      "16/16 [==============================] - 0s 4ms/step - loss: 3332.2151 - val_loss: 2771.3342\n",
      "Epoch 59/500\n",
      "16/16 [==============================] - 0s 5ms/step - loss: 3295.6816 - val_loss: 2738.0435\n",
      "Epoch 60/500\n",
      "16/16 [==============================] - 0s 4ms/step - loss: 3259.4556 - val_loss: 2705.0486\n",
      "Epoch 61/500\n",
      "16/16 [==============================] - 0s 4ms/step - loss: 3223.5325 - val_loss: 2672.3467\n",
      "Epoch 62/500\n",
      "16/16 [==============================] - 0s 5ms/step - loss: 3187.9099 - val_loss: 2639.9355\n",
      "Epoch 63/500\n",
      "16/16 [==============================] - 0s 6ms/step - loss: 3152.5854 - val_loss: 2607.8115\n",
      "Epoch 64/500\n",
      "16/16 [==============================] - 0s 5ms/step - loss: 3117.5559 - val_loss: 2575.9729\n",
      "Epoch 65/500\n",
      "16/16 [==============================] - 0s 4ms/step - loss: 3082.8188 - val_loss: 2544.4175\n",
      "Epoch 66/500\n",
      "16/16 [==============================] - 0s 4ms/step - loss: 3048.3711 - val_loss: 2513.1404\n",
      "Epoch 67/500\n",
      "16/16 [==============================] - 0s 4ms/step - loss: 3014.2104 - val_loss: 2482.1426\n",
      "Epoch 68/500\n",
      "16/16 [==============================] - 0s 5ms/step - loss: 2980.3345 - val_loss: 2451.4189\n",
      "Epoch 69/500\n",
      "16/16 [==============================] - 0s 4ms/step - loss: 2946.7419 - val_loss: 2420.9700\n",
      "Epoch 70/500\n",
      "16/16 [==============================] - 0s 4ms/step - loss: 2913.4294 - val_loss: 2390.7915\n",
      "Epoch 71/500\n",
      "16/16 [==============================] - 0s 4ms/step - loss: 2880.3955 - val_loss: 2360.8826\n",
      "Epoch 72/500\n",
      "16/16 [==============================] - 0s 4ms/step - loss: 2847.6377 - val_loss: 2331.2405\n",
      "Epoch 73/500\n",
      "16/16 [==============================] - 0s 5ms/step - loss: 2815.1536 - val_loss: 2301.8640\n",
      "Epoch 74/500\n",
      "16/16 [==============================] - 0s 4ms/step - loss: 2782.9414 - val_loss: 2272.7498\n",
      "Epoch 75/500\n",
      "16/16 [==============================] - 0s 4ms/step - loss: 2750.9995 - val_loss: 2243.8977\n",
      "Epoch 76/500\n",
      "16/16 [==============================] - 0s 4ms/step - loss: 2719.3262 - val_loss: 2215.3047\n",
      "Epoch 77/500\n",
      "16/16 [==============================] - 0s 4ms/step - loss: 2687.9189 - val_loss: 2186.9695\n",
      "Epoch 78/500\n",
      "16/16 [==============================] - 0s 5ms/step - loss: 2656.7766 - val_loss: 2158.8899\n",
      "Epoch 79/500\n",
      "16/16 [==============================] - 0s 6ms/step - loss: 2625.8970 - val_loss: 2131.0649\n",
      "Epoch 80/500\n",
      "16/16 [==============================] - 0s 6ms/step - loss: 2595.2786 - val_loss: 2103.4922\n",
      "Epoch 81/500\n",
      "16/16 [==============================] - 0s 4ms/step - loss: 2564.9187 - val_loss: 2076.1707\n",
      "Epoch 82/500\n",
      "16/16 [==============================] - 0s 6ms/step - loss: 2534.8171 - val_loss: 2049.0984\n",
      "Epoch 83/500\n",
      "16/16 [==============================] - 0s 4ms/step - loss: 2504.9717 - val_loss: 2022.2731\n",
      "Epoch 84/500\n",
      "16/16 [==============================] - 0s 5ms/step - loss: 2475.3806 - val_loss: 1995.6942\n",
      "Epoch 85/500\n",
      "16/16 [==============================] - 0s 5ms/step - loss: 2446.0417 - val_loss: 1969.3589\n",
      "Epoch 86/500\n",
      "16/16 [==============================] - 0s 6ms/step - loss: 2416.9536 - val_loss: 1943.2670\n",
      "Epoch 87/500\n",
      "16/16 [==============================] - 0s 4ms/step - loss: 2388.1152 - val_loss: 1917.4158\n",
      "Epoch 88/500\n",
      "16/16 [==============================] - 0s 6ms/step - loss: 2359.5244 - val_loss: 1891.8048\n",
      "Epoch 89/500\n",
      "16/16 [==============================] - 0s 5ms/step - loss: 2331.1804 - val_loss: 1866.4313\n",
      "Epoch 90/500\n",
      "16/16 [==============================] - 0s 5ms/step - loss: 2303.0815 - val_loss: 1841.2949\n",
      "Epoch 91/500\n",
      "16/16 [==============================] - 0s 5ms/step - loss: 2275.2258 - val_loss: 1816.3931\n",
      "Epoch 92/500\n",
      "16/16 [==============================] - 0s 10ms/step - loss: 2247.6116 - val_loss: 1791.7252\n",
      "Epoch 93/500\n",
      "16/16 [==============================] - 0s 6ms/step - loss: 2220.2375 - val_loss: 1767.2903\n",
      "Epoch 94/500\n",
      "16/16 [==============================] - 0s 5ms/step - loss: 2193.1030 - val_loss: 1743.0853\n",
      "Epoch 95/500\n",
      "16/16 [==============================] - 0s 6ms/step - loss: 2166.2058 - val_loss: 1719.1102\n",
      "Epoch 96/500\n",
      "16/16 [==============================] - 0s 5ms/step - loss: 2139.5447 - val_loss: 1695.3632\n",
      "Epoch 97/500\n",
      "16/16 [==============================] - 0s 5ms/step - loss: 2113.1182 - val_loss: 1671.8428\n",
      "Epoch 98/500\n",
      "16/16 [==============================] - 0s 5ms/step - loss: 2086.9253 - val_loss: 1648.5477\n",
      "Epoch 99/500\n",
      "16/16 [==============================] - 0s 5ms/step - loss: 2060.9644 - val_loss: 1625.4768\n",
      "Epoch 100/500\n",
      "16/16 [==============================] - 0s 5ms/step - loss: 2035.2340 - val_loss: 1602.6283\n",
      "Epoch 101/500\n",
      "16/16 [==============================] - 0s 5ms/step - loss: 2009.7333 - val_loss: 1580.0015\n",
      "Epoch 102/500\n",
      "16/16 [==============================] - 0s 5ms/step - loss: 1984.4601 - val_loss: 1557.5942\n",
      "Epoch 103/500\n",
      "16/16 [==============================] - 0s 5ms/step - loss: 1959.4138 - val_loss: 1535.4061\n",
      "Epoch 104/500\n",
      "16/16 [==============================] - 0s 5ms/step - loss: 1934.5925 - val_loss: 1513.4347\n",
      "Epoch 105/500\n",
      "16/16 [==============================] - 0s 5ms/step - loss: 1909.9951 - val_loss: 1491.6790\n",
      "Epoch 106/500\n",
      "16/16 [==============================] - 0s 5ms/step - loss: 1885.6206 - val_loss: 1470.1393\n",
      "Epoch 107/500\n",
      "16/16 [==============================] - 0s 5ms/step - loss: 1861.4673 - val_loss: 1448.8121\n",
      "Epoch 108/500\n",
      "16/16 [==============================] - 0s 5ms/step - loss: 1837.5342 - val_loss: 1427.6971\n",
      "Epoch 109/500\n",
      "16/16 [==============================] - 0s 5ms/step - loss: 1813.8201 - val_loss: 1406.7935\n",
      "Epoch 110/500\n",
      "16/16 [==============================] - 0s 4ms/step - loss: 1790.3232 - val_loss: 1386.0992\n",
      "Epoch 111/500\n",
      "16/16 [==============================] - 0s 5ms/step - loss: 1767.0432 - val_loss: 1365.6139\n",
      "Epoch 112/500\n",
      "16/16 [==============================] - 0s 6ms/step - loss: 1743.9784 - val_loss: 1345.3356\n",
      "Epoch 113/500\n",
      "16/16 [==============================] - 0s 6ms/step - loss: 1721.1267 - val_loss: 1325.2627\n",
      "Epoch 114/500\n",
      "16/16 [==============================] - 0s 5ms/step - loss: 1698.4880 - val_loss: 1305.3950\n",
      "Epoch 115/500\n",
      "16/16 [==============================] - 0s 5ms/step - loss: 1676.0602 - val_loss: 1285.7305\n",
      "Epoch 116/500\n",
      "16/16 [==============================] - 0s 4ms/step - loss: 1653.8431 - val_loss: 1266.2687\n",
      "Epoch 117/500\n",
      "16/16 [==============================] - 0s 4ms/step - loss: 1631.8350 - val_loss: 1247.0077\n",
      "Epoch 118/500\n",
      "16/16 [==============================] - 0s 4ms/step - loss: 1610.0348 - val_loss: 1227.9468\n",
      "Epoch 119/500\n",
      "16/16 [==============================] - 0s 4ms/step - loss: 1588.4408 - val_loss: 1209.0840\n",
      "Epoch 120/500\n",
      "16/16 [==============================] - 0s 4ms/step - loss: 1567.0519 - val_loss: 1190.4192\n",
      "Epoch 121/500\n",
      "16/16 [==============================] - 0s 4ms/step - loss: 1545.8680 - val_loss: 1171.9514\n",
      "Epoch 122/500\n",
      "16/16 [==============================] - 0s 4ms/step - loss: 1524.8868 - val_loss: 1153.6782\n",
      "Epoch 123/500\n",
      "16/16 [==============================] - 0s 9ms/step - loss: 1504.1078 - val_loss: 1135.5988\n",
      "Epoch 124/500\n",
      "16/16 [==============================] - 0s 5ms/step - loss: 1483.5294 - val_loss: 1117.7130\n",
      "Epoch 125/500\n",
      "16/16 [==============================] - 0s 4ms/step - loss: 1463.1512 - val_loss: 1100.0188\n",
      "Epoch 126/500\n",
      "16/16 [==============================] - 0s 4ms/step - loss: 1442.9708 - val_loss: 1082.5149\n",
      "Epoch 127/500\n",
      "16/16 [==============================] - 0s 4ms/step - loss: 1422.9878 - val_loss: 1065.2008\n",
      "Epoch 128/500\n",
      "16/16 [==============================] - 0s 4ms/step - loss: 1403.2012 - val_loss: 1048.0743\n",
      "Epoch 129/500\n",
      "16/16 [==============================] - 0s 4ms/step - loss: 1383.6095 - val_loss: 1031.1355\n",
      "Epoch 130/500\n",
      "16/16 [==============================] - 0s 4ms/step - loss: 1364.2115 - val_loss: 1014.3821\n",
      "Epoch 131/500\n",
      "16/16 [==============================] - 0s 5ms/step - loss: 1345.0067 - val_loss: 997.8142\n",
      "Epoch 132/500\n",
      "16/16 [==============================] - 0s 5ms/step - loss: 1325.9933 - val_loss: 981.4301\n",
      "Epoch 133/500\n",
      "16/16 [==============================] - 0s 4ms/step - loss: 1307.1707 - val_loss: 965.2281\n",
      "Epoch 134/500\n",
      "16/16 [==============================] - 0s 5ms/step - loss: 1288.5374 - val_loss: 949.2082\n",
      "Epoch 135/500\n",
      "16/16 [==============================] - 0s 4ms/step - loss: 1270.0927 - val_loss: 933.3683\n",
      "Epoch 136/500\n",
      "16/16 [==============================] - 0s 5ms/step - loss: 1251.8351 - val_loss: 917.7080\n",
      "Epoch 137/500\n",
      "16/16 [==============================] - 0s 4ms/step - loss: 1233.7637 - val_loss: 902.2261\n",
      "Epoch 138/500\n",
      "16/16 [==============================] - 0s 6ms/step - loss: 1215.8771 - val_loss: 886.9209\n",
      "Epoch 139/500\n",
      "16/16 [==============================] - 0s 6ms/step - loss: 1198.1752 - val_loss: 871.7921\n",
      "Epoch 140/500\n",
      "16/16 [==============================] - 0s 5ms/step - loss: 1180.6558 - val_loss: 856.8383\n",
      "Epoch 141/500\n",
      "16/16 [==============================] - 0s 4ms/step - loss: 1163.3184 - val_loss: 842.0578\n",
      "Epoch 142/500\n",
      "16/16 [==============================] - 0s 5ms/step - loss: 1146.1615 - val_loss: 827.4501\n",
      "Epoch 143/500\n",
      "16/16 [==============================] - 0s 4ms/step - loss: 1129.1844 - val_loss: 813.0143\n",
      "Epoch 144/500\n",
      "16/16 [==============================] - 0s 4ms/step - loss: 1112.3861 - val_loss: 798.7495\n",
      "Epoch 145/500\n",
      "16/16 [==============================] - 0s 4ms/step - loss: 1095.7653 - val_loss: 784.6537\n",
      "Epoch 146/500\n",
      "16/16 [==============================] - 0s 4ms/step - loss: 1079.3208 - val_loss: 770.7261\n",
      "Epoch 147/500\n",
      "16/16 [==============================] - 0s 4ms/step - loss: 1063.0519 - val_loss: 756.9666\n",
      "Epoch 148/500\n",
      "16/16 [==============================] - 0s 5ms/step - loss: 1046.9574 - val_loss: 743.3731\n",
      "Epoch 149/500\n",
      "16/16 [==============================] - 0s 5ms/step - loss: 1031.0366 - val_loss: 729.9450\n",
      "Epoch 150/500\n",
      "16/16 [==============================] - 0s 4ms/step - loss: 1015.2874 - val_loss: 716.6803\n",
      "Epoch 151/500\n",
      "16/16 [==============================] - 0s 4ms/step - loss: 999.7099 - val_loss: 703.5796\n",
      "Epoch 152/500\n",
      "16/16 [==============================] - 0s 5ms/step - loss: 984.3022 - val_loss: 690.6406\n",
      "Epoch 153/500\n",
      "16/16 [==============================] - 0s 4ms/step - loss: 969.0640 - val_loss: 677.8622\n",
      "Epoch 154/500\n",
      "16/16 [==============================] - 0s 5ms/step - loss: 953.9940 - val_loss: 665.2446\n",
      "Epoch 155/500\n",
      "16/16 [==============================] - 0s 8ms/step - loss: 939.0908 - val_loss: 652.7852\n",
      "Epoch 156/500\n",
      "16/16 [==============================] - 0s 5ms/step - loss: 924.3539 - val_loss: 640.4836\n",
      "Epoch 157/500\n",
      "16/16 [==============================] - 0s 4ms/step - loss: 909.7819 - val_loss: 628.3394\n",
      "Epoch 158/500\n",
      "16/16 [==============================] - 0s 5ms/step - loss: 895.3739 - val_loss: 616.3503\n",
      "Epoch 159/500\n",
      "16/16 [==============================] - 0s 4ms/step - loss: 881.1283 - val_loss: 604.5164\n",
      "Epoch 160/500\n",
      "16/16 [==============================] - 0s 5ms/step - loss: 867.0452 - val_loss: 592.8353\n",
      "Epoch 161/500\n",
      "16/16 [==============================] - 0s 7ms/step - loss: 853.1225 - val_loss: 581.3075\n",
      "Epoch 162/500\n",
      "16/16 [==============================] - 0s 5ms/step - loss: 839.3604 - val_loss: 569.9307\n",
      "Epoch 163/500\n",
      "16/16 [==============================] - 0s 4ms/step - loss: 825.7569 - val_loss: 558.7052\n",
      "Epoch 164/500\n",
      "16/16 [==============================] - 0s 4ms/step - loss: 812.3115 - val_loss: 547.6293\n",
      "Epoch 165/500\n",
      "16/16 [==============================] - 0s 5ms/step - loss: 799.0233 - val_loss: 536.7017\n",
      "Epoch 166/500\n",
      "16/16 [==============================] - 0s 5ms/step - loss: 785.8906 - val_loss: 525.9213\n",
      "Epoch 167/500\n",
      "16/16 [==============================] - 0s 6ms/step - loss: 772.9127 - val_loss: 515.2871\n",
      "Epoch 168/500\n",
      "16/16 [==============================] - 0s 5ms/step - loss: 760.0886 - val_loss: 504.7991\n",
      "Epoch 169/500\n",
      "16/16 [==============================] - 0s 5ms/step - loss: 747.4171 - val_loss: 494.4547\n",
      "Epoch 170/500\n",
      "16/16 [==============================] - 0s 5ms/step - loss: 734.8976 - val_loss: 484.2535\n",
      "Epoch 171/500\n",
      "16/16 [==============================] - 0s 6ms/step - loss: 722.5288 - val_loss: 474.1946\n",
      "Epoch 172/500\n",
      "16/16 [==============================] - 0s 6ms/step - loss: 710.3101 - val_loss: 464.2771\n",
      "Epoch 173/500\n",
      "16/16 [==============================] - 0s 6ms/step - loss: 698.2398 - val_loss: 454.5004\n",
      "Epoch 174/500\n",
      "16/16 [==============================] - 0s 5ms/step - loss: 686.3177 - val_loss: 444.8622\n",
      "Epoch 175/500\n",
      "16/16 [==============================] - 0s 6ms/step - loss: 674.5420 - val_loss: 435.3622\n",
      "Epoch 176/500\n",
      "16/16 [==============================] - 0s 7ms/step - loss: 662.9122 - val_loss: 425.9996\n",
      "Epoch 177/500\n",
      "16/16 [==============================] - 0s 4ms/step - loss: 651.4273 - val_loss: 416.7732\n",
      "Epoch 178/500\n",
      "16/16 [==============================] - 0s 4ms/step - loss: 640.0861 - val_loss: 407.6814\n",
      "Epoch 179/500\n",
      "16/16 [==============================] - 0s 4ms/step - loss: 628.8878 - val_loss: 398.7239\n",
      "Epoch 180/500\n",
      "16/16 [==============================] - 0s 5ms/step - loss: 617.8306 - val_loss: 389.8991\n",
      "Epoch 181/500\n",
      "16/16 [==============================] - 0s 5ms/step - loss: 606.9148 - val_loss: 381.2067\n",
      "Epoch 182/500\n",
      "16/16 [==============================] - 0s 5ms/step - loss: 596.1389 - val_loss: 372.6458\n",
      "Epoch 183/500\n",
      "16/16 [==============================] - 0s 4ms/step - loss: 585.5020 - val_loss: 364.2143\n",
      "Epoch 184/500\n",
      "16/16 [==============================] - 0s 5ms/step - loss: 575.0028 - val_loss: 355.9120\n",
      "Epoch 185/500\n",
      "16/16 [==============================] - 0s 4ms/step - loss: 564.6402 - val_loss: 347.7378\n",
      "Epoch 186/500\n",
      "16/16 [==============================] - 0s 4ms/step - loss: 554.4132 - val_loss: 339.6895\n",
      "Epoch 187/500\n",
      "16/16 [==============================] - 0s 4ms/step - loss: 544.3211 - val_loss: 331.7676\n",
      "Epoch 188/500\n",
      "16/16 [==============================] - 0s 4ms/step - loss: 534.3632 - val_loss: 323.9709\n",
      "Epoch 189/500\n",
      "16/16 [==============================] - 0s 8ms/step - loss: 524.5381 - val_loss: 316.2985\n",
      "Epoch 190/500\n",
      "16/16 [==============================] - 0s 4ms/step - loss: 514.8452 - val_loss: 308.7486\n",
      "Epoch 191/500\n",
      "16/16 [==============================] - 0s 4ms/step - loss: 505.2827 - val_loss: 301.3196\n",
      "Epoch 192/500\n",
      "16/16 [==============================] - 0s 4ms/step - loss: 495.8500 - val_loss: 294.0125\n",
      "Epoch 193/500\n",
      "16/16 [==============================] - 0s 4ms/step - loss: 486.5466 - val_loss: 286.8247\n",
      "Epoch 194/500\n",
      "16/16 [==============================] - 0s 4ms/step - loss: 477.3712 - val_loss: 279.7563\n",
      "Epoch 195/500\n",
      "16/16 [==============================] - 0s 4ms/step - loss: 468.3223 - val_loss: 272.8048\n",
      "Epoch 196/500\n",
      "16/16 [==============================] - 0s 4ms/step - loss: 459.3998 - val_loss: 265.9708\n",
      "Epoch 197/500\n",
      "16/16 [==============================] - 0s 5ms/step - loss: 450.6024 - val_loss: 259.2522\n",
      "Epoch 198/500\n",
      "16/16 [==============================] - 0s 4ms/step - loss: 441.9289 - val_loss: 252.6488\n",
      "Epoch 199/500\n",
      "16/16 [==============================] - 0s 4ms/step - loss: 433.3783 - val_loss: 246.1590\n",
      "Epoch 200/500\n",
      "16/16 [==============================] - 0s 4ms/step - loss: 424.9502 - val_loss: 239.7816\n",
      "Epoch 201/500\n",
      "16/16 [==============================] - 0s 7ms/step - loss: 416.6428 - val_loss: 233.5162\n",
      "Epoch 202/500\n",
      "16/16 [==============================] - 0s 5ms/step - loss: 408.4556 - val_loss: 227.3615\n",
      "Epoch 203/500\n",
      "16/16 [==============================] - 0s 4ms/step - loss: 400.3875 - val_loss: 221.3159\n",
      "Epoch 204/500\n",
      "16/16 [==============================] - 0s 4ms/step - loss: 392.4376 - val_loss: 215.3794\n",
      "Epoch 205/500\n",
      "16/16 [==============================] - 0s 4ms/step - loss: 384.6049 - val_loss: 209.5509\n",
      "Epoch 206/500\n",
      "16/16 [==============================] - 0s 4ms/step - loss: 376.8885 - val_loss: 203.8289\n",
      "Epoch 207/500\n",
      "16/16 [==============================] - 0s 4ms/step - loss: 369.2871 - val_loss: 198.2123\n",
      "Epoch 208/500\n",
      "16/16 [==============================] - 0s 5ms/step - loss: 361.8001 - val_loss: 192.7002\n",
      "Epoch 209/500\n",
      "16/16 [==============================] - 0s 5ms/step - loss: 354.4261 - val_loss: 187.2921\n",
      "Epoch 210/500\n",
      "16/16 [==============================] - 0s 5ms/step - loss: 347.1643 - val_loss: 181.9860\n",
      "Epoch 211/500\n",
      "16/16 [==============================] - 0s 5ms/step - loss: 340.0140 - val_loss: 176.7822\n",
      "Epoch 212/500\n",
      "16/16 [==============================] - 0s 5ms/step - loss: 332.9742 - val_loss: 171.6785\n",
      "Epoch 213/500\n",
      "16/16 [==============================] - 0s 5ms/step - loss: 326.0437 - val_loss: 166.6747\n",
      "Epoch 214/500\n",
      "16/16 [==============================] - 0s 5ms/step - loss: 319.2212 - val_loss: 161.7687\n",
      "Epoch 215/500\n",
      "16/16 [==============================] - 0s 4ms/step - loss: 312.5061 - val_loss: 156.9607\n",
      "Epoch 216/500\n",
      "16/16 [==============================] - 0s 4ms/step - loss: 305.8975 - val_loss: 152.2493\n",
      "Epoch 217/500\n",
      "16/16 [==============================] - 0s 4ms/step - loss: 299.3943 - val_loss: 147.6334\n",
      "Epoch 218/500\n",
      "16/16 [==============================] - 0s 4ms/step - loss: 292.9957 - val_loss: 143.1118\n",
      "Epoch 219/500\n",
      "16/16 [==============================] - 0s 5ms/step - loss: 286.7004 - val_loss: 138.6836\n",
      "Epoch 220/500\n",
      "16/16 [==============================] - 0s 4ms/step - loss: 280.5074 - val_loss: 134.3477\n",
      "Epoch 221/500\n",
      "16/16 [==============================] - 0s 11ms/step - loss: 274.4162 - val_loss: 130.1039\n",
      "Epoch 222/500\n",
      "16/16 [==============================] - 0s 5ms/step - loss: 268.4256 - val_loss: 125.9499\n",
      "Epoch 223/500\n",
      "16/16 [==============================] - 0s 5ms/step - loss: 262.5343 - val_loss: 121.8855\n",
      "Epoch 224/500\n",
      "16/16 [==============================] - 0s 4ms/step - loss: 256.7419 - val_loss: 117.9098\n",
      "Epoch 225/500\n",
      "16/16 [==============================] - 0s 6ms/step - loss: 251.0471 - val_loss: 114.0215\n",
      "Epoch 226/500\n",
      "16/16 [==============================] - 0s 5ms/step - loss: 245.4491 - val_loss: 110.2198\n",
      "Epoch 227/500\n",
      "16/16 [==============================] - 0s 5ms/step - loss: 239.9467 - val_loss: 106.5035\n",
      "Epoch 228/500\n",
      "16/16 [==============================] - 0s 5ms/step - loss: 234.5391 - val_loss: 102.8713\n",
      "Epoch 229/500\n",
      "16/16 [==============================] - 0s 4ms/step - loss: 229.2252 - val_loss: 99.3226\n",
      "Epoch 230/500\n",
      "16/16 [==============================] - 0s 4ms/step - loss: 224.0040 - val_loss: 95.8563\n",
      "Epoch 231/500\n",
      "16/16 [==============================] - 0s 6ms/step - loss: 218.8748 - val_loss: 92.4714\n",
      "Epoch 232/500\n",
      "16/16 [==============================] - 0s 7ms/step - loss: 213.8363 - val_loss: 89.1671\n",
      "Epoch 233/500\n",
      "16/16 [==============================] - 0s 8ms/step - loss: 208.8880 - val_loss: 85.9420\n",
      "Epoch 234/500\n",
      "16/16 [==============================] - 0s 8ms/step - loss: 204.0282 - val_loss: 82.7954\n",
      "Epoch 235/500\n",
      "16/16 [==============================] - 0s 12ms/step - loss: 199.2565 - val_loss: 79.7262\n",
      "Epoch 236/500\n",
      "16/16 [==============================] - 0s 11ms/step - loss: 194.5719 - val_loss: 76.7335\n",
      "Epoch 237/500\n",
      "16/16 [==============================] - 0s 8ms/step - loss: 189.9735 - val_loss: 73.8160\n",
      "Epoch 238/500\n",
      "16/16 [==============================] - 0s 6ms/step - loss: 185.4600 - val_loss: 70.9730\n",
      "Epoch 239/500\n",
      "16/16 [==============================] - 0s 6ms/step - loss: 181.0307 - val_loss: 68.2035\n",
      "Epoch 240/500\n",
      "16/16 [==============================] - 0s 6ms/step - loss: 176.6847 - val_loss: 65.5065\n",
      "Epoch 241/500\n",
      "16/16 [==============================] - 0s 7ms/step - loss: 172.4208 - val_loss: 62.8809\n",
      "Epoch 242/500\n",
      "16/16 [==============================] - 0s 8ms/step - loss: 168.2384 - val_loss: 60.3257\n",
      "Epoch 243/500\n",
      "16/16 [==============================] - 0s 8ms/step - loss: 164.1360 - val_loss: 57.8400\n",
      "Epoch 244/500\n",
      "16/16 [==============================] - 0s 8ms/step - loss: 160.1130 - val_loss: 55.4227\n",
      "Epoch 245/500\n",
      "16/16 [==============================] - 0s 8ms/step - loss: 156.1685 - val_loss: 53.0730\n",
      "Epoch 246/500\n",
      "16/16 [==============================] - 0s 16ms/step - loss: 152.3013 - val_loss: 50.7897\n",
      "Epoch 247/500\n",
      "16/16 [==============================] - 0s 9ms/step - loss: 148.5106 - val_loss: 48.5718\n",
      "Epoch 248/500\n",
      "16/16 [==============================] - 0s 7ms/step - loss: 144.7955 - val_loss: 46.4188\n",
      "Epoch 249/500\n",
      "16/16 [==============================] - 0s 7ms/step - loss: 141.1554 - val_loss: 44.3293\n",
      "Epoch 250/500\n",
      "16/16 [==============================] - 0s 7ms/step - loss: 137.5889 - val_loss: 42.3026\n",
      "Epoch 251/500\n",
      "16/16 [==============================] - 0s 8ms/step - loss: 134.0950 - val_loss: 40.3373\n",
      "Epoch 252/500\n",
      "16/16 [==============================] - 0s 7ms/step - loss: 130.6730 - val_loss: 38.4328\n",
      "Epoch 253/500\n",
      "16/16 [==============================] - 0s 8ms/step - loss: 127.3219 - val_loss: 36.5882\n",
      "Epoch 254/500\n",
      "16/16 [==============================] - 0s 7ms/step - loss: 124.0409 - val_loss: 34.8021\n",
      "Epoch 255/500\n",
      "16/16 [==============================] - 0s 8ms/step - loss: 120.8289 - val_loss: 33.0739\n",
      "Epoch 256/500\n",
      "16/16 [==============================] - 0s 8ms/step - loss: 117.6850 - val_loss: 31.4026\n",
      "Epoch 257/500\n",
      "16/16 [==============================] - 0s 8ms/step - loss: 114.6082 - val_loss: 29.7870\n",
      "Epoch 258/500\n",
      "16/16 [==============================] - 0s 9ms/step - loss: 111.5976 - val_loss: 28.2267\n",
      "Epoch 259/500\n",
      "16/16 [==============================] - 0s 8ms/step - loss: 108.6526 - val_loss: 26.7202\n",
      "Epoch 260/500\n",
      "16/16 [==============================] - 0s 8ms/step - loss: 105.7719 - val_loss: 25.2668\n",
      "Epoch 261/500\n",
      "16/16 [==============================] - 0s 7ms/step - loss: 102.9547 - val_loss: 23.8654\n",
      "Epoch 262/500\n",
      "16/16 [==============================] - 0s 8ms/step - loss: 100.2002 - val_loss: 22.5154\n",
      "Epoch 263/500\n",
      "16/16 [==============================] - 0s 7ms/step - loss: 97.5074 - val_loss: 21.2157\n",
      "Epoch 264/500\n",
      "16/16 [==============================] - 0s 7ms/step - loss: 94.8754 - val_loss: 19.9650\n",
      "Epoch 265/500\n",
      "16/16 [==============================] - 0s 18ms/step - loss: 92.3033 - val_loss: 18.7629\n",
      "Epoch 266/500\n",
      "16/16 [==============================] - 0s 10ms/step - loss: 89.7901 - val_loss: 17.6083\n",
      "Epoch 267/500\n",
      "16/16 [==============================] - 0s 7ms/step - loss: 87.3351 - val_loss: 16.5002\n",
      "Epoch 268/500\n",
      "16/16 [==============================] - 0s 7ms/step - loss: 84.9372 - val_loss: 15.4378\n",
      "Epoch 269/500\n",
      "16/16 [==============================] - 0s 6ms/step - loss: 82.5957 - val_loss: 14.4200\n",
      "Epoch 270/500\n",
      "16/16 [==============================] - 0s 6ms/step - loss: 80.3098 - val_loss: 13.4463\n",
      "Epoch 271/500\n",
      "16/16 [==============================] - 0s 13ms/step - loss: 78.0784 - val_loss: 12.5155\n",
      "Epoch 272/500\n",
      "16/16 [==============================] - 0s 13ms/step - loss: 75.9008 - val_loss: 11.6268\n",
      "Epoch 273/500\n",
      "16/16 [==============================] - 0s 10ms/step - loss: 73.7760 - val_loss: 10.7791\n",
      "Epoch 274/500\n",
      "16/16 [==============================] - 0s 15ms/step - loss: 71.7030 - val_loss: 9.9719\n",
      "Epoch 275/500\n",
      "16/16 [==============================] - 0s 14ms/step - loss: 69.6812 - val_loss: 9.2040\n",
      "Epoch 276/500\n",
      "16/16 [==============================] - 0s 18ms/step - loss: 67.7099 - val_loss: 8.4748\n",
      "Epoch 277/500\n",
      "16/16 [==============================] - 0s 20ms/step - loss: 65.7878 - val_loss: 7.7833\n",
      "Epoch 278/500\n",
      "16/16 [==============================] - 0s 16ms/step - loss: 63.9146 - val_loss: 7.1285\n",
      "Epoch 279/500\n",
      "16/16 [==============================] - 0s 12ms/step - loss: 62.0888 - val_loss: 6.5097\n",
      "Epoch 280/500\n",
      "16/16 [==============================] - 1s 38ms/step - loss: 60.3100 - val_loss: 5.9261\n",
      "Epoch 281/500\n",
      "16/16 [==============================] - 0s 11ms/step - loss: 58.5773 - val_loss: 5.3768\n",
      "Epoch 282/500\n",
      "16/16 [==============================] - 0s 16ms/step - loss: 56.8898 - val_loss: 4.8610\n",
      "Epoch 283/500\n",
      "16/16 [==============================] - 0s 12ms/step - loss: 55.2468 - val_loss: 4.3778\n",
      "Epoch 284/500\n",
      "16/16 [==============================] - 0s 18ms/step - loss: 53.6474 - val_loss: 3.9266\n",
      "Epoch 285/500\n",
      "16/16 [==============================] - 0s 10ms/step - loss: 52.0910 - val_loss: 3.5062\n",
      "Epoch 286/500\n",
      "16/16 [==============================] - 0s 10ms/step - loss: 50.5765 - val_loss: 3.1162\n",
      "Epoch 287/500\n",
      "16/16 [==============================] - 0s 10ms/step - loss: 49.1032 - val_loss: 2.7554\n",
      "Epoch 288/500\n",
      "16/16 [==============================] - 0s 11ms/step - loss: 47.6702 - val_loss: 2.4234\n",
      "Epoch 289/500\n",
      "16/16 [==============================] - 0s 10ms/step - loss: 46.2770 - val_loss: 2.1192\n",
      "Epoch 290/500\n",
      "16/16 [==============================] - 0s 12ms/step - loss: 44.9226 - val_loss: 1.8421\n",
      "Epoch 291/500\n",
      "16/16 [==============================] - 0s 11ms/step - loss: 43.6065 - val_loss: 1.5912\n",
      "Epoch 292/500\n",
      "16/16 [==============================] - 0s 15ms/step - loss: 42.3276 - val_loss: 1.3659\n",
      "Epoch 293/500\n",
      "16/16 [==============================] - 0s 14ms/step - loss: 41.0853 - val_loss: 1.1655\n",
      "Epoch 294/500\n",
      "16/16 [==============================] - 0s 17ms/step - loss: 39.8790 - val_loss: 0.9890\n",
      "Epoch 295/500\n",
      "16/16 [==============================] - 0s 9ms/step - loss: 38.7076 - val_loss: 0.8359\n",
      "Epoch 296/500\n",
      "16/16 [==============================] - 0s 8ms/step - loss: 37.5707 - val_loss: 0.7053\n",
      "Epoch 297/500\n",
      "16/16 [==============================] - 0s 13ms/step - loss: 36.4674 - val_loss: 0.5967\n",
      "Epoch 298/500\n",
      "16/16 [==============================] - 0s 12ms/step - loss: 35.3970 - val_loss: 0.5091\n",
      "Epoch 299/500\n",
      "16/16 [==============================] - 0s 7ms/step - loss: 34.3588 - val_loss: 0.4421\n",
      "Epoch 300/500\n",
      "16/16 [==============================] - 0s 8ms/step - loss: 33.3520 - val_loss: 0.3948\n",
      "Epoch 301/500\n",
      "16/16 [==============================] - 0s 6ms/step - loss: 32.3762 - val_loss: 0.3666\n",
      "Epoch 302/500\n",
      "16/16 [==============================] - 0s 7ms/step - loss: 31.4304 - val_loss: 0.3568\n",
      "Epoch 303/500\n",
      "16/16 [==============================] - 0s 5ms/step - loss: 30.5141 - val_loss: 0.3647\n",
      "Epoch 304/500\n",
      "16/16 [==============================] - 0s 6ms/step - loss: 29.6264 - val_loss: 0.3898\n",
      "Epoch 305/500\n",
      "16/16 [==============================] - 0s 7ms/step - loss: 28.7669 - val_loss: 0.4313\n",
      "Epoch 306/500\n",
      "16/16 [==============================] - 0s 6ms/step - loss: 27.9348 - val_loss: 0.4886\n",
      "Epoch 307/500\n",
      "16/16 [==============================] - 0s 6ms/step - loss: 27.1295 - val_loss: 0.5611\n",
      "Epoch 308/500\n",
      "16/16 [==============================] - 0s 7ms/step - loss: 26.3503 - val_loss: 0.6482\n",
      "Epoch 309/500\n",
      "16/16 [==============================] - 0s 6ms/step - loss: 25.5967 - val_loss: 0.7492\n",
      "Epoch 310/500\n",
      "16/16 [==============================] - 0s 6ms/step - loss: 24.8679 - val_loss: 0.8636\n",
      "Epoch 311/500\n",
      "16/16 [==============================] - 0s 13ms/step - loss: 24.1633 - val_loss: 0.9908\n",
      "Epoch 312/500\n",
      "16/16 [==============================] - 0s 9ms/step - loss: 23.4824 - val_loss: 1.1302\n",
      "Epoch 313/500\n",
      "16/16 [==============================] - 0s 8ms/step - loss: 22.8245 - val_loss: 1.2812\n",
      "Epoch 314/500\n",
      "16/16 [==============================] - 0s 6ms/step - loss: 22.1892 - val_loss: 1.4433\n",
      "Epoch 315/500\n",
      "16/16 [==============================] - 0s 9ms/step - loss: 21.5756 - val_loss: 1.6160\n",
      "Epoch 316/500\n",
      "16/16 [==============================] - 0s 6ms/step - loss: 20.9833 - val_loss: 1.7986\n",
      "Epoch 317/500\n",
      "16/16 [==============================] - 0s 7ms/step - loss: 20.4118 - val_loss: 1.9908\n",
      "Epoch 318/500\n",
      "16/16 [==============================] - 0s 6ms/step - loss: 19.8605 - val_loss: 2.1919\n",
      "Epoch 319/500\n",
      "16/16 [==============================] - 0s 6ms/step - loss: 19.3288 - val_loss: 2.4015\n",
      "Epoch 320/500\n",
      "16/16 [==============================] - 0s 6ms/step - loss: 18.8161 - val_loss: 2.6190\n",
      "Epoch 321/500\n",
      "16/16 [==============================] - 0s 8ms/step - loss: 18.3220 - val_loss: 2.8441\n",
      "Epoch 322/500\n",
      "16/16 [==============================] - 0s 6ms/step - loss: 17.8459 - val_loss: 3.0761\n",
      "Epoch 323/500\n",
      "16/16 [==============================] - 0s 7ms/step - loss: 17.3873 - val_loss: 3.3147\n",
      "Epoch 324/500\n",
      "16/16 [==============================] - 0s 8ms/step - loss: 16.9458 - val_loss: 3.5594\n",
      "Epoch 325/500\n",
      "16/16 [==============================] - 0s 7ms/step - loss: 16.5208 - val_loss: 3.8097\n",
      "Epoch 326/500\n",
      "16/16 [==============================] - 0s 7ms/step - loss: 16.1118 - val_loss: 4.0654\n",
      "Epoch 327/500\n",
      "16/16 [==============================] - 0s 13ms/step - loss: 15.7183 - val_loss: 4.3258\n",
      "Epoch 328/500\n",
      "16/16 [==============================] - 0s 7ms/step - loss: 15.3400 - val_loss: 4.5907\n",
      "Epoch 329/500\n",
      "16/16 [==============================] - 0s 8ms/step - loss: 14.9763 - val_loss: 4.8594\n",
      "Epoch 330/500\n",
      "16/16 [==============================] - 0s 6ms/step - loss: 14.6268 - val_loss: 5.1320\n",
      "Epoch 331/500\n",
      "16/16 [==============================] - 0s 6ms/step - loss: 14.2910 - val_loss: 5.4077\n",
      "Epoch 332/500\n",
      "16/16 [==============================] - 0s 6ms/step - loss: 13.9685 - val_loss: 5.6863\n",
      "Epoch 333/500\n",
      "16/16 [==============================] - 0s 7ms/step - loss: 13.6589 - val_loss: 5.9674\n",
      "Epoch 334/500\n",
      "16/16 [==============================] - 0s 7ms/step - loss: 13.3618 - val_loss: 6.2509\n",
      "Epoch 335/500\n",
      "16/16 [==============================] - 0s 5ms/step - loss: 13.0767 - val_loss: 6.5361\n",
      "Epoch 336/500\n",
      "16/16 [==============================] - 0s 6ms/step - loss: 12.8033 - val_loss: 6.8228\n",
      "Epoch 337/500\n",
      "16/16 [==============================] - 0s 6ms/step - loss: 12.5412 - val_loss: 7.1108\n",
      "Epoch 338/500\n",
      "16/16 [==============================] - 0s 6ms/step - loss: 12.2900 - val_loss: 7.3997\n",
      "Epoch 339/500\n",
      "16/16 [==============================] - 0s 6ms/step - loss: 12.0493 - val_loss: 7.6892\n",
      "Epoch 340/500\n",
      "16/16 [==============================] - 0s 5ms/step - loss: 11.8188 - val_loss: 7.9792\n",
      "Epoch 341/500\n",
      "16/16 [==============================] - 0s 4ms/step - loss: 11.5981 - val_loss: 8.2690\n",
      "Epoch 342/500\n",
      "16/16 [==============================] - 0s 5ms/step - loss: 11.3869 - val_loss: 8.5588\n",
      "Epoch 343/500\n",
      "16/16 [==============================] - 0s 4ms/step - loss: 11.1849 - val_loss: 8.8482\n",
      "Epoch 344/500\n",
      "16/16 [==============================] - 0s 8ms/step - loss: 10.9916 - val_loss: 9.1368\n",
      "Epoch 345/500\n",
      "16/16 [==============================] - 0s 6ms/step - loss: 10.8069 - val_loss: 9.4245\n",
      "Epoch 346/500\n",
      "16/16 [==============================] - 0s 5ms/step - loss: 10.6303 - val_loss: 9.7109\n",
      "Epoch 347/500\n",
      "16/16 [==============================] - 0s 4ms/step - loss: 10.4617 - val_loss: 9.9964\n",
      "Epoch 348/500\n",
      "16/16 [==============================] - 0s 5ms/step - loss: 10.3006 - val_loss: 10.2799\n",
      "Epoch 349/500\n",
      "16/16 [==============================] - 0s 5ms/step - loss: 10.1469 - val_loss: 10.5619\n",
      "Epoch 350/500\n",
      "16/16 [==============================] - 0s 5ms/step - loss: 10.0001 - val_loss: 10.8421\n",
      "Epoch 351/500\n",
      "16/16 [==============================] - 0s 5ms/step - loss: 9.8601 - val_loss: 11.1199\n",
      "Epoch 352/500\n",
      "16/16 [==============================] - 0s 5ms/step - loss: 9.7267 - val_loss: 11.3956\n",
      "Epoch 353/500\n",
      "16/16 [==============================] - 0s 6ms/step - loss: 9.5994 - val_loss: 11.6688\n",
      "Epoch 354/500\n",
      "16/16 [==============================] - 0s 6ms/step - loss: 9.4782 - val_loss: 11.9394\n",
      "Epoch 355/500\n",
      "16/16 [==============================] - 0s 5ms/step - loss: 9.3627 - val_loss: 12.2074\n",
      "Epoch 356/500\n",
      "16/16 [==============================] - 0s 4ms/step - loss: 9.2527 - val_loss: 12.4724\n",
      "Epoch 357/500\n",
      "16/16 [==============================] - 0s 4ms/step - loss: 9.1481 - val_loss: 12.7344\n",
      "Epoch 358/500\n",
      "16/16 [==============================] - 0s 4ms/step - loss: 9.0485 - val_loss: 12.9933\n",
      "Epoch 359/500\n",
      "16/16 [==============================] - 0s 6ms/step - loss: 8.9538 - val_loss: 13.2490\n",
      "Epoch 360/500\n",
      "16/16 [==============================] - 0s 5ms/step - loss: 8.8638 - val_loss: 13.5013\n",
      "Epoch 361/500\n",
      "16/16 [==============================] - 0s 4ms/step - loss: 8.7782 - val_loss: 13.7504\n",
      "Epoch 362/500\n",
      "16/16 [==============================] - 0s 6ms/step - loss: 8.6968 - val_loss: 13.9958\n",
      "Epoch 363/500\n",
      "16/16 [==============================] - 0s 4ms/step - loss: 8.6197 - val_loss: 14.2376\n",
      "Epoch 364/500\n",
      "16/16 [==============================] - 0s 10ms/step - loss: 8.5463 - val_loss: 14.4759\n",
      "Epoch 365/500\n",
      "16/16 [==============================] - 0s 6ms/step - loss: 8.4768 - val_loss: 14.7104\n",
      "Epoch 366/500\n",
      "16/16 [==============================] - 0s 4ms/step - loss: 8.4108 - val_loss: 14.9410\n",
      "Epoch 367/500\n",
      "16/16 [==============================] - 0s 4ms/step - loss: 8.3482 - val_loss: 15.1681\n",
      "Epoch 368/500\n",
      "16/16 [==============================] - 0s 6ms/step - loss: 8.2889 - val_loss: 15.3909\n",
      "Epoch 369/500\n",
      "16/16 [==============================] - 0s 6ms/step - loss: 8.2327 - val_loss: 15.6100\n",
      "Epoch 370/500\n",
      "16/16 [==============================] - 0s 5ms/step - loss: 8.1794 - val_loss: 15.8250\n",
      "Epoch 371/500\n",
      "16/16 [==============================] - 0s 6ms/step - loss: 8.1290 - val_loss: 16.0362\n",
      "Epoch 372/500\n",
      "16/16 [==============================] - 0s 4ms/step - loss: 8.0812 - val_loss: 16.2433\n",
      "Epoch 373/500\n",
      "16/16 [==============================] - 0s 4ms/step - loss: 8.0360 - val_loss: 16.4462\n",
      "Epoch 374/500\n",
      "16/16 [==============================] - 0s 6ms/step - loss: 7.9933 - val_loss: 16.6451\n",
      "Epoch 375/500\n",
      "16/16 [==============================] - 0s 6ms/step - loss: 7.9529 - val_loss: 16.8400\n",
      "Epoch 376/500\n",
      "16/16 [==============================] - 0s 5ms/step - loss: 7.9147 - val_loss: 17.0307\n",
      "Epoch 377/500\n",
      "16/16 [==============================] - 0s 7ms/step - loss: 7.8786 - val_loss: 17.2174\n",
      "Epoch 378/500\n",
      "16/16 [==============================] - 0s 6ms/step - loss: 7.8445 - val_loss: 17.4001\n",
      "Epoch 379/500\n",
      "16/16 [==============================] - 0s 6ms/step - loss: 7.8123 - val_loss: 17.5787\n",
      "Epoch 380/500\n",
      "16/16 [==============================] - 0s 7ms/step - loss: 7.7819 - val_loss: 17.7531\n",
      "Epoch 381/500\n",
      "16/16 [==============================] - 0s 7ms/step - loss: 7.7532 - val_loss: 17.9236\n",
      "Epoch 382/500\n",
      "16/16 [==============================] - 0s 5ms/step - loss: 7.7262 - val_loss: 18.0902\n",
      "Epoch 383/500\n",
      "16/16 [==============================] - 0s 10ms/step - loss: 7.7006 - val_loss: 18.2528\n",
      "Epoch 384/500\n",
      "16/16 [==============================] - 0s 6ms/step - loss: 7.6765 - val_loss: 18.4113\n",
      "Epoch 385/500\n",
      "16/16 [==============================] - 0s 5ms/step - loss: 7.6539 - val_loss: 18.5658\n",
      "Epoch 386/500\n",
      "16/16 [==============================] - 0s 5ms/step - loss: 7.6325 - val_loss: 18.7166\n",
      "Epoch 387/500\n",
      "16/16 [==============================] - 0s 5ms/step - loss: 7.6123 - val_loss: 18.8633\n",
      "Epoch 388/500\n",
      "16/16 [==============================] - 0s 5ms/step - loss: 7.5934 - val_loss: 19.0063\n",
      "Epoch 389/500\n",
      "16/16 [==============================] - 0s 5ms/step - loss: 7.5755 - val_loss: 19.1456\n",
      "Epoch 390/500\n",
      "16/16 [==============================] - 0s 4ms/step - loss: 7.5587 - val_loss: 19.2811\n",
      "Epoch 391/500\n",
      "16/16 [==============================] - 0s 4ms/step - loss: 7.5429 - val_loss: 19.4127\n",
      "Epoch 392/500\n",
      "16/16 [==============================] - 0s 4ms/step - loss: 7.5281 - val_loss: 19.5410\n",
      "Epoch 393/500\n",
      "16/16 [==============================] - 0s 4ms/step - loss: 7.5141 - val_loss: 19.6654\n",
      "Epoch 394/500\n",
      "16/16 [==============================] - 0s 4ms/step - loss: 7.5009 - val_loss: 19.7863\n",
      "Epoch 395/500\n",
      "16/16 [==============================] - 0s 5ms/step - loss: 7.4885 - val_loss: 19.9036\n",
      "Epoch 396/500\n",
      "16/16 [==============================] - 0s 4ms/step - loss: 7.4769 - val_loss: 20.0175\n",
      "Epoch 397/500\n",
      "16/16 [==============================] - 0s 4ms/step - loss: 7.4660 - val_loss: 20.1281\n",
      "Epoch 398/500\n",
      "16/16 [==============================] - 0s 4ms/step - loss: 7.4558 - val_loss: 20.2353\n",
      "Epoch 399/500\n",
      "16/16 [==============================] - 0s 5ms/step - loss: 7.4461 - val_loss: 20.3391\n",
      "Epoch 400/500\n",
      "16/16 [==============================] - 0s 4ms/step - loss: 7.4371 - val_loss: 20.4397\n",
      "Epoch 401/500\n",
      "16/16 [==============================] - 0s 10ms/step - loss: 7.4286 - val_loss: 20.5373\n",
      "Epoch 402/500\n",
      "16/16 [==============================] - 0s 5ms/step - loss: 7.4207 - val_loss: 20.6319\n",
      "Epoch 403/500\n",
      "16/16 [==============================] - 0s 5ms/step - loss: 7.4132 - val_loss: 20.7233\n",
      "Epoch 404/500\n",
      "16/16 [==============================] - 0s 6ms/step - loss: 7.4062 - val_loss: 20.8117\n",
      "Epoch 405/500\n",
      "16/16 [==============================] - 0s 4ms/step - loss: 7.3996 - val_loss: 20.8972\n",
      "Epoch 406/500\n",
      "16/16 [==============================] - 0s 4ms/step - loss: 7.3934 - val_loss: 20.9799\n",
      "Epoch 407/500\n",
      "16/16 [==============================] - 0s 4ms/step - loss: 7.3877 - val_loss: 21.0600\n",
      "Epoch 408/500\n",
      "16/16 [==============================] - 0s 4ms/step - loss: 7.3822 - val_loss: 21.1370\n",
      "Epoch 409/500\n",
      "16/16 [==============================] - 0s 4ms/step - loss: 7.3771 - val_loss: 21.2115\n",
      "Epoch 410/500\n",
      "16/16 [==============================] - 0s 6ms/step - loss: 7.3723 - val_loss: 21.2834\n",
      "Epoch 411/500\n",
      "16/16 [==============================] - 0s 4ms/step - loss: 7.3679 - val_loss: 21.3527\n",
      "Epoch 412/500\n",
      "16/16 [==============================] - 0s 4ms/step - loss: 7.3637 - val_loss: 21.4195\n",
      "Epoch 413/500\n",
      "16/16 [==============================] - 0s 3ms/step - loss: 7.3598 - val_loss: 21.4840\n",
      "Epoch 414/500\n",
      "16/16 [==============================] - 0s 4ms/step - loss: 7.3561 - val_loss: 21.5459\n",
      "Epoch 415/500\n",
      "16/16 [==============================] - 0s 4ms/step - loss: 7.3526 - val_loss: 21.6057\n",
      "Epoch 416/500\n",
      "16/16 [==============================] - 0s 4ms/step - loss: 7.3494 - val_loss: 21.6633\n",
      "Epoch 417/500\n",
      "16/16 [==============================] - 0s 4ms/step - loss: 7.3464 - val_loss: 21.7184\n",
      "Epoch 418/500\n",
      "16/16 [==============================] - 0s 4ms/step - loss: 7.3436 - val_loss: 21.7718\n",
      "Epoch 419/500\n",
      "16/16 [==============================] - 0s 9ms/step - loss: 7.3409 - val_loss: 21.8229\n",
      "Epoch 420/500\n",
      "16/16 [==============================] - 0s 5ms/step - loss: 7.3384 - val_loss: 21.8719\n",
      "Epoch 421/500\n",
      "16/16 [==============================] - 0s 5ms/step - loss: 7.3361 - val_loss: 21.9193\n",
      "Epoch 422/500\n",
      "16/16 [==============================] - 0s 4ms/step - loss: 7.3339 - val_loss: 21.9646\n",
      "Epoch 423/500\n",
      "16/16 [==============================] - 0s 5ms/step - loss: 7.3319 - val_loss: 22.0081\n",
      "Epoch 424/500\n",
      "16/16 [==============================] - 0s 5ms/step - loss: 7.3300 - val_loss: 22.0498\n",
      "Epoch 425/500\n",
      "16/16 [==============================] - 0s 5ms/step - loss: 7.3282 - val_loss: 22.0899\n",
      "Epoch 426/500\n",
      "16/16 [==============================] - 0s 4ms/step - loss: 7.3265 - val_loss: 22.1282\n",
      "Epoch 427/500\n",
      "16/16 [==============================] - 0s 4ms/step - loss: 7.3250 - val_loss: 22.1652\n",
      "Epoch 428/500\n",
      "16/16 [==============================] - 0s 5ms/step - loss: 7.3235 - val_loss: 22.2004\n",
      "Epoch 429/500\n",
      "16/16 [==============================] - 0s 4ms/step - loss: 7.3222 - val_loss: 22.2342\n",
      "Epoch 430/500\n",
      "16/16 [==============================] - 0s 4ms/step - loss: 7.3209 - val_loss: 22.2663\n",
      "Epoch 431/500\n",
      "16/16 [==============================] - 0s 4ms/step - loss: 7.3197 - val_loss: 22.2972\n",
      "Epoch 432/500\n",
      "16/16 [==============================] - 0s 4ms/step - loss: 7.3186 - val_loss: 22.3267\n",
      "Epoch 433/500\n",
      "16/16 [==============================] - 0s 4ms/step - loss: 7.3176 - val_loss: 22.3548\n",
      "Epoch 434/500\n",
      "16/16 [==============================] - 0s 4ms/step - loss: 7.3166 - val_loss: 22.3819\n",
      "Epoch 435/500\n",
      "16/16 [==============================] - 0s 4ms/step - loss: 7.3157 - val_loss: 22.4077\n",
      "Epoch 436/500\n",
      "16/16 [==============================] - 0s 5ms/step - loss: 7.3149 - val_loss: 22.4323\n",
      "Epoch 437/500\n",
      "16/16 [==============================] - 0s 4ms/step - loss: 7.3141 - val_loss: 22.4557\n",
      "Epoch 438/500\n",
      "16/16 [==============================] - 0s 10ms/step - loss: 7.3134 - val_loss: 22.4781\n",
      "Epoch 439/500\n",
      "16/16 [==============================] - 0s 5ms/step - loss: 7.3127 - val_loss: 22.4994\n",
      "Epoch 440/500\n",
      "16/16 [==============================] - 0s 7ms/step - loss: 7.3120 - val_loss: 22.5196\n",
      "Epoch 441/500\n",
      "16/16 [==============================] - 0s 6ms/step - loss: 7.3115 - val_loss: 22.5390\n",
      "Epoch 442/500\n",
      "16/16 [==============================] - 0s 6ms/step - loss: 7.3110 - val_loss: 22.5574\n",
      "Epoch 443/500\n",
      "16/16 [==============================] - 0s 4ms/step - loss: 7.3104 - val_loss: 22.5748\n",
      "Epoch 444/500\n",
      "16/16 [==============================] - 0s 6ms/step - loss: 7.3100 - val_loss: 22.5914\n",
      "Epoch 445/500\n",
      "16/16 [==============================] - 0s 5ms/step - loss: 7.3096 - val_loss: 22.6072\n",
      "Epoch 446/500\n",
      "16/16 [==============================] - 0s 4ms/step - loss: 7.3092 - val_loss: 22.6223\n",
      "Epoch 447/500\n",
      "16/16 [==============================] - 0s 4ms/step - loss: 7.3088 - val_loss: 22.6367\n",
      "Epoch 448/500\n",
      "16/16 [==============================] - 0s 6ms/step - loss: 7.3085 - val_loss: 22.6499\n",
      "Epoch 449/500\n",
      "16/16 [==============================] - 0s 4ms/step - loss: 7.3082 - val_loss: 22.6627\n",
      "Epoch 450/500\n",
      "16/16 [==============================] - 0s 5ms/step - loss: 7.3079 - val_loss: 22.6748\n",
      "Epoch 451/500\n",
      "16/16 [==============================] - 0s 4ms/step - loss: 7.3077 - val_loss: 22.6865\n",
      "Epoch 452/500\n",
      "16/16 [==============================] - 0s 4ms/step - loss: 7.3074 - val_loss: 22.6973\n",
      "Epoch 453/500\n",
      "16/16 [==============================] - 0s 4ms/step - loss: 7.3072 - val_loss: 22.7077\n",
      "Epoch 454/500\n",
      "16/16 [==============================] - 0s 9ms/step - loss: 7.3071 - val_loss: 22.7173\n",
      "Epoch 455/500\n",
      "16/16 [==============================] - 0s 5ms/step - loss: 7.3069 - val_loss: 22.7268\n",
      "Epoch 456/500\n",
      "16/16 [==============================] - 0s 4ms/step - loss: 7.3067 - val_loss: 22.7354\n",
      "Epoch 457/500\n",
      "16/16 [==============================] - 0s 4ms/step - loss: 7.3066 - val_loss: 22.7437\n",
      "Epoch 458/500\n",
      "16/16 [==============================] - 0s 4ms/step - loss: 7.3065 - val_loss: 22.7512\n",
      "Epoch 459/500\n",
      "16/16 [==============================] - 0s 4ms/step - loss: 7.3064 - val_loss: 22.7585\n",
      "Epoch 460/500\n",
      "16/16 [==============================] - 0s 6ms/step - loss: 7.3064 - val_loss: 22.7657\n",
      "Epoch 461/500\n",
      "16/16 [==============================] - 0s 4ms/step - loss: 7.3063 - val_loss: 22.7722\n",
      "Epoch 462/500\n",
      "16/16 [==============================] - 0s 5ms/step - loss: 7.3062 - val_loss: 22.7785\n",
      "Epoch 463/500\n",
      "16/16 [==============================] - 0s 6ms/step - loss: 7.3062 - val_loss: 22.7841\n",
      "Epoch 464/500\n",
      "16/16 [==============================] - 0s 4ms/step - loss: 7.3062 - val_loss: 22.7897\n",
      "Epoch 465/500\n",
      "16/16 [==============================] - 0s 4ms/step - loss: 7.3061 - val_loss: 22.7947\n",
      "Epoch 466/500\n",
      "16/16 [==============================] - 0s 5ms/step - loss: 7.3062 - val_loss: 22.7997\n",
      "Epoch 467/500\n",
      "16/16 [==============================] - 0s 5ms/step - loss: 7.3061 - val_loss: 22.8041\n",
      "Epoch 468/500\n",
      "16/16 [==============================] - 0s 5ms/step - loss: 7.3062 - val_loss: 22.8083\n",
      "Epoch 469/500\n",
      "16/16 [==============================] - 0s 4ms/step - loss: 7.3062 - val_loss: 22.8123\n",
      "Epoch 470/500\n",
      "16/16 [==============================] - 0s 6ms/step - loss: 7.3062 - val_loss: 22.8160\n",
      "Epoch 471/500\n",
      "16/16 [==============================] - 0s 9ms/step - loss: 7.3063 - val_loss: 22.8194\n",
      "Epoch 472/500\n",
      "16/16 [==============================] - 0s 6ms/step - loss: 7.3063 - val_loss: 22.8228\n",
      "Epoch 473/500\n",
      "16/16 [==============================] - 0s 6ms/step - loss: 7.3064 - val_loss: 22.8257\n",
      "Epoch 474/500\n",
      "16/16 [==============================] - 0s 6ms/step - loss: 7.3065 - val_loss: 22.8287\n",
      "Epoch 475/500\n",
      "16/16 [==============================] - 0s 4ms/step - loss: 7.3065 - val_loss: 22.8315\n",
      "Epoch 476/500\n",
      "16/16 [==============================] - 0s 4ms/step - loss: 7.3066 - val_loss: 22.8339\n",
      "Epoch 477/500\n",
      "16/16 [==============================] - 0s 4ms/step - loss: 7.3066 - val_loss: 22.8360\n",
      "Epoch 478/500\n",
      "16/16 [==============================] - 0s 4ms/step - loss: 7.3068 - val_loss: 22.8382\n",
      "Epoch 479/500\n",
      "16/16 [==============================] - 0s 4ms/step - loss: 7.3068 - val_loss: 22.8402\n",
      "Epoch 480/500\n",
      "16/16 [==============================] - 0s 6ms/step - loss: 7.3069 - val_loss: 22.8420\n",
      "Epoch 481/500\n",
      "16/16 [==============================] - 0s 4ms/step - loss: 7.3070 - val_loss: 22.8438\n",
      "Epoch 482/500\n",
      "16/16 [==============================] - 0s 6ms/step - loss: 7.3071 - val_loss: 22.8453\n",
      "Epoch 483/500\n",
      "16/16 [==============================] - 0s 4ms/step - loss: 7.3072 - val_loss: 22.8466\n",
      "Epoch 484/500\n",
      "16/16 [==============================] - 0s 4ms/step - loss: 7.3074 - val_loss: 22.8480\n",
      "Epoch 485/500\n",
      "16/16 [==============================] - 0s 4ms/step - loss: 7.3075 - val_loss: 22.8491\n",
      "Epoch 486/500\n",
      "16/16 [==============================] - 0s 4ms/step - loss: 7.3076 - val_loss: 22.8503\n",
      "Epoch 487/500\n",
      "16/16 [==============================] - 0s 4ms/step - loss: 7.3077 - val_loss: 22.8511\n",
      "Epoch 488/500\n",
      "16/16 [==============================] - 0s 4ms/step - loss: 7.3079 - val_loss: 22.8521\n",
      "Epoch 489/500\n",
      "16/16 [==============================] - 0s 4ms/step - loss: 7.3080 - val_loss: 22.8530\n",
      "Epoch 490/500\n",
      "16/16 [==============================] - 0s 4ms/step - loss: 7.3081 - val_loss: 22.8538\n",
      "Epoch 491/500\n",
      "16/16 [==============================] - 0s 4ms/step - loss: 7.3083 - val_loss: 22.8546\n",
      "Epoch 492/500\n",
      "16/16 [==============================] - 0s 4ms/step - loss: 7.3084 - val_loss: 22.8551\n",
      "Epoch 493/500\n",
      "16/16 [==============================] - 0s 6ms/step - loss: 7.3085 - val_loss: 22.8556\n",
      "Epoch 494/500\n",
      "16/16 [==============================] - 0s 4ms/step - loss: 7.3087 - val_loss: 22.8561\n",
      "Epoch 495/500\n",
      "16/16 [==============================] - 0s 5ms/step - loss: 7.3088 - val_loss: 22.8565\n",
      "Epoch 496/500\n",
      "16/16 [==============================] - 0s 4ms/step - loss: 7.3090 - val_loss: 22.8569\n",
      "Epoch 497/500\n",
      "16/16 [==============================] - 0s 9ms/step - loss: 7.3091 - val_loss: 22.8573\n",
      "Epoch 498/500\n",
      "16/16 [==============================] - 0s 5ms/step - loss: 7.3093 - val_loss: 22.8575\n",
      "Epoch 499/500\n",
      "16/16 [==============================] - 0s 6ms/step - loss: 7.3094 - val_loss: 22.8577\n",
      "Epoch 500/500\n",
      "16/16 [==============================] - 0s 6ms/step - loss: 7.3096 - val_loss: 22.8580\n"
     ]
    }
   ],
   "source": [
    "C0 = tf.Variable(88.0403, name=\"C0\", trainable=True, dtype=tf.float32)\n",
    "K0 = tf.Variable(-0.0012, name=\"K0\", trainable=True, dtype=tf.float32)\n",
    "K1 = tf.Variable(-0.0001, name=\"K1\", trainable=True, dtype=tf.float32)\n",
    "a = tf.Variable(0.0000, name=\"a\", trainable=True, dtype=tf.float32)\n",
    "b = tf.Variable(0.0120, name=\"b\", trainable=True, dtype=tf.float32)\n",
    "c = tf.Variable(2.0334, name=\"c\", trainable=True, dtype=tf.float32)\n",
    "\n",
    "splitr = 0.8\n",
    "\n",
    "\n",
    "def loss_fn(y_true, y_pred):\n",
    "    squared_difference = tf.square(y_true[:, 0] - y_pred[:, 0])\n",
    "    #squared_difference2 = tf.square(y_true[:, 2]-y_pred[:, 2])\n",
    "    #squared_difference1 = tf.square(y_true[:, 1]-y_pred[:, 1])\n",
    "    epsilon = 1\n",
    "    squared_difference3 = tf.square(\n",
    "        y_pred[:, 1] - (\n",
    "            y_pred[:, 0] * (\n",
    "                K0 - K1 * (\n",
    "                    9 * a * tf.math.log((y_pred[:, 0] + epsilon) / C0) / (K0 - K1 * c)**2 +\n",
    "                    4 * b * tf.math.log((y_pred[:, 0] + epsilon) / C0) / (K0 - K1 * c) + c\n",
    "                )\n",
    "            )\n",
    "        )\n",
    "    )\n",
    "    return tf.reduce_mean(squared_difference, axis=-1) + 0.2*tf.reduce_mean(squared_difference3, axis=-1)\n",
    "model = Sequential()\n",
    "model.add(LSTM(100, input_shape=(trainX.shape[1], trainX.shape[2])))\n",
    "model.add(Dense(60))\n",
    "model.compile(loss=loss_fn, optimizer='adam')\n",
    "history = model.fit(trainX[:int(splitr*trainX.shape[0])], trainy[:int(splitr*trainX.shape[0])], epochs=500, batch_size=64, validation_data=(trainX[int(splitr*trainX.shape[0]):trainX.shape[0]], trainy[int(splitr*trainX.shape[0]):trainX.shape[0]]), shuffle=False)"
   ]
  },
  {
   "cell_type": "code",
   "execution_count": 19,
   "metadata": {
    "colab": {
     "base_uri": "https://localhost:8080/"
    },
    "id": "yJL101rPyuoT",
    "outputId": "239ff2b1-c186-423a-d316-939dfdd7c793"
   },
   "outputs": [
    {
     "name": "stdout",
     "output_type": "stream",
     "text": [
      "1/1 [==============================] - 0s 345ms/step\n"
     ]
    }
   ],
   "source": [
    "forecast_without_mc = forecastX\n",
    "yhat_without_mc = model.predict(forecast_without_mc) # Step Ahead Prediction\n",
    "forecast_without_mc = forecast_without_mc.reshape((forecast_without_mc.shape[0], forecast_without_mc.shape[2])) # Historical Input"
   ]
  },
  {
   "cell_type": "code",
   "execution_count": 20,
   "metadata": {
    "colab": {
     "base_uri": "https://localhost:8080/"
    },
    "id": "g9dQELcJ8wbp",
    "outputId": "4dc7671b-b1a8-48d5-8744-a86f98446109"
   },
   "outputs": [
    {
     "data": {
      "text/plain": [
       "(1, 1, 251)"
      ]
     },
     "execution_count": 20,
     "metadata": {},
     "output_type": "execute_result"
    }
   ],
   "source": [
    "forecastX.shape"
   ]
  },
  {
   "cell_type": "code",
   "execution_count": 21,
   "metadata": {
    "colab": {
     "base_uri": "https://localhost:8080/"
    },
    "id": "IS2kyIKG1Kbr",
    "outputId": "f31b3485-8e26-452f-9298-ea8bf7e80ad1"
   },
   "outputs": [
    {
     "data": {
      "text/plain": [
       "(1, 251)"
      ]
     },
     "execution_count": 21,
     "metadata": {},
     "output_type": "execute_result"
    }
   ],
   "source": [
    "forecast_without_mc.shape"
   ]
  },
  {
   "cell_type": "code",
   "execution_count": 22,
   "metadata": {
    "id": "0u6VIzaDyuoT"
   },
   "outputs": [],
   "source": [
    "inv_yhat_without_mc = np.concatenate((forecast_without_mc, yhat_without_mc), axis=1) # Concatenation of predicted values with Historical Data\n",
    "#inv_yhat_without_mc = scaler.inverse_transform(inv_yhat_without_mc) # Transform labels back to original encoding"
   ]
  },
  {
   "cell_type": "code",
   "execution_count": 23,
   "metadata": {
    "colab": {
     "base_uri": "https://localhost:8080/"
    },
    "id": "EUEcw0LX07oU",
    "outputId": "cfc32397-9c37-4b43-d087-584bb31c3dcc"
   },
   "outputs": [
    {
     "data": {
      "text/plain": [
       "(1, 311)"
      ]
     },
     "execution_count": 23,
     "metadata": {},
     "output_type": "execute_result"
    }
   ],
   "source": [
    "inv_yhat_without_mc.shape"
   ]
  },
  {
   "cell_type": "code",
   "execution_count": 24,
   "metadata": {
    "id": "31OWVbSh_305"
   },
   "outputs": [],
   "source": [
    "fforecast = inv_yhat_without_mc[:,-300:]"
   ]
  },
  {
   "cell_type": "code",
   "execution_count": 25,
   "metadata": {},
   "outputs": [
    {
     "data": {
      "text/plain": [
       "(1, 300)"
      ]
     },
     "execution_count": 25,
     "metadata": {},
     "output_type": "execute_result"
    }
   ],
   "source": [
    "fforecast.shape"
   ]
  },
  {
   "cell_type": "code",
   "execution_count": 26,
   "metadata": {
    "id": "BlpGH2FOAiRF"
   },
   "outputs": [],
   "source": [
    "final_forecast = fforecast[:,0:300:3]"
   ]
  },
  {
   "cell_type": "code",
   "execution_count": 27,
   "metadata": {},
   "outputs": [
    {
     "data": {
      "text/plain": [
       "(1, 300)"
      ]
     },
     "execution_count": 27,
     "metadata": {},
     "output_type": "execute_result"
    }
   ],
   "source": [
    "fforecast.shape"
   ]
  },
  {
   "cell_type": "code",
   "execution_count": 28,
   "metadata": {
    "id": "CXkgkj_LBk_t"
   },
   "outputs": [],
   "source": [
    "# code to replace all negative value with 0\n",
    "final_forecast[final_forecast<0] = 0"
   ]
  },
  {
   "cell_type": "code",
   "execution_count": 29,
   "metadata": {},
   "outputs": [
    {
     "data": {
      "text/plain": [
       "array([[74.33708217, 74.32979925, 74.32251634, 74.31523343, 74.30795051,\n",
       "        74.3006676 , 74.28727824, 74.27327264, 74.25926704, 74.24526144,\n",
       "        74.23125584, 74.21725023, 74.20324463, 74.18923903, 74.17523343,\n",
       "        74.16122782, 74.14722222, 74.13321662, 74.11921102, 74.10520542,\n",
       "        74.09119981, 74.07719421, 74.06318861, 74.04918301, 74.0351774 ,\n",
       "        74.0211718 , 74.0071662 , 73.9931606 , 73.979155  , 73.96514939,\n",
       "        73.95114379, 73.93713819, 73.92313259, 73.90912698, 73.89512138,\n",
       "        73.88111578, 73.86711018, 73.85310458, 73.83909897, 73.82509337,\n",
       "        73.81108777, 73.79241363, 73.75599907, 73.7195845 , 73.68316993,\n",
       "        73.64675537, 73.6103408 , 73.57392624, 73.53751167, 73.50109711,\n",
       "        73.46468254, 73.42826797, 73.39185341, 73.35543884, 73.31902428,\n",
       "        73.28260971, 73.24619514, 73.20978058, 73.17336601, 73.13695145,\n",
       "        73.10053688, 73.06412232, 73.02770775, 72.99129318, 72.95487862,\n",
       "        72.91846405, 72.88204949, 72.84563492, 72.80922035, 72.77280579,\n",
       "        72.73639122, 72.69997666, 72.66356209, 72.62714753, 72.59073296,\n",
       "        72.55431839, 72.51790383, 72.49003268, 72.47042484, 72.45081699,\n",
       "        78.38580322,  0.17704163,  0.        ,  0.09506555,  0.        ,\n",
       "         0.        ,  0.35351771,  0.        ,  0.22538763,  0.        ,\n",
       "         0.        ,  0.        ,  0.        ,  0.46497834,  0.        ,\n",
       "         0.66569293,  0.        ,  0.1712544 ,  0.        ,  0.        ]])"
      ]
     },
     "execution_count": 29,
     "metadata": {},
     "output_type": "execute_result"
    }
   ],
   "source": [
    "final_forecast"
   ]
  },
  {
   "cell_type": "code",
   "execution_count": 30,
   "metadata": {},
   "outputs": [
    {
     "data": {
      "text/plain": [
       "(1, 100)"
      ]
     },
     "execution_count": 30,
     "metadata": {},
     "output_type": "execute_result"
    }
   ],
   "source": [
    "final_forecast.shape"
   ]
  },
  {
   "cell_type": "code",
   "execution_count": 31,
   "metadata": {},
   "outputs": [
    {
     "data": {
      "text/plain": [
       "(100,)"
      ]
     },
     "execution_count": 31,
     "metadata": {},
     "output_type": "execute_result"
    }
   ],
   "source": [
    "test.shape"
   ]
  },
  {
   "cell_type": "code",
   "execution_count": 32,
   "metadata": {},
   "outputs": [],
   "source": [
    "training_set = np.array(training_set)\n",
    "test = np.array(test)\n",
    "final_forecast = np.array(final_forecast.squeeze(0))"
   ]
  },
  {
   "cell_type": "code",
   "execution_count": 33,
   "metadata": {},
   "outputs": [
    {
     "data": {
      "text/plain": [
       "array([71.70436508, 71.70343137, 71.70249767, 71.70156396, 71.70063025,\n",
       "       71.69848273, 71.69381419, 71.68914566, 71.68447712, 71.67980859,\n",
       "       71.67514006, 71.67047152, 71.66580299, 71.66113445, 71.65646592,\n",
       "       71.65179739, 71.64712885, 71.64246032, 71.63779178, 71.63312325,\n",
       "       71.62845472, 71.62378618, 71.61911765, 71.61444911, 71.60978058,\n",
       "       71.60511204, 71.60044351, 71.59577498, 71.59110644, 71.58643791,\n",
       "       71.58176937, 71.57710084, 71.57243231, 71.56776377, 71.56309524,\n",
       "       71.5584267 , 71.55375817, 71.54908964, 71.5444211 , 71.53975257,\n",
       "       71.53508403, 71.5304155 , 71.52574697, 71.52107843, 71.5164099 ,\n",
       "       71.51174136, 71.50707283, 71.5024043 , 71.49773576, 71.49306723,\n",
       "       71.48839869, 71.48373016, 71.47906162, 71.47439309, 71.46972456,\n",
       "       71.46505602, 71.46038749, 71.45571895, 71.45105042, 71.44638189,\n",
       "       71.44171335, 71.43704482, 71.43237628, 71.42770775, 71.42303922,\n",
       "       71.41837068, 71.41370215, 71.40903361, 71.40436508, 71.39969655,\n",
       "       71.39502801, 71.39035948, 71.38569094, 71.38102241, 71.37635387,\n",
       "       71.37168534, 71.36701681, 71.36234827, 71.35767974, 71.3530112 ,\n",
       "       71.34834267, 71.34367414, 71.3390056 , 71.33433707, 71.32966853,\n",
       "       71.325     , 71.32033147, 71.31566293, 71.3109944 , 71.30632586,\n",
       "       71.30165733, 71.2969888 , 71.29232026, 71.28765173, 71.28298319,\n",
       "       71.27831466, 71.27364613, 71.26897759, 71.26430906, 71.25964052])"
      ]
     },
     "execution_count": 33,
     "metadata": {},
     "output_type": "execute_result"
    }
   ],
   "source": [
    "test"
   ]
  },
  {
   "cell_type": "code",
   "execution_count": 34,
   "metadata": {},
   "outputs": [
    {
     "data": {
      "text/plain": [
       "(100,)"
      ]
     },
     "execution_count": 34,
     "metadata": {},
     "output_type": "execute_result"
    }
   ],
   "source": [
    "test.shape"
   ]
  },
  {
   "cell_type": "code",
   "execution_count": 35,
   "metadata": {},
   "outputs": [
    {
     "data": {
      "text/plain": [
       "(100,)"
      ]
     },
     "execution_count": 35,
     "metadata": {},
     "output_type": "execute_result"
    }
   ],
   "source": [
    "final_forecast.shape"
   ]
  },
  {
   "cell_type": "code",
   "execution_count": 36,
   "metadata": {},
   "outputs": [
    {
     "data": {
      "text/plain": [
       "(100,)"
      ]
     },
     "execution_count": 36,
     "metadata": {},
     "output_type": "execute_result"
    }
   ],
   "source": [
    "test.shape"
   ]
  },
  {
   "cell_type": "code",
   "execution_count": 37,
   "metadata": {},
   "outputs": [
    {
     "name": "stdout",
     "output_type": "stream",
     "text": [
      "31.096525155962063\n",
      "15.253041442155341\n"
     ]
    }
   ],
   "source": [
    "import math\n",
    "MSE = np.square(np.subtract(np.array(test),np.array(final_forecast))).mean()   \n",
    "rsme = math.sqrt(MSE)\n",
    "print(rsme)  \n",
    "MAE = np.abs(np.subtract(np.array(test),np.array(final_forecast))).mean()   \n",
    "mae = MAE\n",
    "print(mae)"
   ]
  }
 ],
 "metadata": {
  "colab": {
   "provenance": []
  },
  "kernelspec": {
   "display_name": "Python 3",
   "language": "python",
   "name": "python3"
  },
  "language_info": {
   "codemirror_mode": {
    "name": "ipython",
    "version": 3
   },
   "file_extension": ".py",
   "mimetype": "text/x-python",
   "name": "python",
   "nbconvert_exporter": "python",
   "pygments_lexer": "ipython3",
   "version": "3.9.13"
  }
 },
 "nbformat": 4,
 "nbformat_minor": 0
}
