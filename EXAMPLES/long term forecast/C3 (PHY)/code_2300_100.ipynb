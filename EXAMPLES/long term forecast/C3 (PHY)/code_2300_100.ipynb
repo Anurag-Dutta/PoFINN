{
 "cells": [
  {
   "cell_type": "markdown",
   "metadata": {
    "id": "pCGKeZ2gyuoQ"
   },
   "source": [
    "_Importing Required Libraries_"
   ]
  },
  {
   "cell_type": "code",
   "execution_count": 1,
   "metadata": {
    "colab": {
     "base_uri": "https://localhost:8080/"
    },
    "id": "A-6LN-zXiLcM",
    "outputId": "4de610a4-f8b8-4f49-c6c0-89de299ccedc"
   },
   "outputs": [
    {
     "name": "stdout",
     "output_type": "stream",
     "text": [
      "Requirement already satisfied: hampel in c:\\users\\anurag dutta\\appdata\\local\\packages\\pythonsoftwarefoundation.python.3.9_qbz5n2kfra8p0\\localcache\\local-packages\\python39\\site-packages (0.0.5)\n",
      "Requirement already satisfied: numpy in c:\\users\\anurag dutta\\appdata\\local\\packages\\pythonsoftwarefoundation.python.3.9_qbz5n2kfra8p0\\localcache\\local-packages\\python39\\site-packages (from hampel) (1.26.4)\n",
      "Requirement already satisfied: pandas in c:\\users\\anurag dutta\\appdata\\local\\packages\\pythonsoftwarefoundation.python.3.9_qbz5n2kfra8p0\\localcache\\local-packages\\python39\\site-packages (from hampel) (1.5.2)\n",
      "Requirement already satisfied: python-dateutil>=2.8.1 in c:\\users\\anurag dutta\\appdata\\local\\packages\\pythonsoftwarefoundation.python.3.9_qbz5n2kfra8p0\\localcache\\local-packages\\python39\\site-packages (from pandas->hampel) (2.8.2)\n",
      "Requirement already satisfied: pytz>=2020.1 in c:\\users\\anurag dutta\\appdata\\local\\packages\\pythonsoftwarefoundation.python.3.9_qbz5n2kfra8p0\\localcache\\local-packages\\python39\\site-packages (from pandas->hampel) (2023.3.post1)\n",
      "Requirement already satisfied: six>=1.5 in c:\\users\\anurag dutta\\appdata\\local\\packages\\pythonsoftwarefoundation.python.3.9_qbz5n2kfra8p0\\localcache\\local-packages\\python39\\site-packages (from python-dateutil>=2.8.1->pandas->hampel) (1.16.0)\n",
      "Note: you may need to restart the kernel to use updated packages.\n"
     ]
    },
    {
     "name": "stderr",
     "output_type": "stream",
     "text": [
      "\n",
      "[notice] A new release of pip is available: 24.2 -> 24.3.1\n",
      "[notice] To update, run: C:\\Users\\Anurag Dutta\\AppData\\Local\\Microsoft\\WindowsApps\\PythonSoftwareFoundation.Python.3.9_qbz5n2kfra8p0\\python.exe -m pip install --upgrade pip\n"
     ]
    }
   ],
   "source": [
    "pip install hampel"
   ]
  },
  {
   "cell_type": "code",
   "execution_count": 2,
   "metadata": {
    "id": "By_d9uXpaFvZ"
   },
   "outputs": [],
   "source": [
    "from keras.models import Sequential\n",
    "from keras.layers import Dense\n",
    "from keras.layers import LSTM\n",
    "from keras.layers import Dropout\n",
    "import keras\n",
    "import tensorflow as tf\n",
    "from hampel import hampel\n",
    "import numpy as np\n",
    "import matplotlib.pyplot as plt\n",
    "import pandas as pd\n",
    "from sklearn.preprocessing import MinMaxScaler\n",
    "from sklearn.metrics import mean_squared_error, mean_absolute_error\n",
    "from math import sqrt\n",
    "from matplotlib import pyplot\n",
    "from numpy import array"
   ]
  },
  {
   "cell_type": "markdown",
   "metadata": {
    "id": "JyOjBMFayuoR"
   },
   "source": [
    "## Pretraining"
   ]
  },
  {
   "cell_type": "markdown",
   "metadata": {
    "id": "-5QqIY_GyuoR"
   },
   "source": [
    "The `capa_intermittency.dat` feeds the model with the dynamics of the Capacitor"
   ]
  },
  {
   "cell_type": "code",
   "execution_count": 3,
   "metadata": {
    "id": "9dV4a8yfyuoR"
   },
   "outputs": [],
   "source": [
    "data = np.genfromtxt('capa_intermittency.dat')\n",
    "training_set = pd.DataFrame(data).reset_index(drop=True)\n",
    "training_set = training_set.iloc[:,0]"
   ]
  },
  {
   "cell_type": "markdown",
   "metadata": {
    "id": "i7easoxByuoR"
   },
   "source": [
    "## Computing the Gradient"
   ]
  },
  {
   "cell_type": "markdown",
   "metadata": {
    "id": "5SnyolJTyuoR"
   },
   "source": [
    "_Calculating the value of_ $\\frac{dx}{dt}$"
   ]
  },
  {
   "cell_type": "code",
   "execution_count": 4,
   "metadata": {
    "colab": {
     "base_uri": "https://localhost:8080/"
    },
    "id": "wmIbVfIvyuoR",
    "outputId": "aa4e3136-c854-465d-d2e9-81cfd546e440"
   },
   "outputs": [
    {
     "name": "stdout",
     "output_type": "stream",
     "text": [
      "1.0\n",
      "1        0.000298\n",
      "2        0.000298\n",
      "3        0.000297\n",
      "4        0.000297\n",
      "5        0.000297\n",
      "           ...   \n",
      "9996     0.000018\n",
      "9997     0.000018\n",
      "9998     0.000018\n",
      "9999     0.000018\n",
      "10000    0.000018\n",
      "Name: 0, Length: 10000, dtype: float64\n"
     ]
    }
   ],
   "source": [
    "t_diff = 1\n",
    "print(training_set.max())\n",
    "gradient_t = (training_set.diff()/t_diff).iloc[1:] # dx/dt\n",
    "print(gradient_t)"
   ]
  },
  {
   "cell_type": "markdown",
   "metadata": {
    "id": "_2eVeeoxyuoS"
   },
   "source": [
    "## Loading Datasets"
   ]
  },
  {
   "cell_type": "code",
   "execution_count": null,
   "metadata": {
    "id": "0J-NKyIEyuoS"
   },
   "outputs": [
    {
     "data": {
      "text/plain": [
       "0       91.100000\n",
       "1       90.875910\n",
       "2       90.651821\n",
       "3       90.427731\n",
       "4       90.203641\n",
       "          ...    \n",
       "2395    67.653686\n",
       "2396    67.647400\n",
       "2397    67.641115\n",
       "2398    67.634830\n",
       "2399    67.628544\n",
       "Name: C3, Length: 2400, dtype: float64"
      ]
     },
     "execution_count": 5,
     "metadata": {},
     "output_type": "execute_result"
    }
   ],
   "source": [
    "data = pd.read_csv(\"c3_interpolated_2300_100.csv\")\n",
    "training_set = data.iloc[:, 1]\n",
    "training_set"
   ]
  },
  {
   "cell_type": "code",
   "execution_count": 6,
   "metadata": {
    "colab": {
     "base_uri": "https://localhost:8080/"
    },
    "id": "-CbNUhJ74UqF",
    "outputId": "20f562d8-8247-49cc-b9c3-00eca5e13e2d"
   },
   "outputs": [
    {
     "data": {
      "text/plain": [
       "0       91.100000\n",
       "1       90.875910\n",
       "2       90.651821\n",
       "3       90.427731\n",
       "4       90.203641\n",
       "          ...    \n",
       "2295     0.566975\n",
       "2296     0.322637\n",
       "2297     0.000000\n",
       "2298     0.000000\n",
       "2299     0.000000\n",
       "Name: C3, Length: 2300, dtype: float64"
      ]
     },
     "execution_count": 6,
     "metadata": {},
     "output_type": "execute_result"
    }
   ],
   "source": [
    "test = training_set.tail(100)\n",
    "test\n",
    "training_set = training_set.head(2300)\n",
    "training_set"
   ]
  },
  {
   "cell_type": "code",
   "execution_count": 7,
   "metadata": {
    "colab": {
     "base_uri": "https://localhost:8080/"
    },
    "id": "X0TwTcq0yuoS",
    "outputId": "37252ed8-d88e-4044-fa7a-922411990b5b"
   },
   "outputs": [
    {
     "name": "stdout",
     "output_type": "stream",
     "text": [
      "0       0.000298\n",
      "1       0.000298\n",
      "2       0.000297\n",
      "3       0.000297\n",
      "4       0.000297\n",
      "          ...   \n",
      "9995    0.000018\n",
      "9996    0.000018\n",
      "9997    0.000018\n",
      "9998    0.000018\n",
      "9999    0.000018\n",
      "Name: 0, Length: 10000, dtype: float64\n"
     ]
    }
   ],
   "source": [
    "training_set = training_set.reset_index(drop=True)\n",
    "gradient_t = gradient_t.reset_index(drop=True)\n",
    "print(gradient_t)"
   ]
  },
  {
   "cell_type": "code",
   "execution_count": 8,
   "metadata": {
    "id": "O2biznZQyuoS"
   },
   "outputs": [],
   "source": [
    "df = pd.concat((training_set, gradient_t), axis=1)\n",
    "df.columns = ['y_t', 'grad_t']"
   ]
  },
  {
   "cell_type": "code",
   "execution_count": 9,
   "metadata": {
    "colab": {
     "base_uri": "https://localhost:8080/",
     "height": 423
    },
    "id": "sk_a5v3tyuoS",
    "outputId": "17563625-e550-45ae-faab-fafa353e44da"
   },
   "outputs": [
    {
     "data": {
      "text/html": [
       "<div>\n",
       "<style scoped>\n",
       "    .dataframe tbody tr th:only-of-type {\n",
       "        vertical-align: middle;\n",
       "    }\n",
       "\n",
       "    .dataframe tbody tr th {\n",
       "        vertical-align: top;\n",
       "    }\n",
       "\n",
       "    .dataframe thead th {\n",
       "        text-align: right;\n",
       "    }\n",
       "</style>\n",
       "<table border=\"1\" class=\"dataframe\">\n",
       "  <thead>\n",
       "    <tr style=\"text-align: right;\">\n",
       "      <th></th>\n",
       "      <th>y_t</th>\n",
       "      <th>grad_t</th>\n",
       "    </tr>\n",
       "  </thead>\n",
       "  <tbody>\n",
       "    <tr>\n",
       "      <th>0</th>\n",
       "      <td>91.100000</td>\n",
       "      <td>0.000298</td>\n",
       "    </tr>\n",
       "    <tr>\n",
       "      <th>1</th>\n",
       "      <td>90.875910</td>\n",
       "      <td>0.000298</td>\n",
       "    </tr>\n",
       "    <tr>\n",
       "      <th>2</th>\n",
       "      <td>90.651821</td>\n",
       "      <td>0.000297</td>\n",
       "    </tr>\n",
       "    <tr>\n",
       "      <th>3</th>\n",
       "      <td>90.427731</td>\n",
       "      <td>0.000297</td>\n",
       "    </tr>\n",
       "    <tr>\n",
       "      <th>4</th>\n",
       "      <td>90.203641</td>\n",
       "      <td>0.000297</td>\n",
       "    </tr>\n",
       "    <tr>\n",
       "      <th>...</th>\n",
       "      <td>...</td>\n",
       "      <td>...</td>\n",
       "    </tr>\n",
       "    <tr>\n",
       "      <th>9995</th>\n",
       "      <td>NaN</td>\n",
       "      <td>0.000018</td>\n",
       "    </tr>\n",
       "    <tr>\n",
       "      <th>9996</th>\n",
       "      <td>NaN</td>\n",
       "      <td>0.000018</td>\n",
       "    </tr>\n",
       "    <tr>\n",
       "      <th>9997</th>\n",
       "      <td>NaN</td>\n",
       "      <td>0.000018</td>\n",
       "    </tr>\n",
       "    <tr>\n",
       "      <th>9998</th>\n",
       "      <td>NaN</td>\n",
       "      <td>0.000018</td>\n",
       "    </tr>\n",
       "    <tr>\n",
       "      <th>9999</th>\n",
       "      <td>NaN</td>\n",
       "      <td>0.000018</td>\n",
       "    </tr>\n",
       "  </tbody>\n",
       "</table>\n",
       "<p>10000 rows × 2 columns</p>\n",
       "</div>"
      ],
      "text/plain": [
       "            y_t    grad_t\n",
       "0     91.100000  0.000298\n",
       "1     90.875910  0.000298\n",
       "2     90.651821  0.000297\n",
       "3     90.427731  0.000297\n",
       "4     90.203641  0.000297\n",
       "...         ...       ...\n",
       "9995        NaN  0.000018\n",
       "9996        NaN  0.000018\n",
       "9997        NaN  0.000018\n",
       "9998        NaN  0.000018\n",
       "9999        NaN  0.000018\n",
       "\n",
       "[10000 rows x 2 columns]"
      ]
     },
     "execution_count": 9,
     "metadata": {},
     "output_type": "execute_result"
    }
   ],
   "source": [
    "df"
   ]
  },
  {
   "cell_type": "markdown",
   "metadata": {
    "id": "-5esyHu5aFvg"
   },
   "source": [
    "## Plot of the External Forcing from Chaotic Differential Equation"
   ]
  },
  {
   "cell_type": "code",
   "execution_count": 10,
   "metadata": {
    "colab": {
     "base_uri": "https://localhost:8080/",
     "height": 447
    },
    "id": "hGnE43tOh-4p",
    "outputId": "fc396503-b624-4fa5-dfbe-f460207405c6"
   },
   "outputs": [
    {
     "data": {
      "text/plain": [
       "<Axes: >"
      ]
     },
     "execution_count": 10,
     "metadata": {},
     "output_type": "execute_result"
    },
    {
     "data": {
      "image/png": "[encoded data removed]",
      "text/plain": [
       "<Figure size 432x288 with 1 Axes>"
      ]
     },
     "metadata": {
      "needs_background": "light"
     },
     "output_type": "display_data"
    }
   ],
   "source": [
    "df.iloc[:, 0].plot()"
   ]
  },
  {
   "cell_type": "code",
   "execution_count": 11,
   "metadata": {
    "colab": {
     "base_uri": "https://localhost:8080/",
     "height": 447
    },
    "id": "ym4xWUUxaFvg",
    "outputId": "ae6a3495-8ce9-437e-ba81-3ed31deedeae"
   },
   "outputs": [
    {
     "name": "stderr",
     "output_type": "stream",
     "text": [
      "C:\\Users\\Anurag Dutta\\AppData\\Local\\Packages\\PythonSoftwareFoundation.Python.3.9_qbz5n2kfra8p0\\LocalCache\\local-packages\\Python39\\site-packages\\pandas\\core\\arraylike.py:402: RuntimeWarning: divide by zero encountered in log\n",
      "  result = getattr(ufunc, method)(*inputs, **kwargs)\n"
     ]
    },
    {
     "data": {
      "text/plain": [
       "<Axes: >"
      ]
     },
     "execution_count": 11,
     "metadata": {},
     "output_type": "execute_result"
    },
    {
     "data": {
      "image/png": "[encoded data removed]",
      "text/plain": [
       "<Figure size 432x288 with 1 Axes>"
      ]
     },
     "metadata": {
      "needs_background": "light"
     },
     "output_type": "display_data"
    }
   ],
   "source": [
    "import numpy as np\n",
    "c0 = 88.0403  # Value for C0\n",
    "K0 = -0.0012  # Value for K0\n",
    "K1 = -0.0001  # Value for K1\n",
    "a = 0.0000    # Value for a\n",
    "b = 0.0120    # Value for b\n",
    "c = 2.0334    # Value for c\n",
    "\n",
    "L = np.minimum(c0, (df.iloc[:, 1] - (df.iloc[:, 0] * (K0 - K1 * (9 * a * np.log(df.iloc[:, 0] / c0) / (K0 - K1 * c)**2 + 4 * b * np.log(df.iloc[:, 0] / c0) / (K0 - K1 * c) + c)))))\n",
    "L.plot()"
   ]
  },
  {
   "cell_type": "markdown",
   "metadata": {
    "id": "9VyEywnwaFvh"
   },
   "source": [
    "## Preprocessing the data into supervised learning"
   ]
  },
  {
   "cell_type": "code",
   "execution_count": 12,
   "metadata": {
    "id": "6V9dXqzdaFvh"
   },
   "outputs": [],
   "source": [
    "# split a sequence into samples\n",
    "def Supervised(data, n_in=1, n_out=1, dropnan=True):\n",
    "    n_vars = 1 if type(data) is list else data.shape[1]\n",
    "    df = pd.DataFrame(data)\n",
    "    cols, names = list(), list()\n",
    "    # input sequence (t-n_in, ... t-1)\n",
    "    for i in range(n_in, 0, -1):\n",
    "        cols.append(df.shift(i))\n",
    "        names += [('var%d(t-%d)' % (j+1, i)) for j in range(n_vars)]\n",
    "    # forecast sequence (t, t+1, ... t+n_out)\n",
    "    for i in range(0, n_out):\n",
    "      cols.append(df.shift(-i))\n",
    "      if i == 0:\n",
    "        names += [('var%d(t)' % (j+1)) for j in range(n_vars)]\n",
    "      else:\n",
    "        names += [('var%d(t+%d)' % (j+1, i)) for j in range(n_vars)]\n",
    "    # put it all together\n",
    "    agg = pd.concat(cols, axis=1)\n",
    "    agg.columns = names\n",
    "    # drop rows with NaN values\n",
    "    if dropnan:\n",
    "       agg.dropna(inplace=True)\n",
    "    return agg"
   ]
  },
  {
   "cell_type": "code",
   "execution_count": 13,
   "metadata": {
    "colab": {
     "base_uri": "https://localhost:8080/"
    },
    "id": "CrzSrT1HnyfH",
    "outputId": "7e75f928-3e47-499d-eac1-51908015ef78"
   },
   "outputs": [
    {
     "name": "stdout",
     "output_type": "stream",
     "text": [
      "     var1(t-350)  var1(t-349)  var1(t-348)  var1(t-347)  var1(t-346)  \\\n",
      "350    91.100000    90.875910    90.651821    90.427731    90.203641   \n",
      "351    90.875910    90.651821    90.427731    90.203641    89.979552   \n",
      "352    90.651821    90.427731    90.203641    89.979552    89.755462   \n",
      "353    90.427731    90.203641    89.979552    89.755462    89.531373   \n",
      "354    90.203641    89.979552    89.755462    89.531373    89.307283   \n",
      "\n",
      "     var1(t-345)  var1(t-344)  var1(t-343)  var1(t-342)  var1(t-341)  ...  \\\n",
      "350    89.979552    89.755462    89.531373    89.307283    89.094118  ...   \n",
      "351    89.755462    89.531373    89.307283    89.094118    89.015686  ...   \n",
      "352    89.531373    89.307283    89.094118    89.015686    88.937255  ...   \n",
      "353    89.307283    89.094118    89.015686    88.937255    88.858824  ...   \n",
      "354    89.094118    89.015686    88.937255    88.858824    88.780392  ...   \n",
      "\n",
      "     var1(t+95)  var2(t+95)  var1(t+96)  var2(t+96)  var1(t+97)  var2(t+97)  \\\n",
      "350   81.423343    0.000263   81.404669    0.000263   81.385994    0.000263   \n",
      "351   81.404669    0.000263   81.385994    0.000263   81.367320    0.000262   \n",
      "352   81.385994    0.000263   81.367320    0.000262   81.348646    0.000262   \n",
      "353   81.367320    0.000262   81.348646    0.000262   81.329972    0.000262   \n",
      "354   81.348646    0.000262   81.329972    0.000262   81.311298    0.000262   \n",
      "\n",
      "     var1(t+98)  var2(t+98)  var1(t+99)  var2(t+99)  \n",
      "350   81.367320    0.000262   81.348646    0.000262  \n",
      "351   81.348646    0.000262   81.329972    0.000262  \n",
      "352   81.329972    0.000262   81.311298    0.000262  \n",
      "353   81.311298    0.000262   81.292624    0.000262  \n",
      "354   81.292624    0.000262   81.273950    0.000262  \n",
      "\n",
      "[5 rows x 551 columns]\n",
      "Index(['var1(t-350)', 'var1(t-349)', 'var1(t-348)', 'var1(t-347)',\n",
      "       'var1(t-346)', 'var1(t-345)', 'var1(t-344)', 'var1(t-343)',\n",
      "       'var1(t-342)', 'var1(t-341)',\n",
      "       ...\n",
      "       'var1(t+95)', 'var2(t+95)', 'var1(t+96)', 'var2(t+96)', 'var1(t+97)',\n",
      "       'var2(t+97)', 'var1(t+98)', 'var2(t+98)', 'var1(t+99)', 'var2(t+99)'],\n",
      "      dtype='object', length=551)\n"
     ]
    }
   ],
   "source": [
    "data = Supervised(df.values, n_in = 350, n_out = 100)\n",
    "\n",
    "\n",
    "cols_to_drop = []\n",
    "for i in range(2, 351):\n",
    "    cols_to_drop.extend([f'var2(t-{i})'])\n",
    "\n",
    "data.drop(cols_to_drop, axis=1, inplace=True)\n",
    "\n",
    "print(data.head())\n",
    "print(data.columns)"
   ]
  },
  {
   "cell_type": "code",
   "execution_count": 14,
   "metadata": {
    "id": "AfPf60oy6Pe4"
   },
   "outputs": [],
   "source": [
    "train = np.array(data[0:len(data)-1])\n",
    "forecast = np.array(data.tail(1))"
   ]
  },
  {
   "cell_type": "code",
   "execution_count": 15,
   "metadata": {
    "id": "WSAafzI37KiT"
   },
   "outputs": [],
   "source": [
    "trainy = train[:,-300:]\n",
    "trainX = train[:,:-300]"
   ]
  },
  {
   "cell_type": "code",
   "execution_count": 16,
   "metadata": {
    "id": "2SrOqVJA7f50"
   },
   "outputs": [],
   "source": [
    "forecasty = forecast[:,-300:]\n",
    "forecastX = forecast[:,:-300]"
   ]
  },
  {
   "cell_type": "code",
   "execution_count": 17,
   "metadata": {
    "colab": {
     "base_uri": "https://localhost:8080/"
    },
    "id": "Qno_k8Nw7saY",
    "outputId": "c4a88db5-d8c6-489f-cdb2-06b24e293cff"
   },
   "outputs": [
    {
     "name": "stdout",
     "output_type": "stream",
     "text": [
      "(1850, 1, 251) (1850, 300) (1, 1, 251)\n"
     ]
    }
   ],
   "source": [
    "trainX = trainX.reshape((trainX.shape[0], 1, trainX.shape[1]))\n",
    "forecastX = forecastX.reshape((forecastX.shape[0], 1, forecastX.shape[1]))\n",
    "print(trainX.shape, trainy.shape, forecastX.shape)"
   ]
  },
  {
   "cell_type": "code",
   "execution_count": 18,
   "metadata": {
    "colab": {
     "base_uri": "https://localhost:8080/"
    },
    "id": "b1Jp2DvNuNFx",
    "outputId": "d0e5b3c4-64f1-438c-eade-8dfeaac8e285"
   },
   "outputs": [
    {
     "name": "stdout",
     "output_type": "stream",
     "text": [
      "Epoch 1/500\n",
      "24/24 [==============================] - 3s 23ms/step - loss: 5659.1748 - val_loss: 3655.5652\n",
      "Epoch 2/500\n",
      "24/24 [==============================] - 0s 4ms/step - loss: 5442.7974 - val_loss: 3512.1133\n",
      "Epoch 3/500\n",
      "24/24 [==============================] - 0s 3ms/step - loss: 5314.1509 - val_loss: 3436.0659\n",
      "Epoch 4/500\n",
      "24/24 [==============================] - 0s 3ms/step - loss: 5219.9043 - val_loss: 3377.1565\n",
      "Epoch 5/500\n",
      "24/24 [==============================] - 0s 6ms/step - loss: 5137.1982 - val_loss: 3323.4797\n",
      "Epoch 6/500\n",
      "24/24 [==============================] - 0s 5ms/step - loss: 5053.1978 - val_loss: 3268.0107\n",
      "Epoch 7/500\n",
      "24/24 [==============================] - 0s 4ms/step - loss: 4972.4194 - val_loss: 3216.3831\n",
      "Epoch 8/500\n",
      "24/24 [==============================] - 0s 3ms/step - loss: 4894.7090 - val_loss: 3166.8486\n",
      "Epoch 9/500\n",
      "24/24 [==============================] - 0s 3ms/step - loss: 4819.0996 - val_loss: 3118.6838\n",
      "Epoch 10/500\n",
      "24/24 [==============================] - 0s 4ms/step - loss: 4745.1353 - val_loss: 3071.6716\n",
      "Epoch 11/500\n",
      "24/24 [==============================] - 0s 4ms/step - loss: 4672.5586 - val_loss: 3025.6934\n",
      "Epoch 12/500\n",
      "24/24 [==============================] - 0s 3ms/step - loss: 4601.2153 - val_loss: 2980.8459\n",
      "Epoch 13/500\n",
      "24/24 [==============================] - 0s 3ms/step - loss: 4531.0010 - val_loss: 2936.2156\n",
      "Epoch 14/500\n",
      "24/24 [==============================] - 0s 3ms/step - loss: 4461.8398 - val_loss: 2892.8704\n",
      "Epoch 15/500\n",
      "24/24 [==============================] - 0s 4ms/step - loss: 4393.6753 - val_loss: 2850.3230\n",
      "Epoch 16/500\n",
      "24/24 [==============================] - 0s 4ms/step - loss: 4326.4644 - val_loss: 2808.5461\n",
      "Epoch 17/500\n",
      "24/24 [==============================] - 0s 4ms/step - loss: 4260.1704 - val_loss: 2767.5161\n",
      "Epoch 18/500\n",
      "24/24 [==============================] - 0s 3ms/step - loss: 4194.7637 - val_loss: 2727.2100\n",
      "Epoch 19/500\n",
      "24/24 [==============================] - 0s 3ms/step - loss: 4130.0278 - val_loss: 2676.9343\n",
      "Epoch 20/500\n",
      "24/24 [==============================] - 0s 5ms/step - loss: 4044.6226 - val_loss: 2632.1150\n",
      "Epoch 21/500\n",
      "24/24 [==============================] - 0s 9ms/step - loss: 3974.0562 - val_loss: 2589.8430\n",
      "Epoch 22/500\n",
      "24/24 [==============================] - 0s 3ms/step - loss: 3906.0625 - val_loss: 2549.1877\n",
      "Epoch 23/500\n",
      "24/24 [==============================] - 0s 5ms/step - loss: 3840.0334 - val_loss: 2509.7627\n",
      "Epoch 24/500\n",
      "24/24 [==============================] - 0s 4ms/step - loss: 3775.5139 - val_loss: 2471.3699\n",
      "Epoch 25/500\n",
      "24/24 [==============================] - 0s 4ms/step - loss: 3712.2656 - val_loss: 2433.8979\n",
      "Epoch 26/500\n",
      "24/24 [==============================] - 0s 4ms/step - loss: 3650.1489 - val_loss: 2397.2756\n",
      "Epoch 27/500\n",
      "24/24 [==============================] - 0s 5ms/step - loss: 3589.0757 - val_loss: 2361.4548\n",
      "Epoch 28/500\n",
      "24/24 [==============================] - 0s 4ms/step - loss: 3528.9795 - val_loss: 2326.3972\n",
      "Epoch 29/500\n",
      "24/24 [==============================] - 0s 4ms/step - loss: 3469.8132 - val_loss: 2292.0750\n",
      "Epoch 30/500\n",
      "24/24 [==============================] - 0s 4ms/step - loss: 3411.5388 - val_loss: 2258.4639\n",
      "Epoch 31/500\n",
      "24/24 [==============================] - 0s 4ms/step - loss: 3354.1252 - val_loss: 2225.5444\n",
      "Epoch 32/500\n",
      "24/24 [==============================] - 0s 3ms/step - loss: 3297.5474 - val_loss: 2193.2991\n",
      "Epoch 33/500\n",
      "24/24 [==============================] - 0s 3ms/step - loss: 3241.7832 - val_loss: 2161.7129\n",
      "Epoch 34/500\n",
      "24/24 [==============================] - 0s 6ms/step - loss: 3186.8135 - val_loss: 2130.7727\n",
      "Epoch 35/500\n",
      "24/24 [==============================] - 0s 4ms/step - loss: 3132.6204 - val_loss: 2100.4656\n",
      "Epoch 36/500\n",
      "24/24 [==============================] - 0s 4ms/step - loss: 3079.1892 - val_loss: 2070.7805\n",
      "Epoch 37/500\n",
      "24/24 [==============================] - 0s 4ms/step - loss: 3026.5063 - val_loss: 2041.7072\n",
      "Epoch 38/500\n",
      "24/24 [==============================] - 0s 4ms/step - loss: 2974.5591 - val_loss: 2013.2354\n",
      "Epoch 39/500\n",
      "24/24 [==============================] - 0s 3ms/step - loss: 2923.3347 - val_loss: 1985.3564\n",
      "Epoch 40/500\n",
      "24/24 [==============================] - 0s 4ms/step - loss: 2872.8228 - val_loss: 1958.0616\n",
      "Epoch 41/500\n",
      "24/24 [==============================] - 0s 3ms/step - loss: 2823.0127 - val_loss: 1931.3423\n",
      "Epoch 42/500\n",
      "24/24 [==============================] - 0s 3ms/step - loss: 2773.8948 - val_loss: 1905.1902\n",
      "Epoch 43/500\n",
      "24/24 [==============================] - 0s 3ms/step - loss: 2725.4597 - val_loss: 1879.5981\n",
      "Epoch 44/500\n",
      "24/24 [==============================] - 0s 4ms/step - loss: 2677.6990 - val_loss: 1854.5588\n",
      "Epoch 45/500\n",
      "24/24 [==============================] - 0s 3ms/step - loss: 2630.6025 - val_loss: 1830.0648\n",
      "Epoch 46/500\n",
      "24/24 [==============================] - 0s 3ms/step - loss: 2584.1643 - val_loss: 1806.1086\n",
      "Epoch 47/500\n",
      "24/24 [==============================] - 0s 3ms/step - loss: 2538.3750 - val_loss: 1782.6846\n",
      "Epoch 48/500\n",
      "24/24 [==============================] - 0s 3ms/step - loss: 2493.2273 - val_loss: 1759.7855\n",
      "Epoch 49/500\n",
      "24/24 [==============================] - 0s 3ms/step - loss: 2448.7139 - val_loss: 1737.4050\n",
      "Epoch 50/500\n",
      "24/24 [==============================] - 0s 5ms/step - loss: 2404.8276 - val_loss: 1715.5371\n",
      "Epoch 51/500\n",
      "24/24 [==============================] - 0s 4ms/step - loss: 2361.5613 - val_loss: 1694.1753\n",
      "Epoch 52/500\n",
      "24/24 [==============================] - 0s 4ms/step - loss: 2318.9082 - val_loss: 1673.3135\n",
      "Epoch 53/500\n",
      "24/24 [==============================] - 0s 5ms/step - loss: 2276.8621 - val_loss: 1652.9462\n",
      "Epoch 54/500\n",
      "24/24 [==============================] - 0s 3ms/step - loss: 2235.4158 - val_loss: 1633.0669\n",
      "Epoch 55/500\n",
      "24/24 [==============================] - 0s 4ms/step - loss: 2194.5637 - val_loss: 1613.6708\n",
      "Epoch 56/500\n",
      "24/24 [==============================] - 0s 5ms/step - loss: 2154.2996 - val_loss: 1594.7510\n",
      "Epoch 57/500\n",
      "24/24 [==============================] - 0s 5ms/step - loss: 2114.6167 - val_loss: 1576.3032\n",
      "Epoch 58/500\n",
      "24/24 [==============================] - 0s 12ms/step - loss: 2075.5090 - val_loss: 1558.3217\n",
      "Epoch 59/500\n",
      "24/24 [==============================] - 0s 5ms/step - loss: 2036.9714 - val_loss: 1540.8000\n",
      "Epoch 60/500\n",
      "24/24 [==============================] - 0s 6ms/step - loss: 1998.9977 - val_loss: 1523.7334\n",
      "Epoch 61/500\n",
      "24/24 [==============================] - 0s 5ms/step - loss: 1961.5822 - val_loss: 1507.1174\n",
      "Epoch 62/500\n",
      "24/24 [==============================] - 0s 5ms/step - loss: 1924.7191 - val_loss: 1490.9454\n",
      "Epoch 63/500\n",
      "24/24 [==============================] - 0s 4ms/step - loss: 1888.4027 - val_loss: 1475.2129\n",
      "Epoch 64/500\n",
      "24/24 [==============================] - 0s 4ms/step - loss: 1852.6284 - val_loss: 1459.9147\n",
      "Epoch 65/500\n",
      "24/24 [==============================] - 0s 3ms/step - loss: 1817.3900 - val_loss: 1445.0454\n",
      "Epoch 66/500\n",
      "24/24 [==============================] - 0s 4ms/step - loss: 1782.6826 - val_loss: 1430.6007\n",
      "Epoch 67/500\n",
      "24/24 [==============================] - 0s 3ms/step - loss: 1748.5009 - val_loss: 1416.5750\n",
      "Epoch 68/500\n",
      "24/24 [==============================] - 0s 4ms/step - loss: 1714.8390 - val_loss: 1402.9631\n",
      "Epoch 69/500\n",
      "24/24 [==============================] - 0s 4ms/step - loss: 1681.6936 - val_loss: 1389.7610\n",
      "Epoch 70/500\n",
      "24/24 [==============================] - 0s 4ms/step - loss: 1649.0580 - val_loss: 1376.9631\n",
      "Epoch 71/500\n",
      "24/24 [==============================] - 0s 4ms/step - loss: 1616.9270 - val_loss: 1364.5647\n",
      "Epoch 72/500\n",
      "24/24 [==============================] - 0s 4ms/step - loss: 1585.2968 - val_loss: 1352.5607\n",
      "Epoch 73/500\n",
      "24/24 [==============================] - 0s 5ms/step - loss: 1554.1624 - val_loss: 1340.9467\n",
      "Epoch 74/500\n",
      "24/24 [==============================] - 0s 4ms/step - loss: 1523.5175 - val_loss: 1329.7179\n",
      "Epoch 75/500\n",
      "24/24 [==============================] - 0s 4ms/step - loss: 1493.3588 - val_loss: 1318.8694\n",
      "Epoch 76/500\n",
      "24/24 [==============================] - 0s 4ms/step - loss: 1463.6805 - val_loss: 1308.3967\n",
      "Epoch 77/500\n",
      "24/24 [==============================] - 0s 4ms/step - loss: 1434.4788 - val_loss: 1298.2948\n",
      "Epoch 78/500\n",
      "24/24 [==============================] - 0s 3ms/step - loss: 1405.7479 - val_loss: 1288.5593\n",
      "Epoch 79/500\n",
      "24/24 [==============================] - 0s 4ms/step - loss: 1377.4838 - val_loss: 1279.1854\n",
      "Epoch 80/500\n",
      "24/24 [==============================] - 0s 4ms/step - loss: 1349.6819 - val_loss: 1270.1689\n",
      "Epoch 81/500\n",
      "24/24 [==============================] - 0s 4ms/step - loss: 1322.3373 - val_loss: 1261.5045\n",
      "Epoch 82/500\n",
      "24/24 [==============================] - 0s 5ms/step - loss: 1295.4458 - val_loss: 1253.1882\n",
      "Epoch 83/500\n",
      "24/24 [==============================] - 0s 4ms/step - loss: 1269.0023 - val_loss: 1245.2152\n",
      "Epoch 84/500\n",
      "24/24 [==============================] - 0s 4ms/step - loss: 1243.0029 - val_loss: 1237.5811\n",
      "Epoch 85/500\n",
      "24/24 [==============================] - 0s 5ms/step - loss: 1217.4426 - val_loss: 1230.2812\n",
      "Epoch 86/500\n",
      "24/24 [==============================] - 0s 4ms/step - loss: 1192.3173 - val_loss: 1223.3113\n",
      "Epoch 87/500\n",
      "24/24 [==============================] - 0s 4ms/step - loss: 1167.6223 - val_loss: 1216.6665\n",
      "Epoch 88/500\n",
      "24/24 [==============================] - 0s 4ms/step - loss: 1143.3535 - val_loss: 1210.3431\n",
      "Epoch 89/500\n",
      "24/24 [==============================] - 0s 4ms/step - loss: 1119.5065 - val_loss: 1204.5591\n",
      "Epoch 90/500\n",
      "24/24 [==============================] - 0s 4ms/step - loss: 1092.6100 - val_loss: 1196.9415\n",
      "Epoch 91/500\n",
      "24/24 [==============================] - 0s 9ms/step - loss: 1063.9922 - val_loss: 1190.4927\n",
      "Epoch 92/500\n",
      "24/24 [==============================] - 0s 4ms/step - loss: 1037.0660 - val_loss: 1184.7085\n",
      "Epoch 93/500\n",
      "24/24 [==============================] - 0s 4ms/step - loss: 1011.5168 - val_loss: 1179.4579\n",
      "Epoch 94/500\n",
      "24/24 [==============================] - 0s 4ms/step - loss: 986.9960 - val_loss: 1174.6675\n",
      "Epoch 95/500\n",
      "24/24 [==============================] - 0s 3ms/step - loss: 963.3141 - val_loss: 1170.2937\n",
      "Epoch 96/500\n",
      "24/24 [==============================] - 0s 3ms/step - loss: 940.3610 - val_loss: 1166.3068\n",
      "Epoch 97/500\n",
      "24/24 [==============================] - 0s 5ms/step - loss: 918.0638 - val_loss: 1162.6857\n",
      "Epoch 98/500\n",
      "24/24 [==============================] - 0s 4ms/step - loss: 896.3719 - val_loss: 1159.4124\n",
      "Epoch 99/500\n",
      "24/24 [==============================] - 0s 4ms/step - loss: 875.2463 - val_loss: 1156.4731\n",
      "Epoch 100/500\n",
      "24/24 [==============================] - 0s 4ms/step - loss: 854.6574 - val_loss: 1153.8556\n",
      "Epoch 101/500\n",
      "24/24 [==============================] - 0s 4ms/step - loss: 834.5807 - val_loss: 1151.5487\n",
      "Epoch 102/500\n",
      "24/24 [==============================] - 0s 4ms/step - loss: 814.9953 - val_loss: 1149.5428\n",
      "Epoch 103/500\n",
      "24/24 [==============================] - 0s 4ms/step - loss: 795.8840 - val_loss: 1147.8291\n",
      "Epoch 104/500\n",
      "24/24 [==============================] - 0s 4ms/step - loss: 777.2311 - val_loss: 1146.3990\n",
      "Epoch 105/500\n",
      "24/24 [==============================] - 0s 4ms/step - loss: 759.0236 - val_loss: 1145.2450\n",
      "Epoch 106/500\n",
      "24/24 [==============================] - 0s 4ms/step - loss: 741.2485 - val_loss: 1144.3594\n",
      "Epoch 107/500\n",
      "24/24 [==============================] - 0s 4ms/step - loss: 723.8951 - val_loss: 1143.7351\n",
      "Epoch 108/500\n",
      "24/24 [==============================] - 0s 4ms/step - loss: 706.9530 - val_loss: 1143.3655\n",
      "Epoch 109/500\n",
      "24/24 [==============================] - 0s 4ms/step - loss: 690.4127 - val_loss: 1143.2438\n",
      "Epoch 110/500\n",
      "24/24 [==============================] - 0s 5ms/step - loss: 674.2649 - val_loss: 1143.3636\n",
      "Epoch 111/500\n",
      "24/24 [==============================] - 0s 4ms/step - loss: 658.5016 - val_loss: 1143.7189\n",
      "Epoch 112/500\n",
      "24/24 [==============================] - 0s 4ms/step - loss: 643.1146 - val_loss: 1144.3036\n",
      "Epoch 113/500\n",
      "24/24 [==============================] - 0s 3ms/step - loss: 628.0966 - val_loss: 1145.1117\n",
      "Epoch 114/500\n",
      "24/24 [==============================] - 0s 3ms/step - loss: 613.4399 - val_loss: 1146.1373\n",
      "Epoch 115/500\n",
      "24/24 [==============================] - 0s 4ms/step - loss: 599.1378 - val_loss: 1147.3746\n",
      "Epoch 116/500\n",
      "24/24 [==============================] - 0s 3ms/step - loss: 585.1833 - val_loss: 1148.8184\n",
      "Epoch 117/500\n",
      "24/24 [==============================] - 0s 4ms/step - loss: 571.5701 - val_loss: 1150.4631\n",
      "Epoch 118/500\n",
      "24/24 [==============================] - 0s 4ms/step - loss: 558.2919 - val_loss: 1152.3029\n",
      "Epoch 119/500\n",
      "24/24 [==============================] - 0s 4ms/step - loss: 545.3423 - val_loss: 1154.3325\n",
      "Epoch 120/500\n",
      "24/24 [==============================] - 0s 3ms/step - loss: 532.7156 - val_loss: 1156.5468\n",
      "Epoch 121/500\n",
      "24/24 [==============================] - 0s 4ms/step - loss: 520.4059 - val_loss: 1158.9404\n",
      "Epoch 122/500\n",
      "24/24 [==============================] - 0s 6ms/step - loss: 508.4073 - val_loss: 1161.5081\n",
      "Epoch 123/500\n",
      "24/24 [==============================] - 0s 6ms/step - loss: 496.7144 - val_loss: 1164.2446\n",
      "Epoch 124/500\n",
      "24/24 [==============================] - 0s 6ms/step - loss: 485.3217 - val_loss: 1167.1451\n",
      "Epoch 125/500\n",
      "24/24 [==============================] - 0s 5ms/step - loss: 474.2238 - val_loss: 1170.2042\n",
      "Epoch 126/500\n",
      "24/24 [==============================] - 0s 7ms/step - loss: 463.4154 - val_loss: 1173.4170\n",
      "Epoch 127/500\n",
      "24/24 [==============================] - 0s 8ms/step - loss: 452.8913 - val_loss: 1176.7784\n",
      "Epoch 128/500\n",
      "24/24 [==============================] - 0s 6ms/step - loss: 442.6463 - val_loss: 1180.2836\n",
      "Epoch 129/500\n",
      "24/24 [==============================] - 0s 4ms/step - loss: 432.6756 - val_loss: 1183.9276\n",
      "Epoch 130/500\n",
      "24/24 [==============================] - 0s 5ms/step - loss: 422.9738 - val_loss: 1187.7054\n",
      "Epoch 131/500\n",
      "24/24 [==============================] - 0s 4ms/step - loss: 413.5362 - val_loss: 1191.6125\n",
      "Epoch 132/500\n",
      "24/24 [==============================] - 0s 4ms/step - loss: 404.3580 - val_loss: 1195.6439\n",
      "Epoch 133/500\n",
      "24/24 [==============================] - 0s 4ms/step - loss: 395.4343 - val_loss: 1199.7948\n",
      "Epoch 134/500\n",
      "24/24 [==============================] - 0s 5ms/step - loss: 386.7604 - val_loss: 1204.0603\n",
      "Epoch 135/500\n",
      "24/24 [==============================] - 0s 4ms/step - loss: 378.3316 - val_loss: 1208.4358\n",
      "Epoch 136/500\n",
      "24/24 [==============================] - 0s 5ms/step - loss: 370.1432 - val_loss: 1212.9169\n",
      "Epoch 137/500\n",
      "24/24 [==============================] - 0s 4ms/step - loss: 362.1906 - val_loss: 1217.4985\n",
      "Epoch 138/500\n",
      "24/24 [==============================] - 0s 4ms/step - loss: 354.4695 - val_loss: 1222.1764\n",
      "Epoch 139/500\n",
      "24/24 [==============================] - 0s 3ms/step - loss: 346.9749 - val_loss: 1226.9457\n",
      "Epoch 140/500\n",
      "24/24 [==============================] - 0s 4ms/step - loss: 339.7027 - val_loss: 1231.8019\n",
      "Epoch 141/500\n",
      "24/24 [==============================] - 0s 4ms/step - loss: 332.6483 - val_loss: 1236.7404\n",
      "Epoch 142/500\n",
      "24/24 [==============================] - 0s 3ms/step - loss: 325.8076 - val_loss: 1241.7571\n",
      "Epoch 143/500\n",
      "24/24 [==============================] - 0s 3ms/step - loss: 319.1760 - val_loss: 1246.8472\n",
      "Epoch 144/500\n",
      "24/24 [==============================] - 0s 4ms/step - loss: 312.7491 - val_loss: 1252.0066\n",
      "Epoch 145/500\n",
      "24/24 [==============================] - 0s 3ms/step - loss: 306.5229 - val_loss: 1257.2307\n",
      "Epoch 146/500\n",
      "24/24 [==============================] - 0s 4ms/step - loss: 300.4930 - val_loss: 1262.5150\n",
      "Epoch 147/500\n",
      "24/24 [==============================] - 0s 5ms/step - loss: 294.6552 - val_loss: 1267.8553\n",
      "Epoch 148/500\n",
      "24/24 [==============================] - 0s 6ms/step - loss: 289.0055 - val_loss: 1273.2479\n",
      "Epoch 149/500\n",
      "24/24 [==============================] - 0s 7ms/step - loss: 283.5396 - val_loss: 1278.6884\n",
      "Epoch 150/500\n",
      "24/24 [==============================] - 0s 6ms/step - loss: 278.2536 - val_loss: 1284.1720\n",
      "Epoch 151/500\n",
      "24/24 [==============================] - 0s 4ms/step - loss: 273.1432 - val_loss: 1289.6951\n",
      "Epoch 152/500\n",
      "24/24 [==============================] - 0s 6ms/step - loss: 268.2047 - val_loss: 1295.2537\n",
      "Epoch 153/500\n",
      "24/24 [==============================] - 0s 7ms/step - loss: 263.4340 - val_loss: 1300.8431\n",
      "Epoch 154/500\n",
      "24/24 [==============================] - 0s 6ms/step - loss: 258.8270 - val_loss: 1306.4603\n",
      "Epoch 155/500\n",
      "24/24 [==============================] - 0s 5ms/step - loss: 254.3800 - val_loss: 1312.1013\n",
      "Epoch 156/500\n",
      "24/24 [==============================] - 0s 3ms/step - loss: 250.0891 - val_loss: 1317.7610\n",
      "Epoch 157/500\n",
      "24/24 [==============================] - 0s 4ms/step - loss: 245.9506 - val_loss: 1323.4368\n",
      "Epoch 158/500\n",
      "24/24 [==============================] - 0s 4ms/step - loss: 241.9606 - val_loss: 1329.1249\n",
      "Epoch 159/500\n",
      "24/24 [==============================] - 0s 3ms/step - loss: 238.1154 - val_loss: 1334.8204\n",
      "Epoch 160/500\n",
      "24/24 [==============================] - 0s 3ms/step - loss: 234.4114 - val_loss: 1340.5214\n",
      "Epoch 161/500\n",
      "24/24 [==============================] - 0s 4ms/step - loss: 230.8447 - val_loss: 1346.2230\n",
      "Epoch 162/500\n",
      "24/24 [==============================] - 0s 4ms/step - loss: 227.4120 - val_loss: 1351.9218\n",
      "Epoch 163/500\n",
      "24/24 [==============================] - 0s 5ms/step - loss: 224.1096 - val_loss: 1357.6147\n",
      "Epoch 164/500\n",
      "24/24 [==============================] - 0s 3ms/step - loss: 220.9339 - val_loss: 1363.2982\n",
      "Epoch 165/500\n",
      "24/24 [==============================] - 0s 5ms/step - loss: 217.8816 - val_loss: 1368.9689\n",
      "Epoch 166/500\n",
      "24/24 [==============================] - 0s 5ms/step - loss: 214.9490 - val_loss: 1374.6235\n",
      "Epoch 167/500\n",
      "24/24 [==============================] - 0s 6ms/step - loss: 212.1330 - val_loss: 1380.2587\n",
      "Epoch 168/500\n",
      "24/24 [==============================] - 0s 4ms/step - loss: 209.4300 - val_loss: 1385.8721\n",
      "Epoch 169/500\n",
      "24/24 [==============================] - 0s 4ms/step - loss: 206.8368 - val_loss: 1391.4598\n",
      "Epoch 170/500\n",
      "24/24 [==============================] - 0s 4ms/step - loss: 204.3502 - val_loss: 1397.0189\n",
      "Epoch 171/500\n",
      "24/24 [==============================] - 0s 6ms/step - loss: 201.9669 - val_loss: 1402.5468\n",
      "Epoch 172/500\n",
      "24/24 [==============================] - 0s 4ms/step - loss: 199.6839 - val_loss: 1408.0406\n",
      "Epoch 173/500\n",
      "24/24 [==============================] - 0s 3ms/step - loss: 197.4979 - val_loss: 1413.4977\n",
      "Epoch 174/500\n",
      "24/24 [==============================] - 0s 3ms/step - loss: 195.4058 - val_loss: 1418.9146\n",
      "Epoch 175/500\n",
      "24/24 [==============================] - 0s 3ms/step - loss: 193.4049 - val_loss: 1424.2897\n",
      "Epoch 176/500\n",
      "24/24 [==============================] - 0s 3ms/step - loss: 191.4920 - val_loss: 1429.6199\n",
      "Epoch 177/500\n",
      "24/24 [==============================] - 0s 4ms/step - loss: 189.6642 - val_loss: 1434.9031\n",
      "Epoch 178/500\n",
      "24/24 [==============================] - 0s 4ms/step - loss: 187.9188 - val_loss: 1440.1368\n",
      "Epoch 179/500\n",
      "24/24 [==============================] - 0s 4ms/step - loss: 186.2529 - val_loss: 1445.3184\n",
      "Epoch 180/500\n",
      "24/24 [==============================] - 0s 4ms/step - loss: 184.6637 - val_loss: 1450.4464\n",
      "Epoch 181/500\n",
      "24/24 [==============================] - 0s 5ms/step - loss: 183.1486 - val_loss: 1455.5184\n",
      "Epoch 182/500\n",
      "24/24 [==============================] - 0s 5ms/step - loss: 181.7048 - val_loss: 1460.5327\n",
      "Epoch 183/500\n",
      "24/24 [==============================] - 0s 5ms/step - loss: 180.3299 - val_loss: 1465.4867\n",
      "Epoch 184/500\n",
      "24/24 [==============================] - 0s 5ms/step - loss: 179.0213 - val_loss: 1470.3793\n",
      "Epoch 185/500\n",
      "24/24 [==============================] - 0s 4ms/step - loss: 177.7766 - val_loss: 1475.2081\n",
      "Epoch 186/500\n",
      "24/24 [==============================] - 0s 4ms/step - loss: 176.5931 - val_loss: 1479.9723\n",
      "Epoch 187/500\n",
      "24/24 [==============================] - 0s 7ms/step - loss: 175.4687 - val_loss: 1484.6694\n",
      "Epoch 188/500\n",
      "24/24 [==============================] - 0s 6ms/step - loss: 174.4011 - val_loss: 1489.2987\n",
      "Epoch 189/500\n",
      "24/24 [==============================] - 0s 5ms/step - loss: 173.3880 - val_loss: 1493.8590\n",
      "Epoch 190/500\n",
      "24/24 [==============================] - 0s 4ms/step - loss: 172.4271 - val_loss: 1498.3481\n",
      "Epoch 191/500\n",
      "24/24 [==============================] - 0s 5ms/step - loss: 171.5164 - val_loss: 1502.7653\n",
      "Epoch 192/500\n",
      "24/24 [==============================] - 0s 4ms/step - loss: 170.6537 - val_loss: 1507.1095\n",
      "Epoch 193/500\n",
      "24/24 [==============================] - 0s 4ms/step - loss: 169.8371 - val_loss: 1511.3798\n",
      "Epoch 194/500\n",
      "24/24 [==============================] - 0s 4ms/step - loss: 169.0645 - val_loss: 1515.5760\n",
      "Epoch 195/500\n",
      "24/24 [==============================] - 0s 4ms/step - loss: 168.3339 - val_loss: 1519.6962\n",
      "Epoch 196/500\n",
      "24/24 [==============================] - 0s 4ms/step - loss: 167.6437 - val_loss: 1523.7402\n",
      "Epoch 197/500\n",
      "24/24 [==============================] - 0s 4ms/step - loss: 166.9921 - val_loss: 1527.7068\n",
      "Epoch 198/500\n",
      "24/24 [==============================] - 0s 4ms/step - loss: 166.3771 - val_loss: 1531.5967\n",
      "Epoch 199/500\n",
      "24/24 [==============================] - 0s 4ms/step - loss: 165.7971 - val_loss: 1535.4080\n",
      "Epoch 200/500\n",
      "24/24 [==============================] - 0s 4ms/step - loss: 165.2505 - val_loss: 1539.1414\n",
      "Epoch 201/500\n",
      "24/24 [==============================] - 0s 3ms/step - loss: 164.7358 - val_loss: 1542.7965\n",
      "Epoch 202/500\n",
      "24/24 [==============================] - 0s 4ms/step - loss: 164.2514 - val_loss: 1546.3723\n",
      "Epoch 203/500\n",
      "24/24 [==============================] - 0s 4ms/step - loss: 163.7956 - val_loss: 1549.8698\n",
      "Epoch 204/500\n",
      "24/24 [==============================] - 0s 3ms/step - loss: 163.3673 - val_loss: 1553.2880\n",
      "Epoch 205/500\n",
      "24/24 [==============================] - 0s 4ms/step - loss: 162.9650 - val_loss: 1556.6279\n",
      "Epoch 206/500\n",
      "24/24 [==============================] - 0s 3ms/step - loss: 162.5874 - val_loss: 1559.8885\n",
      "Epoch 207/500\n",
      "24/24 [==============================] - 0s 4ms/step - loss: 162.2331 - val_loss: 1563.0709\n",
      "Epoch 208/500\n",
      "24/24 [==============================] - 0s 4ms/step - loss: 161.9011 - val_loss: 1566.1760\n",
      "Epoch 209/500\n",
      "24/24 [==============================] - 0s 4ms/step - loss: 161.5900 - val_loss: 1569.2020\n",
      "Epoch 210/500\n",
      "24/24 [==============================] - 0s 4ms/step - loss: 161.2987 - val_loss: 1572.1511\n",
      "Epoch 211/500\n",
      "24/24 [==============================] - 0s 4ms/step - loss: 161.0263 - val_loss: 1575.0233\n",
      "Epoch 212/500\n",
      "24/24 [==============================] - 0s 5ms/step - loss: 160.7716 - val_loss: 1577.8191\n",
      "Epoch 213/500\n",
      "24/24 [==============================] - 0s 4ms/step - loss: 160.5337 - val_loss: 1580.5392\n",
      "Epoch 214/500\n",
      "24/24 [==============================] - 0s 4ms/step - loss: 160.3116 - val_loss: 1583.1841\n",
      "Epoch 215/500\n",
      "24/24 [==============================] - 0s 4ms/step - loss: 160.1043 - val_loss: 1585.7545\n",
      "Epoch 216/500\n",
      "24/24 [==============================] - 0s 4ms/step - loss: 159.9111 - val_loss: 1588.2517\n",
      "Epoch 217/500\n",
      "24/24 [==============================] - 0s 6ms/step - loss: 159.7310 - val_loss: 1590.6755\n",
      "Epoch 218/500\n",
      "24/24 [==============================] - 0s 6ms/step - loss: 159.5634 - val_loss: 1593.0286\n",
      "Epoch 219/500\n",
      "24/24 [==============================] - 0s 6ms/step - loss: 159.4074 - val_loss: 1595.3094\n",
      "Epoch 220/500\n",
      "24/24 [==============================] - 0s 4ms/step - loss: 159.2623 - val_loss: 1597.5215\n",
      "Epoch 221/500\n",
      "24/24 [==============================] - 0s 4ms/step - loss: 159.1275 - val_loss: 1599.6641\n",
      "Epoch 222/500\n",
      "24/24 [==============================] - 0s 4ms/step - loss: 159.0024 - val_loss: 1601.7400\n",
      "Epoch 223/500\n",
      "24/24 [==============================] - 0s 4ms/step - loss: 158.8862 - val_loss: 1603.7482\n",
      "Epoch 224/500\n",
      "24/24 [==============================] - 0s 4ms/step - loss: 158.7785 - val_loss: 1605.6909\n",
      "Epoch 225/500\n",
      "24/24 [==============================] - 0s 4ms/step - loss: 158.6787 - val_loss: 1607.5687\n",
      "Epoch 226/500\n",
      "24/24 [==============================] - 0s 4ms/step - loss: 158.5862 - val_loss: 1609.3846\n",
      "Epoch 227/500\n",
      "24/24 [==============================] - 0s 4ms/step - loss: 158.5006 - val_loss: 1611.1372\n",
      "Epoch 228/500\n",
      "24/24 [==============================] - 0s 4ms/step - loss: 158.4214 - val_loss: 1612.8293\n",
      "Epoch 229/500\n",
      "24/24 [==============================] - 0s 5ms/step - loss: 158.3482 - val_loss: 1614.4620\n",
      "Epoch 230/500\n",
      "24/24 [==============================] - 0s 5ms/step - loss: 158.2806 - val_loss: 1616.0370\n",
      "Epoch 231/500\n",
      "24/24 [==============================] - 0s 5ms/step - loss: 158.2181 - val_loss: 1617.5544\n",
      "Epoch 232/500\n",
      "24/24 [==============================] - 0s 5ms/step - loss: 158.1605 - val_loss: 1619.0160\n",
      "Epoch 233/500\n",
      "24/24 [==============================] - 0s 6ms/step - loss: 158.1074 - val_loss: 1620.4240\n",
      "Epoch 234/500\n",
      "24/24 [==============================] - 0s 6ms/step - loss: 158.0584 - val_loss: 1621.7786\n",
      "Epoch 235/500\n",
      "24/24 [==============================] - 0s 4ms/step - loss: 158.0132 - val_loss: 1623.0814\n",
      "Epoch 236/500\n",
      "24/24 [==============================] - 0s 4ms/step - loss: 157.9717 - val_loss: 1624.3337\n",
      "Epoch 237/500\n",
      "24/24 [==============================] - 0s 5ms/step - loss: 157.9335 - val_loss: 1625.5374\n",
      "Epoch 238/500\n",
      "24/24 [==============================] - 0s 4ms/step - loss: 157.8983 - val_loss: 1626.6932\n",
      "Epoch 239/500\n",
      "24/24 [==============================] - 0s 5ms/step - loss: 157.8659 - val_loss: 1627.8031\n",
      "Epoch 240/500\n",
      "24/24 [==============================] - 0s 5ms/step - loss: 157.8363 - val_loss: 1628.8669\n",
      "Epoch 241/500\n",
      "24/24 [==============================] - 0s 5ms/step - loss: 157.8091 - val_loss: 1629.8878\n",
      "Epoch 242/500\n",
      "24/24 [==============================] - 0s 5ms/step - loss: 157.7840 - val_loss: 1630.8658\n",
      "Epoch 243/500\n",
      "24/24 [==============================] - 0s 5ms/step - loss: 157.7610 - val_loss: 1631.8031\n",
      "Epoch 244/500\n",
      "24/24 [==============================] - 0s 5ms/step - loss: 157.7401 - val_loss: 1632.6998\n",
      "Epoch 245/500\n",
      "24/24 [==============================] - 0s 6ms/step - loss: 157.7208 - val_loss: 1633.5574\n",
      "Epoch 246/500\n",
      "24/24 [==============================] - 0s 6ms/step - loss: 157.7031 - val_loss: 1634.3784\n",
      "Epoch 247/500\n",
      "24/24 [==============================] - 0s 8ms/step - loss: 157.6870 - val_loss: 1635.1637\n",
      "Epoch 248/500\n",
      "24/24 [==============================] - 0s 7ms/step - loss: 157.6722 - val_loss: 1635.9138\n",
      "Epoch 249/500\n",
      "24/24 [==============================] - 0s 5ms/step - loss: 157.6586 - val_loss: 1636.6298\n",
      "Epoch 250/500\n",
      "24/24 [==============================] - 0s 5ms/step - loss: 157.6464 - val_loss: 1637.3126\n",
      "Epoch 251/500\n",
      "24/24 [==============================] - 0s 6ms/step - loss: 157.6350 - val_loss: 1637.9648\n",
      "Epoch 252/500\n",
      "24/24 [==============================] - 0s 7ms/step - loss: 157.6248 - val_loss: 1638.5868\n",
      "Epoch 253/500\n",
      "24/24 [==============================] - 0s 5ms/step - loss: 157.6154 - val_loss: 1639.1797\n",
      "Epoch 254/500\n",
      "24/24 [==============================] - 0s 5ms/step - loss: 157.6067 - val_loss: 1639.7438\n",
      "Epoch 255/500\n",
      "24/24 [==============================] - 0s 5ms/step - loss: 157.5990 - val_loss: 1640.2825\n",
      "Epoch 256/500\n",
      "24/24 [==============================] - 0s 5ms/step - loss: 157.5918 - val_loss: 1640.7946\n",
      "Epoch 257/500\n",
      "24/24 [==============================] - 0s 5ms/step - loss: 157.5853 - val_loss: 1641.2808\n",
      "Epoch 258/500\n",
      "24/24 [==============================] - 0s 5ms/step - loss: 157.5794 - val_loss: 1641.7433\n",
      "Epoch 259/500\n",
      "24/24 [==============================] - 0s 4ms/step - loss: 157.5741 - val_loss: 1642.1831\n",
      "Epoch 260/500\n",
      "24/24 [==============================] - 0s 4ms/step - loss: 157.5692 - val_loss: 1642.6013\n",
      "Epoch 261/500\n",
      "24/24 [==============================] - 0s 4ms/step - loss: 157.5648 - val_loss: 1642.9983\n",
      "Epoch 262/500\n",
      "24/24 [==============================] - 0s 4ms/step - loss: 157.5607 - val_loss: 1643.3746\n",
      "Epoch 263/500\n",
      "24/24 [==============================] - 0s 4ms/step - loss: 157.5571 - val_loss: 1643.7319\n",
      "Epoch 264/500\n",
      "24/24 [==============================] - 0s 4ms/step - loss: 157.5538 - val_loss: 1644.0704\n",
      "Epoch 265/500\n",
      "24/24 [==============================] - 0s 4ms/step - loss: 157.5508 - val_loss: 1644.3900\n",
      "Epoch 266/500\n",
      "24/24 [==============================] - 0s 4ms/step - loss: 157.5482 - val_loss: 1644.6942\n",
      "Epoch 267/500\n",
      "24/24 [==============================] - 0s 5ms/step - loss: 157.5457 - val_loss: 1644.9816\n",
      "Epoch 268/500\n",
      "24/24 [==============================] - 0s 5ms/step - loss: 157.5436 - val_loss: 1645.2537\n",
      "Epoch 269/500\n",
      "24/24 [==============================] - 0s 5ms/step - loss: 157.5416 - val_loss: 1645.5109\n",
      "Epoch 270/500\n",
      "24/24 [==============================] - 0s 5ms/step - loss: 157.5399 - val_loss: 1645.7543\n",
      "Epoch 271/500\n",
      "24/24 [==============================] - 0s 4ms/step - loss: 157.5383 - val_loss: 1645.9841\n",
      "Epoch 272/500\n",
      "24/24 [==============================] - 0s 4ms/step - loss: 157.5369 - val_loss: 1646.2013\n",
      "Epoch 273/500\n",
      "24/24 [==============================] - 0s 5ms/step - loss: 157.5357 - val_loss: 1646.4066\n",
      "Epoch 274/500\n",
      "24/24 [==============================] - 0s 6ms/step - loss: 157.5346 - val_loss: 1646.6000\n",
      "Epoch 275/500\n",
      "24/24 [==============================] - 0s 7ms/step - loss: 157.5337 - val_loss: 1646.7831\n",
      "Epoch 276/500\n",
      "24/24 [==============================] - 0s 4ms/step - loss: 157.5328 - val_loss: 1646.9547\n",
      "Epoch 277/500\n",
      "24/24 [==============================] - 0s 4ms/step - loss: 157.5321 - val_loss: 1647.1169\n",
      "Epoch 278/500\n",
      "24/24 [==============================] - 0s 8ms/step - loss: 157.5314 - val_loss: 1647.2701\n",
      "Epoch 279/500\n",
      "24/24 [==============================] - 0s 5ms/step - loss: 157.5309 - val_loss: 1647.4138\n",
      "Epoch 280/500\n",
      "24/24 [==============================] - 0s 5ms/step - loss: 157.5305 - val_loss: 1647.5490\n",
      "Epoch 281/500\n",
      "24/24 [==============================] - 0s 4ms/step - loss: 157.5301 - val_loss: 1647.6769\n",
      "Epoch 282/500\n",
      "24/24 [==============================] - 0s 4ms/step - loss: 157.5298 - val_loss: 1647.7965\n",
      "Epoch 283/500\n",
      "24/24 [==============================] - 0s 4ms/step - loss: 157.5296 - val_loss: 1647.9088\n",
      "Epoch 284/500\n",
      "24/24 [==============================] - 0s 4ms/step - loss: 157.5294 - val_loss: 1648.0155\n",
      "Epoch 285/500\n",
      "24/24 [==============================] - 0s 4ms/step - loss: 157.5293 - val_loss: 1648.1149\n",
      "Epoch 286/500\n",
      "24/24 [==============================] - 0s 4ms/step - loss: 157.5292 - val_loss: 1648.2083\n",
      "Epoch 287/500\n",
      "24/24 [==============================] - 0s 4ms/step - loss: 157.5292 - val_loss: 1648.2957\n",
      "Epoch 288/500\n",
      "24/24 [==============================] - 0s 4ms/step - loss: 157.5292 - val_loss: 1648.3779\n",
      "Epoch 289/500\n",
      "24/24 [==============================] - 0s 4ms/step - loss: 157.5293 - val_loss: 1648.4551\n",
      "Epoch 290/500\n",
      "24/24 [==============================] - 0s 4ms/step - loss: 157.5293 - val_loss: 1648.5272\n",
      "Epoch 291/500\n",
      "24/24 [==============================] - 0s 4ms/step - loss: 157.5295 - val_loss: 1648.5952\n",
      "Epoch 292/500\n",
      "24/24 [==============================] - 0s 5ms/step - loss: 157.5296 - val_loss: 1648.6577\n",
      "Epoch 293/500\n",
      "24/24 [==============================] - 0s 5ms/step - loss: 157.5298 - val_loss: 1648.7173\n",
      "Epoch 294/500\n",
      "24/24 [==============================] - 0s 5ms/step - loss: 157.5300 - val_loss: 1648.7720\n",
      "Epoch 295/500\n",
      "24/24 [==============================] - 0s 4ms/step - loss: 157.5302 - val_loss: 1648.8239\n",
      "Epoch 296/500\n",
      "24/24 [==============================] - 0s 4ms/step - loss: 157.5305 - val_loss: 1648.8732\n",
      "Epoch 297/500\n",
      "24/24 [==============================] - 0s 4ms/step - loss: 157.5308 - val_loss: 1648.9182\n",
      "Epoch 298/500\n",
      "24/24 [==============================] - 0s 4ms/step - loss: 157.5310 - val_loss: 1648.9612\n",
      "Epoch 299/500\n",
      "24/24 [==============================] - 0s 4ms/step - loss: 157.5314 - val_loss: 1649.0009\n",
      "Epoch 300/500\n",
      "24/24 [==============================] - 0s 6ms/step - loss: 157.5316 - val_loss: 1649.0371\n",
      "Epoch 301/500\n",
      "24/24 [==============================] - 0s 6ms/step - loss: 157.5320 - val_loss: 1649.0719\n",
      "Epoch 302/500\n",
      "24/24 [==============================] - 0s 6ms/step - loss: 157.5323 - val_loss: 1649.1040\n",
      "Epoch 303/500\n",
      "24/24 [==============================] - 0s 4ms/step - loss: 157.5326 - val_loss: 1649.1342\n",
      "Epoch 304/500\n",
      "24/24 [==============================] - 0s 4ms/step - loss: 157.5330 - val_loss: 1649.1621\n",
      "Epoch 305/500\n",
      "24/24 [==============================] - 0s 4ms/step - loss: 157.5333 - val_loss: 1649.1880\n",
      "Epoch 306/500\n",
      "24/24 [==============================] - 0s 4ms/step - loss: 157.5337 - val_loss: 1649.2129\n",
      "Epoch 307/500\n",
      "24/24 [==============================] - 0s 4ms/step - loss: 157.5340 - val_loss: 1649.2347\n",
      "Epoch 308/500\n",
      "24/24 [==============================] - 0s 4ms/step - loss: 157.5344 - val_loss: 1649.2559\n",
      "Epoch 309/500\n",
      "24/24 [==============================] - 0s 3ms/step - loss: 157.5347 - val_loss: 1649.2747\n",
      "Epoch 310/500\n",
      "24/24 [==============================] - 0s 4ms/step - loss: 157.5352 - val_loss: 1649.2936\n",
      "Epoch 311/500\n",
      "24/24 [==============================] - 0s 4ms/step - loss: 157.5354 - val_loss: 1649.3104\n",
      "Epoch 312/500\n",
      "24/24 [==============================] - 0s 4ms/step - loss: 157.5359 - val_loss: 1649.3256\n",
      "Epoch 313/500\n",
      "24/24 [==============================] - 0s 3ms/step - loss: 157.5362 - val_loss: 1649.3406\n",
      "Epoch 314/500\n",
      "24/24 [==============================] - 0s 4ms/step - loss: 157.5367 - val_loss: 1649.3539\n",
      "Epoch 315/500\n",
      "24/24 [==============================] - 0s 4ms/step - loss: 157.5370 - val_loss: 1649.3662\n",
      "Epoch 316/500\n",
      "24/24 [==============================] - 0s 4ms/step - loss: 157.5374 - val_loss: 1649.3782\n",
      "Epoch 317/500\n",
      "24/24 [==============================] - 0s 5ms/step - loss: 157.5378 - val_loss: 1649.3890\n",
      "Epoch 318/500\n",
      "24/24 [==============================] - 0s 6ms/step - loss: 157.5382 - val_loss: 1649.3993\n",
      "Epoch 319/500\n",
      "24/24 [==============================] - 0s 6ms/step - loss: 157.5385 - val_loss: 1649.4081\n",
      "Epoch 320/500\n",
      "24/24 [==============================] - 0s 5ms/step - loss: 157.5389 - val_loss: 1649.4169\n",
      "Epoch 321/500\n",
      "24/24 [==============================] - 0s 5ms/step - loss: 157.5392 - val_loss: 1649.4244\n",
      "Epoch 322/500\n",
      "24/24 [==============================] - 0s 4ms/step - loss: 157.5396 - val_loss: 1649.4314\n",
      "Epoch 323/500\n",
      "24/24 [==============================] - 0s 5ms/step - loss: 157.5400 - val_loss: 1649.4385\n",
      "Epoch 324/500\n",
      "24/24 [==============================] - 0s 4ms/step - loss: 157.5403 - val_loss: 1649.4442\n",
      "Epoch 325/500\n",
      "24/24 [==============================] - 0s 11ms/step - loss: 157.5406 - val_loss: 1649.4495\n",
      "Epoch 326/500\n",
      "24/24 [==============================] - 0s 5ms/step - loss: 157.5410 - val_loss: 1649.4551\n",
      "Epoch 327/500\n",
      "24/24 [==============================] - 0s 4ms/step - loss: 157.5414 - val_loss: 1649.4598\n",
      "Epoch 328/500\n",
      "24/24 [==============================] - 0s 5ms/step - loss: 157.5417 - val_loss: 1649.4636\n",
      "Epoch 329/500\n",
      "24/24 [==============================] - 0s 4ms/step - loss: 157.5420 - val_loss: 1649.4686\n",
      "Epoch 330/500\n",
      "24/24 [==============================] - 0s 4ms/step - loss: 157.5424 - val_loss: 1649.4714\n",
      "Epoch 331/500\n",
      "24/24 [==============================] - 0s 4ms/step - loss: 157.5427 - val_loss: 1649.4745\n",
      "Epoch 332/500\n",
      "24/24 [==============================] - 0s 3ms/step - loss: 157.5431 - val_loss: 1649.4789\n",
      "Epoch 333/500\n",
      "24/24 [==============================] - 0s 4ms/step - loss: 157.5434 - val_loss: 1649.4811\n",
      "Epoch 334/500\n",
      "24/24 [==============================] - 0s 4ms/step - loss: 157.5437 - val_loss: 1649.4836\n",
      "Epoch 335/500\n",
      "24/24 [==============================] - 0s 4ms/step - loss: 157.5440 - val_loss: 1649.4856\n",
      "Epoch 336/500\n",
      "24/24 [==============================] - 0s 4ms/step - loss: 157.5444 - val_loss: 1649.4873\n",
      "Epoch 337/500\n",
      "24/24 [==============================] - 0s 4ms/step - loss: 157.5446 - val_loss: 1649.4897\n",
      "Epoch 338/500\n",
      "24/24 [==============================] - 0s 4ms/step - loss: 157.5449 - val_loss: 1649.4919\n",
      "Epoch 339/500\n",
      "24/24 [==============================] - 0s 3ms/step - loss: 157.5452 - val_loss: 1649.4934\n",
      "Epoch 340/500\n",
      "24/24 [==============================] - 0s 4ms/step - loss: 157.5455 - val_loss: 1649.4946\n",
      "Epoch 341/500\n",
      "24/24 [==============================] - 0s 4ms/step - loss: 157.5459 - val_loss: 1649.4965\n",
      "Epoch 342/500\n",
      "24/24 [==============================] - 0s 4ms/step - loss: 157.5461 - val_loss: 1649.4974\n",
      "Epoch 343/500\n",
      "24/24 [==============================] - 0s 4ms/step - loss: 157.5464 - val_loss: 1649.4991\n",
      "Epoch 344/500\n",
      "24/24 [==============================] - 0s 5ms/step - loss: 157.5466 - val_loss: 1649.4995\n",
      "Epoch 345/500\n",
      "24/24 [==============================] - 0s 4ms/step - loss: 157.5469 - val_loss: 1649.5009\n",
      "Epoch 346/500\n",
      "24/24 [==============================] - 0s 4ms/step - loss: 157.5472 - val_loss: 1649.5013\n",
      "Epoch 347/500\n",
      "24/24 [==============================] - 0s 4ms/step - loss: 157.5474 - val_loss: 1649.5026\n",
      "Epoch 348/500\n",
      "24/24 [==============================] - 0s 3ms/step - loss: 157.5477 - val_loss: 1649.5031\n",
      "Epoch 349/500\n",
      "24/24 [==============================] - 0s 4ms/step - loss: 157.5480 - val_loss: 1649.5039\n",
      "Epoch 350/500\n",
      "24/24 [==============================] - 0s 4ms/step - loss: 157.5482 - val_loss: 1649.5040\n",
      "Epoch 351/500\n",
      "24/24 [==============================] - 0s 4ms/step - loss: 157.5485 - val_loss: 1649.5043\n",
      "Epoch 352/500\n",
      "24/24 [==============================] - 0s 5ms/step - loss: 157.5486 - val_loss: 1649.5044\n",
      "Epoch 353/500\n",
      "24/24 [==============================] - 0s 4ms/step - loss: 157.5489 - val_loss: 1649.5048\n",
      "Epoch 354/500\n",
      "24/24 [==============================] - 0s 4ms/step - loss: 157.5492 - val_loss: 1649.5045\n",
      "Epoch 355/500\n",
      "24/24 [==============================] - 0s 4ms/step - loss: 157.5494 - val_loss: 1649.5049\n",
      "Epoch 356/500\n",
      "24/24 [==============================] - 0s 4ms/step - loss: 157.5496 - val_loss: 1649.5049\n",
      "Epoch 357/500\n",
      "24/24 [==============================] - 0s 4ms/step - loss: 157.5498 - val_loss: 1649.5045\n",
      "Epoch 358/500\n",
      "24/24 [==============================] - 0s 4ms/step - loss: 157.5500 - val_loss: 1649.5051\n",
      "Epoch 359/500\n",
      "24/24 [==============================] - 0s 4ms/step - loss: 157.5502 - val_loss: 1649.5052\n",
      "Epoch 360/500\n",
      "24/24 [==============================] - 0s 10ms/step - loss: 157.5504 - val_loss: 1649.5051\n",
      "Epoch 361/500\n",
      "24/24 [==============================] - 0s 5ms/step - loss: 157.5506 - val_loss: 1649.5048\n",
      "Epoch 362/500\n",
      "24/24 [==============================] - 0s 4ms/step - loss: 157.5508 - val_loss: 1649.5045\n",
      "Epoch 363/500\n",
      "24/24 [==============================] - 0s 4ms/step - loss: 157.5510 - val_loss: 1649.5043\n",
      "Epoch 364/500\n",
      "24/24 [==============================] - 0s 4ms/step - loss: 157.5512 - val_loss: 1649.5040\n",
      "Epoch 365/500\n",
      "24/24 [==============================] - 0s 4ms/step - loss: 157.5514 - val_loss: 1649.5039\n",
      "Epoch 366/500\n",
      "24/24 [==============================] - 0s 4ms/step - loss: 157.5515 - val_loss: 1649.5035\n",
      "Epoch 367/500\n",
      "24/24 [==============================] - 0s 4ms/step - loss: 157.5517 - val_loss: 1649.5034\n",
      "Epoch 368/500\n",
      "24/24 [==============================] - 0s 4ms/step - loss: 157.5519 - val_loss: 1649.5034\n",
      "Epoch 369/500\n",
      "24/24 [==============================] - 0s 4ms/step - loss: 157.5520 - val_loss: 1649.5034\n",
      "Epoch 370/500\n",
      "24/24 [==============================] - 0s 4ms/step - loss: 157.5523 - val_loss: 1649.5035\n",
      "Epoch 371/500\n",
      "24/24 [==============================] - 0s 4ms/step - loss: 157.5525 - val_loss: 1649.5034\n",
      "Epoch 372/500\n",
      "24/24 [==============================] - 0s 4ms/step - loss: 157.5526 - val_loss: 1649.5031\n",
      "Epoch 373/500\n",
      "24/24 [==============================] - 0s 4ms/step - loss: 157.5527 - val_loss: 1649.5027\n",
      "Epoch 374/500\n",
      "24/24 [==============================] - 0s 4ms/step - loss: 157.5529 - val_loss: 1649.5026\n",
      "Epoch 375/500\n",
      "24/24 [==============================] - 0s 4ms/step - loss: 157.5530 - val_loss: 1649.5026\n",
      "Epoch 376/500\n",
      "24/24 [==============================] - 0s 3ms/step - loss: 157.5531 - val_loss: 1649.5021\n",
      "Epoch 377/500\n",
      "24/24 [==============================] - 0s 4ms/step - loss: 157.5533 - val_loss: 1649.5013\n",
      "Epoch 378/500\n",
      "24/24 [==============================] - 0s 4ms/step - loss: 157.5535 - val_loss: 1649.5021\n",
      "Epoch 379/500\n",
      "24/24 [==============================] - 0s 4ms/step - loss: 157.5536 - val_loss: 1649.5021\n",
      "Epoch 380/500\n",
      "24/24 [==============================] - 0s 4ms/step - loss: 157.5536 - val_loss: 1649.5007\n",
      "Epoch 381/500\n",
      "24/24 [==============================] - 0s 4ms/step - loss: 157.5539 - val_loss: 1649.5005\n",
      "Epoch 382/500\n",
      "24/24 [==============================] - 0s 4ms/step - loss: 157.5540 - val_loss: 1649.5004\n",
      "Epoch 383/500\n",
      "24/24 [==============================] - 0s 4ms/step - loss: 157.5541 - val_loss: 1649.5004\n",
      "Epoch 384/500\n",
      "24/24 [==============================] - 0s 4ms/step - loss: 157.5542 - val_loss: 1649.5001\n",
      "Epoch 385/500\n",
      "24/24 [==============================] - 0s 8ms/step - loss: 157.5543 - val_loss: 1649.5000\n",
      "Epoch 386/500\n",
      "24/24 [==============================] - 0s 4ms/step - loss: 157.5544 - val_loss: 1649.4996\n",
      "Epoch 387/500\n",
      "24/24 [==============================] - 0s 4ms/step - loss: 157.5546 - val_loss: 1649.4995\n",
      "Epoch 388/500\n",
      "24/24 [==============================] - 0s 4ms/step - loss: 157.5547 - val_loss: 1649.4995\n",
      "Epoch 389/500\n",
      "24/24 [==============================] - 0s 4ms/step - loss: 157.5548 - val_loss: 1649.4991\n",
      "Epoch 390/500\n",
      "24/24 [==============================] - 0s 4ms/step - loss: 157.5549 - val_loss: 1649.4990\n",
      "Epoch 391/500\n",
      "24/24 [==============================] - 0s 4ms/step - loss: 157.5550 - val_loss: 1649.4991\n",
      "Epoch 392/500\n",
      "24/24 [==============================] - 0s 4ms/step - loss: 157.5551 - val_loss: 1649.4993\n",
      "Epoch 393/500\n",
      "24/24 [==============================] - 0s 4ms/step - loss: 157.5552 - val_loss: 1649.4987\n",
      "Epoch 394/500\n",
      "24/24 [==============================] - 0s 4ms/step - loss: 157.5553 - val_loss: 1649.4983\n",
      "Epoch 395/500\n",
      "24/24 [==============================] - 0s 4ms/step - loss: 157.5554 - val_loss: 1649.4977\n",
      "Epoch 396/500\n",
      "24/24 [==============================] - 0s 4ms/step - loss: 157.5555 - val_loss: 1649.4974\n",
      "Epoch 397/500\n",
      "24/24 [==============================] - 0s 4ms/step - loss: 157.5556 - val_loss: 1649.4971\n",
      "Epoch 398/500\n",
      "24/24 [==============================] - 0s 4ms/step - loss: 157.5557 - val_loss: 1649.4969\n",
      "Epoch 399/500\n",
      "24/24 [==============================] - 0s 4ms/step - loss: 157.5558 - val_loss: 1649.4966\n",
      "Epoch 400/500\n",
      "24/24 [==============================] - 0s 4ms/step - loss: 157.5558 - val_loss: 1649.4969\n",
      "Epoch 401/500\n",
      "24/24 [==============================] - 0s 4ms/step - loss: 157.5559 - val_loss: 1649.4968\n",
      "Epoch 402/500\n",
      "24/24 [==============================] - 0s 4ms/step - loss: 157.5560 - val_loss: 1649.4966\n",
      "Epoch 403/500\n",
      "24/24 [==============================] - 0s 4ms/step - loss: 157.5561 - val_loss: 1649.4965\n",
      "Epoch 404/500\n",
      "24/24 [==============================] - 0s 4ms/step - loss: 157.5561 - val_loss: 1649.4960\n",
      "Epoch 405/500\n",
      "24/24 [==============================] - 0s 4ms/step - loss: 157.5563 - val_loss: 1649.4960\n",
      "Epoch 406/500\n",
      "24/24 [==============================] - 0s 4ms/step - loss: 157.5563 - val_loss: 1649.4957\n",
      "Epoch 407/500\n",
      "24/24 [==============================] - 0s 4ms/step - loss: 157.5564 - val_loss: 1649.4956\n",
      "Epoch 408/500\n",
      "24/24 [==============================] - 0s 4ms/step - loss: 157.5565 - val_loss: 1649.4956\n",
      "Epoch 409/500\n",
      "24/24 [==============================] - 0s 4ms/step - loss: 157.5565 - val_loss: 1649.4952\n",
      "Epoch 410/500\n",
      "24/24 [==============================] - 0s 7ms/step - loss: 157.5566 - val_loss: 1649.4946\n",
      "Epoch 411/500\n",
      "24/24 [==============================] - 0s 4ms/step - loss: 157.5567 - val_loss: 1649.4949\n",
      "Epoch 412/500\n",
      "24/24 [==============================] - 0s 4ms/step - loss: 157.5567 - val_loss: 1649.4944\n",
      "Epoch 413/500\n",
      "24/24 [==============================] - 0s 4ms/step - loss: 157.5569 - val_loss: 1649.4946\n",
      "Epoch 414/500\n",
      "24/24 [==============================] - 0s 4ms/step - loss: 157.5569 - val_loss: 1649.4948\n",
      "Epoch 415/500\n",
      "24/24 [==============================] - 0s 4ms/step - loss: 157.5570 - val_loss: 1649.4948\n",
      "Epoch 416/500\n",
      "24/24 [==============================] - 0s 4ms/step - loss: 157.5570 - val_loss: 1649.4952\n",
      "Epoch 417/500\n",
      "24/24 [==============================] - 0s 4ms/step - loss: 157.5570 - val_loss: 1649.4949\n",
      "Epoch 418/500\n",
      "24/24 [==============================] - 0s 4ms/step - loss: 157.5571 - val_loss: 1649.4948\n",
      "Epoch 419/500\n",
      "24/24 [==============================] - 0s 4ms/step - loss: 157.5572 - val_loss: 1649.4943\n",
      "Epoch 420/500\n",
      "24/24 [==============================] - 0s 4ms/step - loss: 157.5572 - val_loss: 1649.4946\n",
      "Epoch 421/500\n",
      "24/24 [==============================] - 0s 4ms/step - loss: 157.5573 - val_loss: 1649.4948\n",
      "Epoch 422/500\n",
      "24/24 [==============================] - 0s 4ms/step - loss: 157.5573 - val_loss: 1649.4938\n",
      "Epoch 423/500\n",
      "24/24 [==============================] - 0s 4ms/step - loss: 157.5574 - val_loss: 1649.4933\n",
      "Epoch 424/500\n",
      "24/24 [==============================] - 0s 4ms/step - loss: 157.5575 - val_loss: 1649.4935\n",
      "Epoch 425/500\n",
      "24/24 [==============================] - 0s 4ms/step - loss: 157.5575 - val_loss: 1649.4939\n",
      "Epoch 426/500\n",
      "24/24 [==============================] - 0s 4ms/step - loss: 157.5575 - val_loss: 1649.4935\n",
      "Epoch 427/500\n",
      "24/24 [==============================] - 0s 4ms/step - loss: 157.5576 - val_loss: 1649.4930\n",
      "Epoch 428/500\n",
      "24/24 [==============================] - 0s 4ms/step - loss: 157.5576 - val_loss: 1649.4930\n",
      "Epoch 429/500\n",
      "24/24 [==============================] - 0s 4ms/step - loss: 157.5576 - val_loss: 1649.4930\n",
      "Epoch 430/500\n",
      "24/24 [==============================] - 0s 4ms/step - loss: 157.5577 - val_loss: 1649.4930\n",
      "Epoch 431/500\n",
      "24/24 [==============================] - 0s 4ms/step - loss: 157.5577 - val_loss: 1649.4930\n",
      "Epoch 432/500\n",
      "24/24 [==============================] - 0s 4ms/step - loss: 157.5578 - val_loss: 1649.4930\n",
      "Epoch 433/500\n",
      "24/24 [==============================] - 0s 4ms/step - loss: 157.5578 - val_loss: 1649.4927\n",
      "Epoch 434/500\n",
      "24/24 [==============================] - 0s 4ms/step - loss: 157.5578 - val_loss: 1649.4922\n",
      "Epoch 435/500\n",
      "24/24 [==============================] - 0s 7ms/step - loss: 157.5579 - val_loss: 1649.4919\n",
      "Epoch 436/500\n",
      "24/24 [==============================] - 0s 4ms/step - loss: 157.5579 - val_loss: 1649.4919\n",
      "Epoch 437/500\n",
      "24/24 [==============================] - 0s 4ms/step - loss: 157.5580 - val_loss: 1649.4916\n",
      "Epoch 438/500\n",
      "24/24 [==============================] - 0s 4ms/step - loss: 157.5580 - val_loss: 1649.4916\n",
      "Epoch 439/500\n",
      "24/24 [==============================] - 0s 4ms/step - loss: 157.5580 - val_loss: 1649.4907\n",
      "Epoch 440/500\n",
      "24/24 [==============================] - 0s 4ms/step - loss: 157.5580 - val_loss: 1649.4906\n",
      "Epoch 441/500\n",
      "24/24 [==============================] - 0s 4ms/step - loss: 157.5581 - val_loss: 1649.4906\n",
      "Epoch 442/500\n",
      "24/24 [==============================] - 0s 4ms/step - loss: 157.5582 - val_loss: 1649.4911\n",
      "Epoch 443/500\n",
      "24/24 [==============================] - 0s 4ms/step - loss: 157.5582 - val_loss: 1649.4913\n",
      "Epoch 444/500\n",
      "24/24 [==============================] - 0s 4ms/step - loss: 157.5582 - val_loss: 1649.4908\n",
      "Epoch 445/500\n",
      "24/24 [==============================] - 0s 4ms/step - loss: 157.5582 - val_loss: 1649.4908\n",
      "Epoch 446/500\n",
      "24/24 [==============================] - 0s 4ms/step - loss: 157.5582 - val_loss: 1649.4902\n",
      "Epoch 447/500\n",
      "24/24 [==============================] - 0s 4ms/step - loss: 157.5582 - val_loss: 1649.4895\n",
      "Epoch 448/500\n",
      "24/24 [==============================] - 0s 4ms/step - loss: 157.5583 - val_loss: 1649.4889\n",
      "Epoch 449/500\n",
      "24/24 [==============================] - 0s 4ms/step - loss: 157.5584 - val_loss: 1649.4890\n",
      "Epoch 450/500\n",
      "24/24 [==============================] - 0s 4ms/step - loss: 157.5583 - val_loss: 1649.4886\n",
      "Epoch 451/500\n",
      "24/24 [==============================] - 0s 4ms/step - loss: 157.5584 - val_loss: 1649.4884\n",
      "Epoch 452/500\n",
      "24/24 [==============================] - 0s 4ms/step - loss: 157.5584 - val_loss: 1649.4885\n",
      "Epoch 453/500\n",
      "24/24 [==============================] - 0s 4ms/step - loss: 157.5584 - val_loss: 1649.4882\n",
      "Epoch 454/500\n",
      "24/24 [==============================] - 0s 3ms/step - loss: 157.5585 - val_loss: 1649.4882\n",
      "Epoch 455/500\n",
      "24/24 [==============================] - 0s 4ms/step - loss: 157.5585 - val_loss: 1649.4884\n",
      "Epoch 456/500\n",
      "24/24 [==============================] - 0s 4ms/step - loss: 157.5585 - val_loss: 1649.4884\n",
      "Epoch 457/500\n",
      "24/24 [==============================] - 0s 4ms/step - loss: 157.5586 - val_loss: 1649.4885\n",
      "Epoch 458/500\n",
      "24/24 [==============================] - 0s 9ms/step - loss: 157.5586 - val_loss: 1649.4894\n",
      "Epoch 459/500\n",
      "24/24 [==============================] - 0s 4ms/step - loss: 157.5586 - val_loss: 1649.4897\n",
      "Epoch 460/500\n",
      "24/24 [==============================] - 0s 4ms/step - loss: 157.5587 - val_loss: 1649.4900\n",
      "Epoch 461/500\n",
      "24/24 [==============================] - 0s 4ms/step - loss: 157.5586 - val_loss: 1649.4899\n",
      "Epoch 462/500\n",
      "24/24 [==============================] - 0s 4ms/step - loss: 157.5586 - val_loss: 1649.4899\n",
      "Epoch 463/500\n",
      "24/24 [==============================] - 0s 4ms/step - loss: 157.5587 - val_loss: 1649.4895\n",
      "Epoch 464/500\n",
      "24/24 [==============================] - 0s 4ms/step - loss: 157.5587 - val_loss: 1649.4890\n",
      "Epoch 465/500\n",
      "24/24 [==============================] - 0s 5ms/step - loss: 157.5587 - val_loss: 1649.4891\n",
      "Epoch 466/500\n",
      "24/24 [==============================] - 0s 4ms/step - loss: 157.5587 - val_loss: 1649.4890\n",
      "Epoch 467/500\n",
      "24/24 [==============================] - 0s 4ms/step - loss: 157.5587 - val_loss: 1649.4878\n",
      "Epoch 468/500\n",
      "24/24 [==============================] - 0s 4ms/step - loss: 157.5588 - val_loss: 1649.4873\n",
      "Epoch 469/500\n",
      "24/24 [==============================] - 0s 4ms/step - loss: 157.5588 - val_loss: 1649.4872\n",
      "Epoch 470/500\n",
      "24/24 [==============================] - 0s 4ms/step - loss: 157.5588 - val_loss: 1649.4872\n",
      "Epoch 471/500\n",
      "24/24 [==============================] - 0s 4ms/step - loss: 157.5589 - val_loss: 1649.4872\n",
      "Epoch 472/500\n",
      "24/24 [==============================] - 0s 4ms/step - loss: 157.5589 - val_loss: 1649.4875\n",
      "Epoch 473/500\n",
      "24/24 [==============================] - 0s 4ms/step - loss: 157.5589 - val_loss: 1649.4884\n",
      "Epoch 474/500\n",
      "24/24 [==============================] - 0s 4ms/step - loss: 157.5589 - val_loss: 1649.4880\n",
      "Epoch 475/500\n",
      "24/24 [==============================] - 0s 4ms/step - loss: 157.5589 - val_loss: 1649.4878\n",
      "Epoch 476/500\n",
      "24/24 [==============================] - 0s 4ms/step - loss: 157.5589 - val_loss: 1649.4878\n",
      "Epoch 477/500\n",
      "24/24 [==============================] - 0s 4ms/step - loss: 157.5589 - val_loss: 1649.4880\n",
      "Epoch 478/500\n",
      "24/24 [==============================] - 0s 4ms/step - loss: 157.5589 - val_loss: 1649.4882\n",
      "Epoch 479/500\n",
      "24/24 [==============================] - 0s 3ms/step - loss: 157.5589 - val_loss: 1649.4882\n",
      "Epoch 480/500\n",
      "24/24 [==============================] - 0s 7ms/step - loss: 157.5589 - val_loss: 1649.4878\n",
      "Epoch 481/500\n",
      "24/24 [==============================] - 0s 5ms/step - loss: 157.5589 - val_loss: 1649.4875\n",
      "Epoch 482/500\n",
      "24/24 [==============================] - 0s 4ms/step - loss: 157.5589 - val_loss: 1649.4865\n",
      "Epoch 483/500\n",
      "24/24 [==============================] - 0s 4ms/step - loss: 157.5589 - val_loss: 1649.4858\n",
      "Epoch 484/500\n",
      "24/24 [==============================] - 0s 4ms/step - loss: 157.5590 - val_loss: 1649.4856\n",
      "Epoch 485/500\n",
      "24/24 [==============================] - 0s 4ms/step - loss: 157.5590 - val_loss: 1649.4855\n",
      "Epoch 486/500\n",
      "24/24 [==============================] - 0s 3ms/step - loss: 157.5590 - val_loss: 1649.4854\n",
      "Epoch 487/500\n",
      "24/24 [==============================] - 0s 4ms/step - loss: 157.5590 - val_loss: 1649.4847\n",
      "Epoch 488/500\n",
      "24/24 [==============================] - 0s 4ms/step - loss: 157.5590 - val_loss: 1649.4846\n",
      "Epoch 489/500\n",
      "24/24 [==============================] - 0s 4ms/step - loss: 157.5590 - val_loss: 1649.4840\n",
      "Epoch 490/500\n",
      "24/24 [==============================] - 0s 4ms/step - loss: 157.5591 - val_loss: 1649.4838\n",
      "Epoch 491/500\n",
      "24/24 [==============================] - 0s 4ms/step - loss: 157.5591 - val_loss: 1649.4836\n",
      "Epoch 492/500\n",
      "24/24 [==============================] - 0s 4ms/step - loss: 157.5591 - val_loss: 1649.4834\n",
      "Epoch 493/500\n",
      "24/24 [==============================] - 0s 4ms/step - loss: 157.5591 - val_loss: 1649.4834\n",
      "Epoch 494/500\n",
      "24/24 [==============================] - 0s 4ms/step - loss: 157.5592 - val_loss: 1649.4838\n",
      "Epoch 495/500\n",
      "24/24 [==============================] - 0s 4ms/step - loss: 157.5592 - val_loss: 1649.4847\n",
      "Epoch 496/500\n",
      "24/24 [==============================] - 0s 4ms/step - loss: 157.5592 - val_loss: 1649.4847\n",
      "Epoch 497/500\n",
      "24/24 [==============================] - 0s 9ms/step - loss: 157.5592 - val_loss: 1649.4847\n",
      "Epoch 498/500\n",
      "24/24 [==============================] - 0s 4ms/step - loss: 157.5592 - val_loss: 1649.4850\n",
      "Epoch 499/500\n",
      "24/24 [==============================] - 0s 4ms/step - loss: 157.5592 - val_loss: 1649.4846\n",
      "Epoch 500/500\n",
      "24/24 [==============================] - 0s 4ms/step - loss: 157.5592 - val_loss: 1649.4841\n"
     ]
    }
   ],
   "source": [
    "C0 = tf.Variable(88.0403, name=\"C0\", trainable=True, dtype=tf.float32)\n",
    "K0 = tf.Variable(-0.0012, name=\"K0\", trainable=True, dtype=tf.float32)\n",
    "K1 = tf.Variable(-0.0001, name=\"K1\", trainable=True, dtype=tf.float32)\n",
    "a = tf.Variable(0.0000, name=\"a\", trainable=True, dtype=tf.float32)\n",
    "b = tf.Variable(0.0120, name=\"b\", trainable=True, dtype=tf.float32)\n",
    "c = tf.Variable(2.0334, name=\"c\", trainable=True, dtype=tf.float32)\n",
    "\n",
    "splitr = 0.8\n",
    "\n",
    "\n",
    "def loss_fn(y_true, y_pred):\n",
    "    squared_difference = tf.square(y_true[:, 0] - y_pred[:, 0])\n",
    "    #squared_difference2 = tf.square(y_true[:, 2]-y_pred[:, 2])\n",
    "    #squared_difference1 = tf.square(y_true[:, 1]-y_pred[:, 1])\n",
    "    epsilon = 1\n",
    "    squared_difference3 = tf.square(\n",
    "        y_pred[:, 1] - (\n",
    "            y_pred[:, 0] * (\n",
    "                K0 - K1 * (\n",
    "                    9 * a * tf.math.log((y_pred[:, 0] + epsilon) / C0) / (K0 - K1 * c)**2 +\n",
    "                    4 * b * tf.math.log((y_pred[:, 0] + epsilon) / C0) / (K0 - K1 * c) + c\n",
    "                )\n",
    "            )\n",
    "        )\n",
    "    )\n",
    "    return tf.reduce_mean(squared_difference, axis=-1) + 0.2*tf.reduce_mean(squared_difference3, axis=-1)\n",
    "model = Sequential()\n",
    "model.add(LSTM(100, input_shape=(trainX.shape[1], trainX.shape[2])))\n",
    "model.add(Dense(60))\n",
    "model.compile(loss=loss_fn, optimizer='adam')\n",
    "history = model.fit(trainX[:int(splitr*trainX.shape[0])], trainy[:int(splitr*trainX.shape[0])], epochs=500, batch_size=64, validation_data=(trainX[int(splitr*trainX.shape[0]):trainX.shape[0]], trainy[int(splitr*trainX.shape[0]):trainX.shape[0]]), shuffle=False)"
   ]
  },
  {
   "cell_type": "code",
   "execution_count": 19,
   "metadata": {
    "colab": {
     "base_uri": "https://localhost:8080/"
    },
    "id": "yJL101rPyuoT",
    "outputId": "239ff2b1-c186-423a-d316-939dfdd7c793"
   },
   "outputs": [
    {
     "name": "stdout",
     "output_type": "stream",
     "text": [
      "1/1 [==============================] - 0s 355ms/step\n"
     ]
    }
   ],
   "source": [
    "forecast_without_mc = forecastX\n",
    "yhat_without_mc = model.predict(forecast_without_mc) # Step Ahead Prediction\n",
    "forecast_without_mc = forecast_without_mc.reshape((forecast_without_mc.shape[0], forecast_without_mc.shape[2])) # Historical Input"
   ]
  },
  {
   "cell_type": "code",
   "execution_count": 20,
   "metadata": {
    "colab": {
     "base_uri": "https://localhost:8080/"
    },
    "id": "g9dQELcJ8wbp",
    "outputId": "4dc7671b-b1a8-48d5-8744-a86f98446109"
   },
   "outputs": [
    {
     "data": {
      "text/plain": [
       "(1, 1, 251)"
      ]
     },
     "execution_count": 20,
     "metadata": {},
     "output_type": "execute_result"
    }
   ],
   "source": [
    "forecastX.shape"
   ]
  },
  {
   "cell_type": "code",
   "execution_count": 21,
   "metadata": {
    "colab": {
     "base_uri": "https://localhost:8080/"
    },
    "id": "IS2kyIKG1Kbr",
    "outputId": "f31b3485-8e26-452f-9298-ea8bf7e80ad1"
   },
   "outputs": [
    {
     "data": {
      "text/plain": [
       "(1, 251)"
      ]
     },
     "execution_count": 21,
     "metadata": {},
     "output_type": "execute_result"
    }
   ],
   "source": [
    "forecast_without_mc.shape"
   ]
  },
  {
   "cell_type": "code",
   "execution_count": 22,
   "metadata": {
    "id": "0u6VIzaDyuoT"
   },
   "outputs": [],
   "source": [
    "inv_yhat_without_mc = np.concatenate((forecast_without_mc, yhat_without_mc), axis=1) # Concatenation of predicted values with Historical Data\n",
    "#inv_yhat_without_mc = scaler.inverse_transform(inv_yhat_without_mc) # Transform labels back to original encoding"
   ]
  },
  {
   "cell_type": "code",
   "execution_count": 23,
   "metadata": {
    "colab": {
     "base_uri": "https://localhost:8080/"
    },
    "id": "EUEcw0LX07oU",
    "outputId": "cfc32397-9c37-4b43-d087-584bb31c3dcc"
   },
   "outputs": [
    {
     "data": {
      "text/plain": [
       "(1, 311)"
      ]
     },
     "execution_count": 23,
     "metadata": {},
     "output_type": "execute_result"
    }
   ],
   "source": [
    "inv_yhat_without_mc.shape"
   ]
  },
  {
   "cell_type": "code",
   "execution_count": 24,
   "metadata": {
    "id": "31OWVbSh_305"
   },
   "outputs": [],
   "source": [
    "fforecast = inv_yhat_without_mc[:,-300:]"
   ]
  },
  {
   "cell_type": "code",
   "execution_count": 25,
   "metadata": {},
   "outputs": [
    {
     "data": {
      "text/plain": [
       "(1, 300)"
      ]
     },
     "execution_count": 25,
     "metadata": {},
     "output_type": "execute_result"
    }
   ],
   "source": [
    "fforecast.shape"
   ]
  },
  {
   "cell_type": "code",
   "execution_count": 26,
   "metadata": {
    "id": "BlpGH2FOAiRF"
   },
   "outputs": [],
   "source": [
    "final_forecast = fforecast[:,0:300:3]"
   ]
  },
  {
   "cell_type": "code",
   "execution_count": 27,
   "metadata": {},
   "outputs": [
    {
     "data": {
      "text/plain": [
       "(1, 300)"
      ]
     },
     "execution_count": 27,
     "metadata": {},
     "output_type": "execute_result"
    }
   ],
   "source": [
    "fforecast.shape"
   ]
  },
  {
   "cell_type": "code",
   "execution_count": 28,
   "metadata": {
    "id": "CXkgkj_LBk_t"
   },
   "outputs": [],
   "source": [
    "# code to replace all negative value with 0\n",
    "final_forecast[final_forecast<0] = 0"
   ]
  },
  {
   "cell_type": "code",
   "execution_count": 29,
   "metadata": {},
   "outputs": [
    {
     "data": {
      "text/plain": [
       "array([[7.45021615e+01, 7.44366153e+01, 7.43710691e+01, 7.43055229e+01,\n",
       "        7.89629211e+01, 7.13987590e-01, 0.00000000e+00, 0.00000000e+00,\n",
       "        5.95861490e-01, 2.44051470e-01, 0.00000000e+00, 7.39923120e-01,\n",
       "        0.00000000e+00, 7.28577731e+01, 7.27485294e+01, 7.26392857e+01,\n",
       "        7.25300420e+01, 7.24573529e+01, 7.53514519e+01, 7.51144771e+01,\n",
       "        7.48775023e+01, 7.46405275e+01, 7.45167274e+01, 7.44511811e+01,\n",
       "        7.43856349e+01, 7.43200887e+01, 7.42125817e+01, 0.00000000e+00,\n",
       "        0.00000000e+00, 7.45434314e+01, 7.44778852e+01, 7.44123389e+01,\n",
       "        7.43467927e+01, 7.42639356e+01, 7.41378852e+01, 7.40118347e+01,\n",
       "        7.38857843e+01, 7.36953081e+01, 0.00000000e+00, 0.00000000e+00,\n",
       "        0.00000000e+00, 0.00000000e+00, 0.00000000e+00, 5.38458010e-02,\n",
       "        0.00000000e+00, 4.24088746e-01, 0.00000000e+00, 7.43346545e+01,\n",
       "        7.42405929e+01, 2.03825940e-01, 3.15012340e-01, 7.45579972e+01,\n",
       "        7.44924510e+01, 7.44269048e+01, 7.43613585e+01, 7.42919468e+01,\n",
       "        7.41658964e+01, 7.40398459e+01, 7.39137955e+01, 7.37681372e+01,\n",
       "        0.00000000e+00, 0.00000000e+00, 7.43225163e+01, 7.42172502e+01,\n",
       "        7.40911998e+01, 7.39651494e+01, 7.38390990e+01, 7.35739262e+01,\n",
       "        7.32461951e+01, 7.29184640e+01, 7.25907330e+01, 9.50655500e-02,\n",
       "        0.00000000e+00, 6.93809586e+01, 8.27442300e-02, 0.00000000e+00,\n",
       "        6.12963200e-01, 2.98626840e-01, 0.00000000e+00, 1.89379860e-01,\n",
       "        6.78012161e+01, 0.00000000e+00, 7.30226278e-01, 0.00000000e+00,\n",
       "        6.81534052e-01, 0.00000000e+00, 7.81680271e-02, 1.88618451e-01,\n",
       "        1.82531565e-01, 0.00000000e+00, 2.99296409e-01, 3.43640864e-01,\n",
       "        2.53875822e-01, 1.20558865e-01, 4.08220649e-01, 5.49755991e-01,\n",
       "        2.26634368e-01, 3.69677514e-01, 6.74163476e-02, 0.00000000e+00]])"
      ]
     },
     "execution_count": 29,
     "metadata": {},
     "output_type": "execute_result"
    }
   ],
   "source": [
    "final_forecast"
   ]
  },
  {
   "cell_type": "code",
   "execution_count": 30,
   "metadata": {},
   "outputs": [
    {
     "data": {
      "text/plain": [
       "(1, 100)"
      ]
     },
     "execution_count": 30,
     "metadata": {},
     "output_type": "execute_result"
    }
   ],
   "source": [
    "final_forecast.shape"
   ]
  },
  {
   "cell_type": "code",
   "execution_count": 31,
   "metadata": {},
   "outputs": [
    {
     "data": {
      "text/plain": [
       "(100,)"
      ]
     },
     "execution_count": 31,
     "metadata": {},
     "output_type": "execute_result"
    }
   ],
   "source": [
    "test.shape"
   ]
  },
  {
   "cell_type": "code",
   "execution_count": 32,
   "metadata": {},
   "outputs": [],
   "source": [
    "training_set = np.array(training_set)\n",
    "test = np.array(test)\n",
    "final_forecast = np.array(final_forecast.squeeze(0))"
   ]
  },
  {
   "cell_type": "code",
   "execution_count": 33,
   "metadata": {},
   "outputs": [
    {
     "data": {
      "text/plain": [
       "array([68.25080276, 68.24451732, 68.23823188, 68.23194644, 68.225661  ,\n",
       "       68.21937556, 68.21309011, 68.20680467, 68.20051923, 68.19423379,\n",
       "       68.18794835, 68.18166291, 68.17537747, 68.16909203, 68.16280659,\n",
       "       68.15652115, 68.1502357 , 68.14395026, 68.13766482, 68.13137938,\n",
       "       68.12509394, 68.1188085 , 68.11252306, 68.10623762, 68.09995218,\n",
       "       68.09366673, 68.08738129, 68.08109585, 68.07481041, 68.06852497,\n",
       "       68.06223953, 68.05595409, 68.04966865, 68.04338321, 68.03709777,\n",
       "       68.03081232, 68.02452688, 68.01824144, 68.011956  , 68.00567056,\n",
       "       67.99938512, 67.99309968, 67.98681424, 67.9805288 , 67.97424336,\n",
       "       67.96795791, 67.96167247, 67.95538703, 67.94910159, 67.94281615,\n",
       "       67.93653071, 67.93024527, 67.92395983, 67.91767439, 67.91138895,\n",
       "       67.9051035 , 67.89881806, 67.89253262, 67.88624718, 67.87996174,\n",
       "       67.8736763 , 67.86739086, 67.86110542, 67.85481998, 67.84853454,\n",
       "       67.84224909, 67.83596365, 67.82967821, 67.82339277, 67.81710733,\n",
       "       67.81082189, 67.80453645, 67.79825101, 67.79196557, 67.78568013,\n",
       "       67.77939468, 67.77310924, 67.7668238 , 67.76053836, 67.75425292,\n",
       "       67.74796748, 67.74168204, 67.7353966 , 67.72911116, 67.72282572,\n",
       "       67.71654027, 67.71025483, 67.70396939, 67.69768395, 67.69139851,\n",
       "       67.68511307, 67.67882763, 67.67254219, 67.66625675, 67.65997131,\n",
       "       67.65368586, 67.64740042, 67.64111498, 67.63482954, 67.6285441 ])"
      ]
     },
     "execution_count": 33,
     "metadata": {},
     "output_type": "execute_result"
    }
   ],
   "source": [
    "test"
   ]
  },
  {
   "cell_type": "code",
   "execution_count": 34,
   "metadata": {},
   "outputs": [
    {
     "data": {
      "text/plain": [
       "(100,)"
      ]
     },
     "execution_count": 34,
     "metadata": {},
     "output_type": "execute_result"
    }
   ],
   "source": [
    "test.shape"
   ]
  },
  {
   "cell_type": "code",
   "execution_count": 35,
   "metadata": {},
   "outputs": [
    {
     "data": {
      "text/plain": [
       "(100,)"
      ]
     },
     "execution_count": 35,
     "metadata": {},
     "output_type": "execute_result"
    }
   ],
   "source": [
    "final_forecast.shape"
   ]
  },
  {
   "cell_type": "code",
   "execution_count": 36,
   "metadata": {},
   "outputs": [
    {
     "data": {
      "text/plain": [
       "(100,)"
      ]
     },
     "execution_count": 36,
     "metadata": {},
     "output_type": "execute_result"
    }
   ],
   "source": [
    "test.shape"
   ]
  },
  {
   "cell_type": "code",
   "execution_count": 37,
   "metadata": {},
   "outputs": [
    {
     "name": "stdout",
     "output_type": "stream",
     "text": [
      "48.05550449472461\n",
      "36.799128467654434\n"
     ]
    }
   ],
   "source": [
    "import math\n",
    "MSE = np.square(np.subtract(np.array(test),np.array(final_forecast))).mean()   \n",
    "rsme = math.sqrt(MSE)\n",
    "print(rsme)  \n",
    "MAE = np.abs(np.subtract(np.array(test),np.array(final_forecast))).mean()   \n",
    "mae = MAE\n",
    "print(mae)"
   ]
  }
 ],
 "metadata": {
  "colab": {
   "provenance": []
  },
  "kernelspec": {
   "display_name": "Python 3",
   "language": "python",
   "name": "python3"
  },
  "language_info": {
   "codemirror_mode": {
    "name": "ipython",
    "version": 3
   },
   "file_extension": ".py",
   "mimetype": "text/x-python",
   "name": "python",
   "nbconvert_exporter": "python",
   "pygments_lexer": "ipython3",
   "version": "3.9.13"
  }
 },
 "nbformat": 4,
 "nbformat_minor": 0
}
